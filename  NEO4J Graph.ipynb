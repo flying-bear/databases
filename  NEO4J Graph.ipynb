{
 "cells": [
  {
   "cell_type": "markdown",
   "metadata": {},
   "source": [
    "# Let us read the network\n",
    "### [About the network](http://tolstoy.online)"
   ]
  },
  {
   "cell_type": "code",
   "execution_count": 1,
   "metadata": {},
   "outputs": [],
   "source": [
    "import pandas as pd\n",
    "\n",
    "from neo4j import GraphDatabase"
   ]
  },
  {
   "cell_type": "code",
   "execution_count": 2,
   "metadata": {},
   "outputs": [
    {
     "data": {
      "text/html": [
       "<div>\n",
       "<style scoped>\n",
       "    .dataframe tbody tr th:only-of-type {\n",
       "        vertical-align: middle;\n",
       "    }\n",
       "\n",
       "    .dataframe tbody tr th {\n",
       "        vertical-align: top;\n",
       "    }\n",
       "\n",
       "    .dataframe thead th {\n",
       "        text-align: right;\n",
       "    }\n",
       "</style>\n",
       "<table border=\"1\" class=\"dataframe\">\n",
       "  <thead>\n",
       "    <tr style=\"text-align: right;\">\n",
       "      <th></th>\n",
       "      <th>Source</th>\n",
       "      <th>Target</th>\n",
       "      <th>Type</th>\n",
       "      <th>Label</th>\n",
       "      <th>timeset</th>\n",
       "      <th>Weight</th>\n",
       "    </tr>\n",
       "    <tr>\n",
       "      <th>Id</th>\n",
       "      <th></th>\n",
       "      <th></th>\n",
       "      <th></th>\n",
       "      <th></th>\n",
       "      <th></th>\n",
       "      <th></th>\n",
       "    </tr>\n",
       "  </thead>\n",
       "  <tbody>\n",
       "    <tr>\n",
       "      <td>5509</td>\n",
       "      <td>Yakov_Alpatych</td>\n",
       "      <td>Nikolai_Rostov</td>\n",
       "      <td>Directed</td>\n",
       "      <td>NaN</td>\n",
       "      <td>NaN</td>\n",
       "      <td>5</td>\n",
       "    </tr>\n",
       "    <tr>\n",
       "      <td>5510</td>\n",
       "      <td>AndreyBolkonsky</td>\n",
       "      <td>Prince_Dolgorukov</td>\n",
       "      <td>Directed</td>\n",
       "      <td>NaN</td>\n",
       "      <td>NaN</td>\n",
       "      <td>11</td>\n",
       "    </tr>\n",
       "    <tr>\n",
       "      <td>5511</td>\n",
       "      <td>Nikolai_Rostov</td>\n",
       "      <td>Count_Ilya_Rostov</td>\n",
       "      <td>Directed</td>\n",
       "      <td>NaN</td>\n",
       "      <td>NaN</td>\n",
       "      <td>12</td>\n",
       "    </tr>\n",
       "    <tr>\n",
       "      <td>5512</td>\n",
       "      <td>приказный23_3_3_</td>\n",
       "      <td>полицеймейстер23_3_3_</td>\n",
       "      <td>Directed</td>\n",
       "      <td>NaN</td>\n",
       "      <td>NaN</td>\n",
       "      <td>2</td>\n",
       "    </tr>\n",
       "    <tr>\n",
       "      <td>6708</td>\n",
       "      <td>Prince_Nikolay_Bolkonsky</td>\n",
       "      <td>2</td>\n",
       "      <td>Directed</td>\n",
       "      <td>NaN</td>\n",
       "      <td>NaN</td>\n",
       "      <td>3</td>\n",
       "    </tr>\n",
       "  </tbody>\n",
       "</table>\n",
       "</div>"
      ],
      "text/plain": [
       "                        Source                 Target      Type  Label  \\\n",
       "Id                                                                       \n",
       "5509            Yakov_Alpatych         Nikolai_Rostov  Directed    NaN   \n",
       "5510           AndreyBolkonsky      Prince_Dolgorukov  Directed    NaN   \n",
       "5511            Nikolai_Rostov      Count_Ilya_Rostov  Directed    NaN   \n",
       "5512          приказный23_3_3_  полицеймейстер23_3_3_  Directed    NaN   \n",
       "6708  Prince_Nikolay_Bolkonsky                      2  Directed    NaN   \n",
       "\n",
       "      timeset  Weight  \n",
       "Id                     \n",
       "5509      NaN       5  \n",
       "5510      NaN      11  \n",
       "5511      NaN      12  \n",
       "5512      NaN       2  \n",
       "6708      NaN       3  "
      ]
     },
     "execution_count": 2,
     "metadata": {},
     "output_type": "execute_result"
    }
   ],
   "source": [
    "wap = pd.read_csv('war_and_peace_network.csv', index_col='Id')\n",
    "wap.head()"
   ]
  },
  {
   "cell_type": "markdown",
   "metadata": {},
   "source": [
    "it seems like some columns are not informative"
   ]
  },
  {
   "cell_type": "code",
   "execution_count": 3,
   "metadata": {},
   "outputs": [
    {
     "data": {
      "text/plain": [
       "array(['Directed'], dtype=object)"
      ]
     },
     "execution_count": 3,
     "metadata": {},
     "output_type": "execute_result"
    }
   ],
   "source": [
    "wap.Type.unique()"
   ]
  },
  {
   "cell_type": "code",
   "execution_count": 4,
   "metadata": {},
   "outputs": [
    {
     "data": {
      "text/plain": [
       "array([nan])"
      ]
     },
     "execution_count": 4,
     "metadata": {},
     "output_type": "execute_result"
    }
   ],
   "source": [
    "wap.Label.unique()"
   ]
  },
  {
   "cell_type": "code",
   "execution_count": 5,
   "metadata": {},
   "outputs": [
    {
     "data": {
      "text/plain": [
       "array([nan])"
      ]
     },
     "execution_count": 5,
     "metadata": {},
     "output_type": "execute_result"
    }
   ],
   "source": [
    "wap.timeset.unique()"
   ]
  },
  {
   "cell_type": "markdown",
   "metadata": {},
   "source": [
    "they are not, so we can drop them"
   ]
  },
  {
   "cell_type": "code",
   "execution_count": 6,
   "metadata": {},
   "outputs": [
    {
     "data": {
      "text/html": [
       "<div>\n",
       "<style scoped>\n",
       "    .dataframe tbody tr th:only-of-type {\n",
       "        vertical-align: middle;\n",
       "    }\n",
       "\n",
       "    .dataframe tbody tr th {\n",
       "        vertical-align: top;\n",
       "    }\n",
       "\n",
       "    .dataframe thead th {\n",
       "        text-align: right;\n",
       "    }\n",
       "</style>\n",
       "<table border=\"1\" class=\"dataframe\">\n",
       "  <thead>\n",
       "    <tr style=\"text-align: right;\">\n",
       "      <th></th>\n",
       "      <th>Source</th>\n",
       "      <th>Target</th>\n",
       "      <th>Weight</th>\n",
       "    </tr>\n",
       "    <tr>\n",
       "      <th>Id</th>\n",
       "      <th></th>\n",
       "      <th></th>\n",
       "      <th></th>\n",
       "    </tr>\n",
       "  </thead>\n",
       "  <tbody>\n",
       "    <tr>\n",
       "      <td>5509</td>\n",
       "      <td>Yakov_Alpatych</td>\n",
       "      <td>Nikolai_Rostov</td>\n",
       "      <td>5</td>\n",
       "    </tr>\n",
       "    <tr>\n",
       "      <td>5510</td>\n",
       "      <td>AndreyBolkonsky</td>\n",
       "      <td>Prince_Dolgorukov</td>\n",
       "      <td>11</td>\n",
       "    </tr>\n",
       "    <tr>\n",
       "      <td>5511</td>\n",
       "      <td>Nikolai_Rostov</td>\n",
       "      <td>Count_Ilya_Rostov</td>\n",
       "      <td>12</td>\n",
       "    </tr>\n",
       "    <tr>\n",
       "      <td>5512</td>\n",
       "      <td>приказный23_3_3_</td>\n",
       "      <td>полицеймейстер23_3_3_</td>\n",
       "      <td>2</td>\n",
       "    </tr>\n",
       "    <tr>\n",
       "      <td>6708</td>\n",
       "      <td>Prince_Nikolay_Bolkonsky</td>\n",
       "      <td>2</td>\n",
       "      <td>3</td>\n",
       "    </tr>\n",
       "  </tbody>\n",
       "</table>\n",
       "</div>"
      ],
      "text/plain": [
       "                        Source                 Target  Weight\n",
       "Id                                                           \n",
       "5509            Yakov_Alpatych         Nikolai_Rostov       5\n",
       "5510           AndreyBolkonsky      Prince_Dolgorukov      11\n",
       "5511            Nikolai_Rostov      Count_Ilya_Rostov      12\n",
       "5512          приказный23_3_3_  полицеймейстер23_3_3_       2\n",
       "6708  Prince_Nikolay_Bolkonsky                      2       3"
      ]
     },
     "execution_count": 6,
     "metadata": {},
     "output_type": "execute_result"
    }
   ],
   "source": [
    "wap = wap.drop(['Type', 'Label', 'timeset'], axis=1)\n",
    "wap.head()"
   ]
  },
  {
   "cell_type": "markdown",
   "metadata": {},
   "source": [
    "# NEO4J"
   ]
  },
  {
   "cell_type": "markdown",
   "metadata": {},
   "source": [
    "## Useful Links\n",
    "\n",
    "#### intro\n",
    " - [about graph DBs](https://neo4j.com/developer/graph-database/)\n",
    "\n",
    "#### cypher\n",
    "- [online course](https://neo4j.com/graphacademy/online-training/introduction-to-neo4j/part-0/)\n",
    "- [about cypher](https://neo4j.com/developer/cypher-query-language/)\n",
    "- [quick help](https://neo4j.com/docs/2.0/cypher-refcard/)\n",
    "\n",
    "#### python\n",
    "- [driver example](https://neo4j.com/docs/api/python-driver/current/)\n",
    "- [python manual](https://neo4j.com/docs/driver-manual/1.7/#driver-get-the-driver)\n",
    "\n"
   ]
  },
  {
   "cell_type": "code",
   "execution_count": 8,
   "metadata": {},
   "outputs": [],
   "source": [
    "class HelloWorldExample(object):\n",
    "\n",
    "    def __init__(self, uri, user, password):\n",
    "        self._driver = GraphDatabase.driver(uri, auth=(user, password))\n",
    "\n",
    "    def close(self):\n",
    "        self._driver.close()\n",
    "\n",
    "    def print_greeting(self, message):\n",
    "        with self._driver.session() as session:\n",
    "            greeting = session.write_transaction(self._create_and_return_greeting, message)\n",
    "            print(greeting)\n",
    "\n",
    "    @staticmethod\n",
    "    def _create_and_return_greeting(tx, message):\n",
    "        result = tx.run(\"CREATE (a:Greeting) \"\n",
    "                        \"SET a.message = $message \"\n",
    "                        \"RETURN a.message + ', from node ' + id(a)\", message=message)\n",
    "        return result.single()[0]"
   ]
  },
  {
   "cell_type": "code",
   "execution_count": 9,
   "metadata": {},
   "outputs": [],
   "source": [
    "HWE = HelloWorldExample(\"bolt://localhost:7687\",'neo4j', 'NEO4J')"
   ]
  },
  {
   "cell_type": "code",
   "execution_count": 10,
   "metadata": {},
   "outputs": [
    {
     "name": "stdout",
     "output_type": "stream",
     "text": [
      "IT WORKS OH MY GOD!!!111, from node 203\n"
     ]
    }
   ],
   "source": [
    "HWE.print_greeting('IT WORKS OH MY GOD!!!111')"
   ]
  },
  {
   "cell_type": "code",
   "execution_count": 11,
   "metadata": {},
   "outputs": [],
   "source": [
    "class Driver(object):\n",
    "\n",
    "    def __init__(self, uri, user, password):\n",
    "        self._driver = GraphDatabase.driver(uri, auth=(user, password))\n",
    "\n",
    "    def close(self):\n",
    "        self._driver.close()\n",
    "\n",
    "    def print_greeting(self, message):\n",
    "        with self._driver.session() as session:\n",
    "            greeting = session.write_transaction(self._create_and_return_greeting, message)\n",
    "            print(greeting)\n",
    "\n",
    "    @staticmethod\n",
    "    def _create_and_return_greeting(tx, message):\n",
    "        result = tx.run(\"CREATE (a:Greeting) \"\n",
    "                        \"SET a.message = $message \"\n",
    "                        \"RETURN a.message + ', from node ' + id(a)\", message=message)\n",
    "        return result.single()[0]\n",
    "    \n",
    "    @staticmethod\n",
    "    def protect_properties(properties_dict):\n",
    "        properties_str = '{'\n",
    "        for key, value in properties_dict.items():\n",
    "            properties_str += str(key)+': '\n",
    "            if type(value) == str:\n",
    "                properties_str += f'\"{value}\", '\n",
    "            elif type(value) == type(None):\n",
    "                properties_str += 'null, '\n",
    "            else:\n",
    "                properties_str += f'{value}, '\n",
    "        return properties_str.strip(', ') + '}'"
   ]
  },
  {
   "cell_type": "code",
   "execution_count": 12,
   "metadata": {},
   "outputs": [],
   "source": [
    "driver = GraphDatabase.driver(\"bolt://localhost:7687\", auth=('neo4j', 'NEO4J'))"
   ]
  },
  {
   "cell_type": "code",
   "execution_count": 13,
   "metadata": {},
   "outputs": [],
   "source": [
    "with driver.session() as session:\n",
    "    session.run(\"CREATE (a:Person {name: 'Emma'}) -[:knows]-> (b:Person {name: 'Emil'})\")"
   ]
  },
  {
   "cell_type": "markdown",
   "metadata": {},
   "source": [
    "## Syntax functions"
   ]
  },
  {
   "cell_type": "code",
   "execution_count": 14,
   "metadata": {},
   "outputs": [],
   "source": [
    "def protect_properties(properties_dict):\n",
    "    properties_str = '{'\n",
    "    for key, value in properties_dict.items():\n",
    "        properties_str += str(key)+': '\n",
    "        if type(value) == str:\n",
    "            properties_str += f'\"{value}\", '\n",
    "        elif type(value) == type(None):\n",
    "            properties_str += 'null, '\n",
    "        else:\n",
    "            properties_str += f'{value}, '\n",
    "    return properties_str.strip(', ') + '}'"
   ]
  },
  {
   "cell_type": "code",
   "execution_count": 15,
   "metadata": {},
   "outputs": [
    {
     "data": {
      "text/plain": [
       "'{name: \"Emil\", from: \"Sweden\", klout: 99, HATE: null}'"
      ]
     },
     "execution_count": 15,
     "metadata": {},
     "output_type": "execute_result"
    }
   ],
   "source": [
    "protect_properties({ 'name': \"Emil\", 'from': \"Sweden\", 'klout': 99, 'HATE': None})"
   ]
  },
  {
   "cell_type": "code",
   "execution_count": 43,
   "metadata": {},
   "outputs": [],
   "source": [
    "# CREATE (ee:Person { name: \"Emil\", from: \"Sweden\", klout: 99 })\n",
    "def node_obj(node_label, node_var=None, node_properties={}):\n",
    "    \"\"\"\n",
    "    node string  \n",
    "    \n",
    "    :param node_label: str, label\n",
    "    :param node_var: str, node variable name, optional, default None\n",
    "    :param node_properties: dict with str keys, optional, default empty dict\n",
    "    :return: str, node command part\n",
    "    \"\"\"\n",
    "    if node_var:\n",
    "        node_var_str = node_var+':'\n",
    "    else:\n",
    "        node_var_str = ''\n",
    "    if node_properties:\n",
    "        node_properties_str = protect_properties(node_properties)\n",
    "    else:\n",
    "        node_properties_str = ''\n",
    "    command = f'({node_var_str}{node_label} {node_properties_str})'\n",
    "    return command"
   ]
  },
  {
   "cell_type": "code",
   "execution_count": 88,
   "metadata": {},
   "outputs": [],
   "source": [
    "def command(driver, obj, command='CREATE', ret=False, ret_vars=None, ddelete=False, delete_vars=None):\n",
    "    \"\"\"\n",
    "    create a node or a path give (returns if flagged so) \n",
    "    \n",
    "    :param driver: GraphDatabase.driver\n",
    "    :param obj: str, valid node or path\n",
    "    :param command: str, valid command (MATCH, MERGE, CREATE, DELETE), optional, default 'CREATE'\n",
    "    :param ret: bool, whether to return the result, optional, default False\n",
    "    :param ret_vars:  str, valid node_var_str list to return, optional, default None\n",
    "    :param delete: bool, whether to detach delete a part of the result, optional, default False\n",
    "    :param delete_vars:  str, valid node_var_str list to delete, optional, default None\n",
    "    :return:\n",
    "        if ret == False:\n",
    "            None\n",
    "        if ret == True:\n",
    "            neo4j.BoltStatementResult\n",
    "    \"\"\"\n",
    "    DO = f'{command} {obj}'\n",
    "    if ret and ret_vars:\n",
    "        DO += f' RETURN {ret_vars}'\n",
    "    if ddelete and delete_vars:\n",
    "        DO += f' DETACH DELETE {delete_vars}'\n",
    "    with driver.session() as session:\n",
    "        result = session.run(DO)\n",
    "    if ret:\n",
    "        return result"
   ]
  },
  {
   "cell_type": "code",
   "execution_count": 130,
   "metadata": {},
   "outputs": [],
   "source": [
    "def show_all(driver):\n",
    "    res = command(driver, '(n)', command='MATCH', ret=True, ret_vars='(n)')\n",
    "    for el in res:\n",
    "        print(el)"
   ]
  },
  {
   "cell_type": "code",
   "execution_count": 131,
   "metadata": {},
   "outputs": [],
   "source": [
    "def ddelete_all(driver):\n",
    "    command(driver, '(n)', command='MATCH', ddelete=True, delete_vars='(n)')"
   ]
  },
  {
   "cell_type": "code",
   "execution_count": 132,
   "metadata": {},
   "outputs": [],
   "source": [
    "ddelete_all(driver)"
   ]
  },
  {
   "cell_type": "code",
   "execution_count": 133,
   "metadata": {},
   "outputs": [],
   "source": [
    "show_all(driver)"
   ]
  },
  {
   "cell_type": "code",
   "execution_count": 137,
   "metadata": {},
   "outputs": [
    {
     "name": "stdout",
     "output_type": "stream",
     "text": [
      "<Record Mary=<Node id=248 labels={'Person'} properties={'name': 'Mary', 'age': 99}>>\n"
     ]
    }
   ],
   "source": [
    "var = 'Mary'\n",
    "person_node_str = node_obj('Person', var, { 'name': 'Mary', 'age': 99 })\n",
    "for el in command(driver, person_node_str, ret=True, ret_vars=var):\n",
    "    print(el)"
   ]
  },
  {
   "cell_type": "code",
   "execution_count": 135,
   "metadata": {},
   "outputs": [
    {
     "name": "stdout",
     "output_type": "stream",
     "text": [
      "<Record em=<Node id=247 labels={'Person'} properties={'name': 'Emil', 'from': 'Sweden', 'klout': 99}>>\n"
     ]
    }
   ],
   "source": [
    "var = 'em'\n",
    "person_node_str = node_obj('Person', var, { 'name': 'Emil', 'from': 'Sweden', 'klout': 99 })\n",
    "for el in command(driver, person_node_str, command='CREATE', ret=True, ret_vars=var):\n",
    "    print(el)"
   ]
  },
  {
   "cell_type": "code",
   "execution_count": 138,
   "metadata": {},
   "outputs": [
    {
     "name": "stdout",
     "output_type": "stream",
     "text": [
      "<Record n=<Node id=246 labels={'Person'} properties={'name': 'Mary', 'age': 99}>>\n",
      "<Record n=<Node id=247 labels={'Person'} properties={'name': 'Emil', 'from': 'Sweden', 'klout': 99}>>\n",
      "<Record n=<Node id=248 labels={'Person'} properties={'name': 'Mary', 'age': 99}>>\n"
     ]
    }
   ],
   "source": [
    "show_all(driver)"
   ]
  },
  {
   "cell_type": "code",
   "execution_count": 139,
   "metadata": {},
   "outputs": [
    {
     "name": "stdout",
     "output_type": "stream",
     "text": [
      "<Record em=<Node id=247 labels={'Person'} properties={'name': 'Emil', 'from': 'Sweden', 'klout': 99}>>\n"
     ]
    }
   ],
   "source": [
    "var = 'em'\n",
    "person_node_str = node_obj('Person', var, { 'name': 'Emil', 'from': 'Sweden', 'klout': 99 })\n",
    "for el in command(driver, person_node_str, command='MATCH', ret=True, ret_vars=var):\n",
    "    print(el)"
   ]
  },
  {
   "cell_type": "code",
   "execution_count": 140,
   "metadata": {},
   "outputs": [
    {
     "name": "stdout",
     "output_type": "stream",
     "text": [
      "<Record n=<Node id=246 labels={'Person'} properties={'name': 'Mary', 'age': 99}>>\n",
      "<Record n=<Node id=247 labels={'Person'} properties={'name': 'Emil', 'from': 'Sweden', 'klout': 99}>>\n",
      "<Record n=<Node id=248 labels={'Person'} properties={'name': 'Mary', 'age': 99}>>\n"
     ]
    }
   ],
   "source": [
    "with driver.session() as session:\n",
    "    result = session.run('MATCH (n) RETURN (n)')\n",
    "    for el in result:\n",
    "        print(el)"
   ]
  },
  {
   "cell_type": "markdown",
   "metadata": {},
   "source": [
    "## TODO:\n",
    "- implementh edges\n",
    "- match properly\n",
    "\n",
    "- add the graph to the DB"
   ]
  },
  {
   "cell_type": "markdown",
   "metadata": {},
   "source": [
    "MATCH (ee:Person) WHERE ee.name = \"Emil\" RETURN ee;\n",
    "\n",
    "\n",
    "CREATE (js:Person { name: \"Johan\", from: \"Sweden\", learn: \"surfing\" }),\n",
    "(ir:Person { name: \"Ian\", from: \"England\", title: \"author\" }),\n",
    "(rvb:Person { name: \"Rik\", from: \"Belgium\", pet: \"Orval\" }),\n",
    "(ally:Person { name: \"Allison\", from: \"California\", hobby: \"surfing\" }),\n",
    "(ee)-[:KNOWS {since: 2001}]->(js),(ee)-[:KNOWS {rating: 5}]->(ir),\n",
    "(js)-[:KNOWS]->(ir),(js)-[:KNOWS]->(rvb),\n",
    "(ir)-[:KNOWS]->(js),(ir)-[:KNOWS]->(ally),\n",
    "(rvb)-[:KNOWS]->(ally)\n",
    "\n",
    "\n",
    "MATCH (ee:Person)-[:KNOWS]-(friends)\n",
    "WHERE ee.name = \"Emil\" RETURN ee, friends\n",
    "\n",
    "MATCH (js:Person)-[:KNOWS]-()-[:KNOWS]-(surfer)\n",
    "WHERE js.name = \"Johan\" AND surfer.hobby = \"surfing\"\n",
    "RETURN DISTINCT surfer\n"
   ]
  }
 ],
 "metadata": {
  "kernelspec": {
   "display_name": "Python 3",
   "language": "python",
   "name": "python3"
  },
  "language_info": {
   "codemirror_mode": {
    "name": "ipython",
    "version": 3
   },
   "file_extension": ".py",
   "mimetype": "text/x-python",
   "name": "python",
   "nbconvert_exporter": "python",
   "pygments_lexer": "ipython3",
   "version": "3.6.7"
  }
 },
 "nbformat": 4,
 "nbformat_minor": 2
}
