{
 "cells": [
  {
   "cell_type": "markdown",
   "metadata": {},
   "source": [
    "## Criteria\n",
    "\n",
    "Требования к нереляционным БД\n",
    "- нереляционная БД\n",
    "- красивая структура БД\n",
    "- интерфейс позволяет класть, доставать, удалять данные (проводить операции CRUD - Create, Read, Update, Delete)\n",
    "- два действия помимо CRUD (сортировка, группировка, агрегация, ...)\n",
    "- нахождение путей не только к соседним вершинам, операции с графами"
   ]
  },
  {
   "cell_type": "markdown",
   "metadata": {},
   "source": [
    "# Let us read the network\n",
    "### [About the network](http://tolstoy.online)"
   ]
  },
  {
   "cell_type": "code",
   "execution_count": 603,
   "metadata": {},
   "outputs": [],
   "source": [
    "import matplotlib.pyplot as plt\n",
    "import pandas as pd\n",
    "import time\n",
    "\n",
    "from neo4j import GraphDatabase\n",
    "from neo4j.exceptions import CypherSyntaxError"
   ]
  },
  {
   "cell_type": "code",
   "execution_count": 143,
   "metadata": {},
   "outputs": [
    {
     "data": {
      "text/html": [
       "<div>\n",
       "<style scoped>\n",
       "    .dataframe tbody tr th:only-of-type {\n",
       "        vertical-align: middle;\n",
       "    }\n",
       "\n",
       "    .dataframe tbody tr th {\n",
       "        vertical-align: top;\n",
       "    }\n",
       "\n",
       "    .dataframe thead th {\n",
       "        text-align: right;\n",
       "    }\n",
       "</style>\n",
       "<table border=\"1\" class=\"dataframe\">\n",
       "  <thead>\n",
       "    <tr style=\"text-align: right;\">\n",
       "      <th></th>\n",
       "      <th>Source</th>\n",
       "      <th>Target</th>\n",
       "      <th>Type</th>\n",
       "      <th>Label</th>\n",
       "      <th>timeset</th>\n",
       "      <th>Weight</th>\n",
       "    </tr>\n",
       "    <tr>\n",
       "      <th>Id</th>\n",
       "      <th></th>\n",
       "      <th></th>\n",
       "      <th></th>\n",
       "      <th></th>\n",
       "      <th></th>\n",
       "      <th></th>\n",
       "    </tr>\n",
       "  </thead>\n",
       "  <tbody>\n",
       "    <tr>\n",
       "      <td>5509</td>\n",
       "      <td>Yakov_Alpatych</td>\n",
       "      <td>Nikolai_Rostov</td>\n",
       "      <td>Directed</td>\n",
       "      <td>NaN</td>\n",
       "      <td>NaN</td>\n",
       "      <td>5</td>\n",
       "    </tr>\n",
       "    <tr>\n",
       "      <td>5510</td>\n",
       "      <td>AndreyBolkonsky</td>\n",
       "      <td>Prince_Dolgorukov</td>\n",
       "      <td>Directed</td>\n",
       "      <td>NaN</td>\n",
       "      <td>NaN</td>\n",
       "      <td>11</td>\n",
       "    </tr>\n",
       "    <tr>\n",
       "      <td>5511</td>\n",
       "      <td>Nikolai_Rostov</td>\n",
       "      <td>Count_Ilya_Rostov</td>\n",
       "      <td>Directed</td>\n",
       "      <td>NaN</td>\n",
       "      <td>NaN</td>\n",
       "      <td>12</td>\n",
       "    </tr>\n",
       "    <tr>\n",
       "      <td>5512</td>\n",
       "      <td>приказный23_3_3_</td>\n",
       "      <td>полицеймейстер23_3_3_</td>\n",
       "      <td>Directed</td>\n",
       "      <td>NaN</td>\n",
       "      <td>NaN</td>\n",
       "      <td>2</td>\n",
       "    </tr>\n",
       "    <tr>\n",
       "      <td>6708</td>\n",
       "      <td>Prince_Nikolay_Bolkonsky</td>\n",
       "      <td>2</td>\n",
       "      <td>Directed</td>\n",
       "      <td>NaN</td>\n",
       "      <td>NaN</td>\n",
       "      <td>3</td>\n",
       "    </tr>\n",
       "  </tbody>\n",
       "</table>\n",
       "</div>"
      ],
      "text/plain": [
       "                        Source                 Target      Type  Label  \\\n",
       "Id                                                                       \n",
       "5509            Yakov_Alpatych         Nikolai_Rostov  Directed    NaN   \n",
       "5510           AndreyBolkonsky      Prince_Dolgorukov  Directed    NaN   \n",
       "5511            Nikolai_Rostov      Count_Ilya_Rostov  Directed    NaN   \n",
       "5512          приказный23_3_3_  полицеймейстер23_3_3_  Directed    NaN   \n",
       "6708  Prince_Nikolay_Bolkonsky                      2  Directed    NaN   \n",
       "\n",
       "      timeset  Weight  \n",
       "Id                     \n",
       "5509      NaN       5  \n",
       "5510      NaN      11  \n",
       "5511      NaN      12  \n",
       "5512      NaN       2  \n",
       "6708      NaN       3  "
      ]
     },
     "execution_count": 143,
     "metadata": {},
     "output_type": "execute_result"
    }
   ],
   "source": [
    "wap = pd.read_csv('war_and_peace_network.csv', index_col='Id')\n",
    "wap.head()"
   ]
  },
  {
   "cell_type": "markdown",
   "metadata": {},
   "source": [
    "it seems like some columns are not informative"
   ]
  },
  {
   "cell_type": "code",
   "execution_count": 144,
   "metadata": {},
   "outputs": [
    {
     "data": {
      "text/plain": [
       "array(['Directed'], dtype=object)"
      ]
     },
     "execution_count": 144,
     "metadata": {},
     "output_type": "execute_result"
    }
   ],
   "source": [
    "wap.Type.unique()"
   ]
  },
  {
   "cell_type": "code",
   "execution_count": 145,
   "metadata": {},
   "outputs": [
    {
     "data": {
      "text/plain": [
       "array([nan])"
      ]
     },
     "execution_count": 145,
     "metadata": {},
     "output_type": "execute_result"
    }
   ],
   "source": [
    "wap.Label.unique()"
   ]
  },
  {
   "cell_type": "code",
   "execution_count": 146,
   "metadata": {},
   "outputs": [
    {
     "data": {
      "text/plain": [
       "array([nan])"
      ]
     },
     "execution_count": 146,
     "metadata": {},
     "output_type": "execute_result"
    }
   ],
   "source": [
    "wap.timeset.unique()"
   ]
  },
  {
   "cell_type": "markdown",
   "metadata": {},
   "source": [
    "they are not, so we can drop them"
   ]
  },
  {
   "cell_type": "code",
   "execution_count": 147,
   "metadata": {},
   "outputs": [
    {
     "data": {
      "text/html": [
       "<div>\n",
       "<style scoped>\n",
       "    .dataframe tbody tr th:only-of-type {\n",
       "        vertical-align: middle;\n",
       "    }\n",
       "\n",
       "    .dataframe tbody tr th {\n",
       "        vertical-align: top;\n",
       "    }\n",
       "\n",
       "    .dataframe thead th {\n",
       "        text-align: right;\n",
       "    }\n",
       "</style>\n",
       "<table border=\"1\" class=\"dataframe\">\n",
       "  <thead>\n",
       "    <tr style=\"text-align: right;\">\n",
       "      <th></th>\n",
       "      <th>Source</th>\n",
       "      <th>Target</th>\n",
       "      <th>Weight</th>\n",
       "    </tr>\n",
       "    <tr>\n",
       "      <th>Id</th>\n",
       "      <th></th>\n",
       "      <th></th>\n",
       "      <th></th>\n",
       "    </tr>\n",
       "  </thead>\n",
       "  <tbody>\n",
       "    <tr>\n",
       "      <td>5509</td>\n",
       "      <td>Yakov_Alpatych</td>\n",
       "      <td>Nikolai_Rostov</td>\n",
       "      <td>5</td>\n",
       "    </tr>\n",
       "    <tr>\n",
       "      <td>5510</td>\n",
       "      <td>AndreyBolkonsky</td>\n",
       "      <td>Prince_Dolgorukov</td>\n",
       "      <td>11</td>\n",
       "    </tr>\n",
       "    <tr>\n",
       "      <td>5511</td>\n",
       "      <td>Nikolai_Rostov</td>\n",
       "      <td>Count_Ilya_Rostov</td>\n",
       "      <td>12</td>\n",
       "    </tr>\n",
       "    <tr>\n",
       "      <td>5512</td>\n",
       "      <td>приказный23_3_3_</td>\n",
       "      <td>полицеймейстер23_3_3_</td>\n",
       "      <td>2</td>\n",
       "    </tr>\n",
       "    <tr>\n",
       "      <td>6708</td>\n",
       "      <td>Prince_Nikolay_Bolkonsky</td>\n",
       "      <td>2</td>\n",
       "      <td>3</td>\n",
       "    </tr>\n",
       "  </tbody>\n",
       "</table>\n",
       "</div>"
      ],
      "text/plain": [
       "                        Source                 Target  Weight\n",
       "Id                                                           \n",
       "5509            Yakov_Alpatych         Nikolai_Rostov       5\n",
       "5510           AndreyBolkonsky      Prince_Dolgorukov      11\n",
       "5511            Nikolai_Rostov      Count_Ilya_Rostov      12\n",
       "5512          приказный23_3_3_  полицеймейстер23_3_3_       2\n",
       "6708  Prince_Nikolay_Bolkonsky                      2       3"
      ]
     },
     "execution_count": 147,
     "metadata": {},
     "output_type": "execute_result"
    }
   ],
   "source": [
    "wap = wap.drop(['Type', 'Label', 'timeset'], axis=1)\n",
    "wap.head()"
   ]
  },
  {
   "cell_type": "markdown",
   "metadata": {},
   "source": [
    "# NEO4J"
   ]
  },
  {
   "cell_type": "markdown",
   "metadata": {},
   "source": [
    "## Useful Links\n",
    "\n",
    "#### intro\n",
    " - [about graph DBs](https://neo4j.com/developer/graph-database/)\n",
    "\n",
    "#### cypher\n",
    "- [online course](https://neo4j.com/graphacademy/online-training/introduction-to-neo4j/part-0/)\n",
    "- [about cypher](https://neo4j.com/developer/cypher-query-language/)\n",
    "- [quick help](https://neo4j.com/docs/2.0/cypher-refcard/)\n",
    "\n",
    "#### python\n",
    "- [driver example](https://neo4j.com/docs/api/python-driver/current/)\n",
    "- [python manual](https://neo4j.com/docs/driver-manual/1.7/#driver-get-the-driver)\n",
    "\n"
   ]
  },
  {
   "cell_type": "code",
   "execution_count": 148,
   "metadata": {},
   "outputs": [],
   "source": [
    "class HelloWorldExample(object):\n",
    "\n",
    "    def __init__(self, uri, user, password):\n",
    "        self._driver = GraphDatabase.driver(uri, auth=(user, password))\n",
    "\n",
    "    def close(self):\n",
    "        self._driver.close()\n",
    "\n",
    "    def print_greeting(self, message):\n",
    "        with self._driver.session() as session:\n",
    "            greeting = session.write_transaction(self._create_and_return_greeting, message)\n",
    "            print(greeting)\n",
    "\n",
    "    @staticmethod\n",
    "    def _create_and_return_greeting(tx, message):\n",
    "        result = tx.run(\"CREATE (a:Greeting) \"\n",
    "                        \"SET a.message = $message \"\n",
    "                        \"RETURN a.message + ', from node ' + id(a)\", message=message)\n",
    "        return result.single()[0]"
   ]
  },
  {
   "cell_type": "code",
   "execution_count": 149,
   "metadata": {},
   "outputs": [],
   "source": [
    "HWE = HelloWorldExample(\"bolt://localhost:7687\",'neo4j', 'NEO4J')"
   ]
  },
  {
   "cell_type": "code",
   "execution_count": 150,
   "metadata": {},
   "outputs": [
    {
     "name": "stdout",
     "output_type": "stream",
     "text": [
      "IT WORKS OH MY GOD!!!111, from node 0\n"
     ]
    }
   ],
   "source": [
    "HWE.print_greeting('IT WORKS OH MY GOD!!!111')"
   ]
  },
  {
   "cell_type": "code",
   "execution_count": 220,
   "metadata": {},
   "outputs": [],
   "source": [
    "class Driver(object):\n",
    "\n",
    "    def __init__(self, uri, user, password):\n",
    "        self._driver = GraphDatabase.driver(uri, auth=(user, password))\n",
    "\n",
    "    def close(self):\n",
    "        self._driver.close()"
   ]
  },
  {
   "cell_type": "code",
   "execution_count": 152,
   "metadata": {},
   "outputs": [],
   "source": [
    "driver = GraphDatabase.driver(\"bolt://localhost:7687\", auth=('neo4j', 'NEO4J'))"
   ]
  },
  {
   "cell_type": "code",
   "execution_count": 387,
   "metadata": {},
   "outputs": [
    {
     "name": "stdout",
     "output_type": "stream",
     "text": [
      "<Record a=<Node id=205 labels={'Person'} properties={'name': 'Emma'}> b=<Node id=206 labels={'Person'} properties={'name': 'Emil'}> k=<Relationship id=300 nodes=(<Node id=205 labels={'Person'} properties={'name': 'Emma'}>, <Node id=206 labels={'Person'} properties={'name': 'Emil'}>) type='knows' properties={}>>\n"
     ]
    }
   ],
   "source": [
    "with driver.session() as session:\n",
    "    result = session.run(\"CREATE (a:Person {name: 'Emma'}) -[k:knows]-> (b:Person {name: 'Emil'}) RETURN a, b, k\")\n",
    "    for el in result:\n",
    "        print(el)"
   ]
  },
  {
   "cell_type": "code",
   "execution_count": 376,
   "metadata": {},
   "outputs": [
    {
     "name": "stdout",
     "output_type": "stream",
     "text": [
      "<Record n=<Node id=0 labels={'Person'} properties={'name': 'Paul', 'hobby': 'surfing'}>>\n",
      "<Record n=<Node id=203 labels={'Person'} properties={'name': 'Emma'}>>\n",
      "<Record n=<Node id=204 labels={'Person'} properties={'name': 'Emil'}>>\n",
      "<Record n=<Node id=228 labels={'Person'} properties={'name': 'Johan'}>>\n",
      "<Record n=<Node id=229 labels={'Person'} properties={'name': 'Henry'}>>\n",
      "<Record n=<Node id=231 labels={'Person'} properties={'name': 'Mary', 'age': 99}>>\n",
      "<Record n=<Node id=235 labels={'Person'} properties={'name': 'Johan', 'learn': 'surfing', 'from': 'Sweden'}>>\n",
      "<Record n=<Node id=236 labels={'Person'} properties={'name': 'Ian', 'title': 'author', 'from': 'England'}>>\n",
      "<Record n=<Node id=237 labels={'Person'} properties={'name': 'Rik', 'from': 'Belgium', 'pet': 'Orval'}>>\n",
      "<Record n=<Node id=238 labels={'Person'} properties={'name': 'Allison', 'from': 'California', 'hobby': 'surfing'}>>\n",
      "<Record n=<Node id=239 labels=set() properties={}>>\n",
      "<Record n=<Node id=240 labels={'Person'} properties={'name': 'Keanu Reeves', 'created': 1584970461425, 'lastSeen': 1584970461425}>>\n",
      "<Record n=<Node id=241 labels={'Person'} properties={'name': 'Johan'}>>\n",
      "<Record n=<Node id=242 labels={'Person'} properties={'name': 'Henry'}>>\n",
      "<Record n=<Node id=263 labels={'Person'} properties={'name': 'Paul', 'hobby': 'surfing'}>>\n",
      "<Record n=<Node id=264 labels={'Person'} properties={'name': 'Emma', 'age': 10, 'education': 'primary school'}>>\n",
      "<Record n=<Node id=265 labels={'Person'} properties={'name': 'Emil'}>>\n"
     ]
    }
   ],
   "source": [
    "with driver.session() as session:\n",
    "    result = session.run('MATCH (n) RETURN (n)')\n",
    "    for el in result:\n",
    "        print(el)"
   ]
  },
  {
   "cell_type": "code",
   "execution_count": 377,
   "metadata": {},
   "outputs": [],
   "source": [
    "def execute(driver, command):\n",
    "    \"\"\"\n",
    "    executes a ready formed CYPHER command\n",
    "    \n",
    "    :param driver: GraphDatabase.driver\n",
    "    :param command: str, valid CYPHER command\n",
    "    :return: neo4j.BoltStatementResult or None\n",
    "    \"\"\"\n",
    "    with driver.session() as session:\n",
    "        result = session.run(command)\n",
    "    return result"
   ]
  },
  {
   "cell_type": "markdown",
   "metadata": {},
   "source": [
    "## Syntax functions"
   ]
  },
  {
   "cell_type": "code",
   "execution_count": 242,
   "metadata": {},
   "outputs": [],
   "source": [
    "def protect_properties(properties_dict):\n",
    "    \"\"\"\n",
    "    creates a CYPHER properties string from a dict\n",
    "    \n",
    "    :param: dict, properties\n",
    "    :return: str, CYPHER properties\n",
    "    \"\"\"\n",
    "    properties_str = '{'\n",
    "    for key, value in properties_dict.items():\n",
    "        properties_str += str(key)+': '\n",
    "        if type(value) == str:\n",
    "            properties_str += f'\"{value}\", '\n",
    "        elif type(value) == type(None):\n",
    "            properties_str += 'null, '\n",
    "        else:\n",
    "            properties_str += f'{value}, '\n",
    "    return properties_str.strip(', ') + '}'"
   ]
  },
  {
   "cell_type": "code",
   "execution_count": 378,
   "metadata": {},
   "outputs": [
    {
     "data": {
      "text/plain": [
       "'{name: \"Emil\", from: \"Sweden\", klout: 99, HATE: null}'"
      ]
     },
     "execution_count": 378,
     "metadata": {},
     "output_type": "execute_result"
    }
   ],
   "source": [
    "protect_properties({ 'name': \"Emil\", 'from': \"Sweden\", 'klout': 99, 'HATE': None})"
   ]
  },
  {
   "cell_type": "code",
   "execution_count": 247,
   "metadata": {},
   "outputs": [],
   "source": [
    "def protect_vars(vars_iter):\n",
    "    \"\"\"\n",
    "    merges a list of variables into a CYPHER commad string\n",
    "    \n",
    "    :param vars_iter: iterable of str, variable names\n",
    "    :return: str, CYPHER commad string\n",
    "    \"\"\"\n",
    "    if type(vars_iter) != str:\n",
    "        ret_vars_str = ', '.join(vars_iter)\n",
    "    else:\n",
    "        ret_vars_str = vars_iter\n",
    "    return ret_vars_str"
   ]
  },
  {
   "cell_type": "code",
   "execution_count": 379,
   "metadata": {},
   "outputs": [
    {
     "data": {
      "text/plain": [
       "'(n)'"
      ]
     },
     "execution_count": 379,
     "metadata": {},
     "output_type": "execute_result"
    }
   ],
   "source": [
    "protect_vars('(n)')"
   ]
  },
  {
   "cell_type": "code",
   "execution_count": 380,
   "metadata": {},
   "outputs": [
    {
     "data": {
      "text/plain": [
       "'n, r, em'"
      ]
     },
     "execution_count": 380,
     "metadata": {},
     "output_type": "execute_result"
    }
   ],
   "source": [
    "protect_vars(['n', 'r', 'em'])"
   ]
  },
  {
   "cell_type": "markdown",
   "metadata": {},
   "source": [
    "### Nodes"
   ]
  },
  {
   "cell_type": "code",
   "execution_count": 156,
   "metadata": {},
   "outputs": [],
   "source": [
    "# CREATE (ee:Person { name: \"Emil\", from: \"Sweden\", klout: 99 })\n",
    "def node_obj(node_label, node_var=None, node_properties={}):\n",
    "    \"\"\"\n",
    "    node string  \n",
    "    \n",
    "    :param node_label: str, label\n",
    "    :param node_var: str, node variable name, optional, default None\n",
    "    :param node_properties: dict with str keys, optional, default empty dict\n",
    "    :return: str, node command part\n",
    "    \"\"\"\n",
    "    if node_var:\n",
    "        node_var_str = node_var + ':'\n",
    "    else:\n",
    "        node_var_str = ''\n",
    "    if node_properties:\n",
    "        node_properties_str = protect_properties(node_properties)\n",
    "    else:\n",
    "        node_properties_str = ''\n",
    "    command = f'({node_var_str}{node_label} {node_properties_str})'\n",
    "    return command"
   ]
  },
  {
   "cell_type": "code",
   "execution_count": 381,
   "metadata": {},
   "outputs": [
    {
     "data": {
      "text/plain": [
       "'(ee:Person {name: \"Mary\", age: 99})'"
      ]
     },
     "execution_count": 381,
     "metadata": {},
     "output_type": "execute_result"
    }
   ],
   "source": [
    "node_obj('Person', var, { 'name': 'Mary', 'age': 99 })"
   ]
  },
  {
   "cell_type": "code",
   "execution_count": 227,
   "metadata": {},
   "outputs": [],
   "source": [
    "def show_all(driver):\n",
    "    res = execute(driver, 'MATCH (n) RETURN n')\n",
    "    for el in res:\n",
    "        print(el)"
   ]
  },
  {
   "cell_type": "code",
   "execution_count": 233,
   "metadata": {},
   "outputs": [],
   "source": [
    "def ddelete_all(driver):\n",
    "    execute(driver, 'MATCH (n) DETACH DELETE n')"
   ]
  },
  {
   "cell_type": "code",
   "execution_count": 382,
   "metadata": {},
   "outputs": [],
   "source": [
    "ddelete_all(driver)"
   ]
  },
  {
   "cell_type": "code",
   "execution_count": 388,
   "metadata": {},
   "outputs": [
    {
     "name": "stdout",
     "output_type": "stream",
     "text": [
      "<Record a=<Node id=216 labels={'Person'} properties={'name': 'Emma'}> b=<Node id=217 labels={'Person'} properties={'name': 'Emil'}> k=<Relationship id=317 nodes=(<Node id=216 labels={'Person'} properties={'name': 'Emma'}>, <Node id=217 labels={'Person'} properties={'name': 'Emil'}>) type='knows' properties={}>>\n"
     ]
    }
   ],
   "source": [
    "with driver.session() as session:\n",
    "    result = session.run(\"CREATE (a:Person {name: 'Emma'}) -[k:knows]-> (b:Person {name: 'Emil'}) RETURN a, b, k\")\n",
    "    for el in result:\n",
    "        print(el)"
   ]
  },
  {
   "cell_type": "code",
   "execution_count": 389,
   "metadata": {},
   "outputs": [
    {
     "name": "stdout",
     "output_type": "stream",
     "text": [
      "<Record n=<Node id=201 labels={'Person'} properties={'name': 'Mary', 'age': 99}>>\n",
      "<Record n=<Node id=202 labels={'Person'} properties={'name': 'Emil', 'from': 'Sweden', 'klout': 99}>>\n",
      "<Record n=<Node id=205 labels={'Person'} properties={'name': 'Emma'}>>\n",
      "<Record n=<Node id=206 labels={'Person'} properties={'name': 'Emil'}>>\n",
      "<Record n=<Node id=216 labels={'Person'} properties={'name': 'Emma'}>>\n",
      "<Record n=<Node id=217 labels={'Person'} properties={'name': 'Emil'}>>\n"
     ]
    }
   ],
   "source": [
    "show_all(driver)"
   ]
  },
  {
   "cell_type": "code",
   "execution_count": 390,
   "metadata": {},
   "outputs": [
    {
     "name": "stdout",
     "output_type": "stream",
     "text": [
      "<Record Mary=<Node id=218 labels={'Person'} properties={'name': 'Mary', 'age': 99}>>\n"
     ]
    }
   ],
   "source": [
    "var = 'Mary'\n",
    "person_node_str = node_obj('Person', var, { 'name': 'Mary', 'age': 99 })\n",
    "for el in execute(driver, f'CREATE {person_node_str} RETURN {var}'):\n",
    "    print(el)"
   ]
  },
  {
   "cell_type": "code",
   "execution_count": 391,
   "metadata": {},
   "outputs": [
    {
     "name": "stdout",
     "output_type": "stream",
     "text": [
      "<Record em=<Node id=219 labels={'Person'} properties={'name': 'Emil', 'from': 'Sweden', 'klout': 99}>>\n"
     ]
    }
   ],
   "source": [
    "var = 'em'\n",
    "person_node_str = node_obj('Person', var, { 'name': 'Emil', 'from': 'Sweden', 'klout': 99 })\n",
    "for el in execute(driver, f'CREATE {person_node_str} RETURN {var}'):\n",
    "    print(el)"
   ]
  },
  {
   "cell_type": "code",
   "execution_count": 392,
   "metadata": {},
   "outputs": [
    {
     "name": "stdout",
     "output_type": "stream",
     "text": [
      "<Record n=<Node id=201 labels={'Person'} properties={'name': 'Mary', 'age': 99}>>\n",
      "<Record n=<Node id=202 labels={'Person'} properties={'name': 'Emil', 'from': 'Sweden', 'klout': 99}>>\n",
      "<Record n=<Node id=205 labels={'Person'} properties={'name': 'Emma'}>>\n",
      "<Record n=<Node id=206 labels={'Person'} properties={'name': 'Emil'}>>\n",
      "<Record n=<Node id=216 labels={'Person'} properties={'name': 'Emma'}>>\n",
      "<Record n=<Node id=217 labels={'Person'} properties={'name': 'Emil'}>>\n",
      "<Record n=<Node id=218 labels={'Person'} properties={'name': 'Mary', 'age': 99}>>\n",
      "<Record n=<Node id=219 labels={'Person'} properties={'name': 'Emil', 'from': 'Sweden', 'klout': 99}>>\n"
     ]
    }
   ],
   "source": [
    "show_all(driver)"
   ]
  },
  {
   "cell_type": "code",
   "execution_count": 393,
   "metadata": {},
   "outputs": [
    {
     "name": "stdout",
     "output_type": "stream",
     "text": [
      "<Record em=<Node id=202 labels={'Person'} properties={'name': 'Emil', 'from': 'Sweden', 'klout': 99}>>\n",
      "<Record em=<Node id=219 labels={'Person'} properties={'name': 'Emil', 'from': 'Sweden', 'klout': 99}>>\n"
     ]
    }
   ],
   "source": [
    "var = 'em'\n",
    "person_node_str = node_obj('Person', var, { 'name': 'Emil', 'from': 'Sweden', 'klout': 99 })\n",
    "for el in execute(driver, f'MATCH {person_node_str} RETURN {var}'):\n",
    "    print(el)"
   ]
  },
  {
   "cell_type": "markdown",
   "metadata": {},
   "source": [
    "### Edges"
   ]
  },
  {
   "cell_type": "code",
   "execution_count": 489,
   "metadata": {},
   "outputs": [],
   "source": [
    "# CREATE (ee)-[:KNOWS {rating: 5}]->(ir)\n",
    "def edge_obj(from_node, to_node, edge_label, edge_var=None, edge_properties={}):\n",
    "    \"\"\"\n",
    "    edge string  \n",
    "    \n",
    "    :param from_node: str, from node command part\n",
    "    :param to_node: str, to node command part\n",
    "    :param edge_label: str, label\n",
    "    :param edge_var: str, edge variable name, optional, default None\n",
    "    :param edge_properties: dict with str keys, optional, default empty dict\n",
    "    :return: str, node command part\n",
    "    \"\"\"\n",
    "    if edge_properties:\n",
    "        edge_properties_str = protect_properties(edge_properties)\n",
    "    else:\n",
    "        edge_properties_str = ''\n",
    "    if not edge_var:\n",
    "        edge_var = ''\n",
    "    command = f'{from_node}-[{edge_var}:{edge_label} {edge_properties_str}]->{to_node}'\n",
    "    return command"
   ]
  },
  {
   "cell_type": "code",
   "execution_count": 394,
   "metadata": {},
   "outputs": [
    {
     "data": {
      "text/plain": [
       "'(em:Person {name: \"Emil\", from: \"Sweden\", klout: 99})-[k:KNOWS {duration: \"always\"}]->(em)'"
      ]
     },
     "execution_count": 394,
     "metadata": {},
     "output_type": "execute_result"
    }
   ],
   "source": [
    "edge_var = 'k'\n",
    "know_edge_obj = edge_obj(person_node_str, f'({var})', 'KNOWS', edge_var, {'duration':'always'})\n",
    "know_edge_obj"
   ]
  },
  {
   "cell_type": "code",
   "execution_count": 395,
   "metadata": {},
   "outputs": [
    {
     "name": "stdout",
     "output_type": "stream",
     "text": [
      "<Record k=<Relationship id=318 nodes=(<Node id=220 labels={'Person'} properties={'name': 'Emil', 'from': 'Sweden', 'klout': 99}>, <Node id=220 labels={'Person'} properties={'name': 'Emil', 'from': 'Sweden', 'klout': 99}>) type='KNOWS' properties={'duration': 'always'}> em=<Node id=220 labels={'Person'} properties={'name': 'Emil', 'from': 'Sweden', 'klout': 99}>>\n"
     ]
    }
   ],
   "source": [
    "for el in execute(driver, f'CREATE {know_edge_obj} RETURN {protect_vars([edge_var, var])}'):\n",
    "    print(el)"
   ]
  },
  {
   "cell_type": "code",
   "execution_count": 490,
   "metadata": {},
   "outputs": [
    {
     "data": {
      "text/plain": [
       "'(n)-[k:KNOWS ]->(ee)'"
      ]
     },
     "execution_count": 490,
     "metadata": {},
     "output_type": "execute_result"
    }
   ],
   "source": [
    "edge_var = 'k'\n",
    "know_edge_obj = edge_obj(f'(n)', f'({var})', 'KNOWS', edge_var)\n",
    "know_edge_obj"
   ]
  },
  {
   "cell_type": "code",
   "execution_count": 491,
   "metadata": {},
   "outputs": [
    {
     "data": {
      "text/plain": [
       "'(n)-[:KNOWS ]->(ee)'"
      ]
     },
     "execution_count": 491,
     "metadata": {},
     "output_type": "execute_result"
    }
   ],
   "source": [
    "edge_var = 'k'\n",
    "know_edge_obj = edge_obj(f'(n)', f'({var})', 'KNOWS')\n",
    "know_edge_obj"
   ]
  },
  {
   "cell_type": "code",
   "execution_count": 397,
   "metadata": {},
   "outputs": [
    {
     "name": "stdout",
     "output_type": "stream",
     "text": [
      "<Record k=<Relationship id=318 nodes=(<Node id=220 labels={'Person'} properties={'name': 'Emil', 'from': 'Sweden', 'klout': 99}>, <Node id=220 labels={'Person'} properties={'name': 'Emil', 'from': 'Sweden', 'klout': 99}>) type='KNOWS' properties={'duration': 'always'}> em=<Node id=220 labels={'Person'} properties={'name': 'Emil', 'from': 'Sweden', 'klout': 99}> n=<Node id=220 labels={'Person'} properties={'name': 'Emil', 'from': 'Sweden', 'klout': 99}>>\n"
     ]
    }
   ],
   "source": [
    "for el in execute(driver, f\"\"\"MATCH {know_edge_obj} RETURN {protect_vars([edge_var, var, 'n'])}\"\"\"):\n",
    "    print(el)"
   ]
  },
  {
   "cell_type": "markdown",
   "metadata": {},
   "source": [
    "### READ"
   ]
  },
  {
   "cell_type": "markdown",
   "metadata": {},
   "source": [
    "#### CREATE"
   ]
  },
  {
   "cell_type": "code",
   "execution_count": 323,
   "metadata": {},
   "outputs": [],
   "source": [
    "# CREATE (js:Person { name: \"Johan\", from: \"Sweden\", learn: \"surfing\" }),\n",
    "# (ir:Person { name: \"Ian\", from: \"England\", title: \"author\" }),\n",
    "# (rvb:Person { name: \"Rik\", from: \"Belgium\", pet: \"Orval\" }),\n",
    "# (ally:Person { name: \"Allison\", from: \"California\", hobby: \"surfing\" }),\n",
    "# (ee)-[:KNOWS {since: 2001}]->(js),(ee)-[:KNOWS {rating: 5}]->(ir),\n",
    "# (js)-[:KNOWS]->(ir),(js)-[:KNOWS]->(rvb),\n",
    "# (ir)-[:KNOWS]->(js),(ir)-[:KNOWS]->(ally),\n",
    "# (rvb)-[:KNOWS]->(ally)\n",
    "# RETURN rvb, ally\n",
    "\n",
    "def CREATE(driver, statement, ret_vars=[]):\n",
    "    \"\"\"\n",
    "    executes a CREATE CYPHER statement\n",
    "    \n",
    "    :param driver: GraphDatabase.driver\n",
    "    :param statement: str, valid CYPHER object statement \n",
    "                      (including multiple objects and edges)\n",
    "    :param ret_vars: str or list of str, variables to return, \n",
    "                     optional, default = []\n",
    "    :return: neo4j.BoltStatementResult \n",
    "             or None (if ret_vars not specified)\n",
    "    \"\"\"\n",
    "    DO = ''\n",
    "    if ret_vars:\n",
    "        DO = f'CREATE {statement} RETURN {protect_vars(ret_vars)}'\n",
    "    else:\n",
    "        DO = f'CREATE {statement}'\n",
    "    return execute(driver, DO) "
   ]
  },
  {
   "cell_type": "code",
   "execution_count": 398,
   "metadata": {},
   "outputs": [
    {
     "name": "stdout",
     "output_type": "stream",
     "text": [
      "<Record k=<Relationship id=319 nodes=(<Node id=221 labels={'Person'} properties={'name': 'Emil', 'from': 'Sweden', 'klout': 99}>, <Node id=221 labels={'Person'} properties={'name': 'Emil', 'from': 'Sweden', 'klout': 99}>) type='KNOWS' properties={'duration': 'always'}> em=<Node id=221 labels={'Person'} properties={'name': 'Emil', 'from': 'Sweden', 'klout': 99}>>\n"
     ]
    }
   ],
   "source": [
    "var = 'em'\n",
    "person_node_str = node_obj('Person', var, { 'name': 'Emil', 'from': 'Sweden', 'klout': 99 })\n",
    "edge_var = 'k'\n",
    "know_edge_obj = edge_obj(person_node_str, f'({var})', 'KNOWS', edge_var, {'duration':'always'})\n",
    "for el in CREATE(driver, know_edge_obj, [edge_var, var]):\n",
    "    print(el)"
   ]
  },
  {
   "cell_type": "code",
   "execution_count": 458,
   "metadata": {},
   "outputs": [
    {
     "name": "stdout",
     "output_type": "stream",
     "text": [
      "<Record rvb=<Node id=244 labels={'Person'} properties={'name': 'Rik', 'from': 'Belgium', 'pet': 'Orval'}> ally=<Node id=245 labels={'Person'} properties={'name': 'Allison', 'from': 'California', 'hobby': 'surfing'}> js=<Node id=230 labels={'Person'} properties={'name': 'Johan', 'learn': 'surfing', 'from': 'Sweden'}> ir=<Node id=243 labels={'Person'} properties={'name': 'Ian', 'title': 'author', 'from': 'England'}> ee=<Node id=246 labels=set() properties={}>>\n"
     ]
    }
   ],
   "source": [
    "statement = \"\"\" (js:Person { name: \"Johan\", from: \"Sweden\", learn: \"surfing\" }),\n",
    "(ir:Person { name: \"Ian\", from: \"England\", title: \"author\" }),\n",
    "(rvb:Person { name: \"Rik\", from: \"Belgium\", pet: \"Orval\" }),\n",
    "(ally:Person { name: \"Allison\", from: \"California\", hobby: \"surfing\" }),\n",
    "(ee)-[:KNOWS {since: 2001}]->(js),(ee)-[:KNOWS {rating: 5}]->(ir),\n",
    "(js)-[:KNOWS]->(ir),(js)-[:KNOWS]->(rvb),\n",
    "(ir)-[:KNOWS]->(js),(ir)-[:KNOWS]->(ally),\n",
    "(rvb)-[:KNOWS]->(ally) \"\"\"\n",
    "\n",
    "ret_vars = ['rvb', 'ally', 'js', 'ir', 'ee']\n",
    "for el in CREATE(driver, statement, ret_vars):\n",
    "    print(el)"
   ]
  },
  {
   "cell_type": "markdown",
   "metadata": {},
   "source": [
    "#### MERGE"
   ]
  },
  {
   "cell_type": "code",
   "execution_count": 540,
   "metadata": {},
   "outputs": [],
   "source": [
    "# MERGE (keanu:Person { name: 'Keanu Reeves' })\n",
    "# ON CREATE SET keanu.created = timestamp()\n",
    "# ON MATCH SET keanu.lastSeen = timestamp()\n",
    "# RETURN keanu.name, keanu.created, keanu.lastSeen\n",
    "\n",
    "def MERGE(driver, statement, on_create=None, on_match=None, ret_vars=[], return_str=False):\n",
    "    \"\"\"\n",
    "    executes a MERGE CYPHER statement\n",
    "    \n",
    "    :param driver: GraphDatabase.driver\n",
    "    :param statement: str, valid CYPHER object statement \n",
    "                      (including multiple objects and edges)\n",
    "    :param on_create: str, valid CYPHER SET statement, \n",
    "                      optional, default None\n",
    "    :param on_match: str, valid CYPHER SET statement, \n",
    "                     optional, default None\n",
    "    :param ret_vars: str or list of str, variables to return, \n",
    "                     optional, default []\n",
    "    :param return_str: bool, whether to return the command or to execute it,\n",
    "                       optional, default False\n",
    "    :return: neo4j.BoltStatementResult \n",
    "             if not ret_vars: None\n",
    "             if return_str: str CYPHER MERGE command\n",
    "    \"\"\"\n",
    "    DO = f'MERGE {statement}'\n",
    "    if on_create:\n",
    "        DO += f' ON CREATE {on_create}'\n",
    "    if on_match:\n",
    "        DO += f' ON MATCH {on_match}'\n",
    "    if ret_vars:\n",
    "        DO += f' RETURN {protect_vars(ret_vars)}'\n",
    "    if return_str:\n",
    "        return DO\n",
    "    else:\n",
    "        return execute(driver, DO) "
   ]
  },
  {
   "cell_type": "code",
   "execution_count": 429,
   "metadata": {},
   "outputs": [
    {
     "name": "stdout",
     "output_type": "stream",
     "text": [
      "<Record keanu.name='Keanu Reeves' keanu.created=1584972006640 keanu.lastSeen=1584972744947>\n",
      "___\n",
      "<Record keanu.name='Keanu Reeves' keanu.created=1584972006640 keanu.lastSeen=1584972764956>\n"
     ]
    }
   ],
   "source": [
    "var_keanu = 'keanu'\n",
    "keanu = node_obj('Person', var_keanu, { 'name': 'Keanu Reeves'})\n",
    "on_create = 'SET keanu.created = timestamp()'\n",
    "on_match = 'SET keanu.lastSeen = timestamp()'\n",
    "ret_vars = ['keanu.name', 'keanu.created', 'keanu.lastSeen']\n",
    "\n",
    "for el in MERGE(driver, keanu, on_create=on_create, on_match=on_match, ret_vars=ret_vars):\n",
    "    print(el)\n",
    "\n",
    "print('___')\n",
    "time.sleep(10)\n",
    "for el in MERGE(driver, keanu, on_create=on_create, on_match=on_match, ret_vars=ret_vars):\n",
    "    print(el)"
   ]
  },
  {
   "cell_type": "code",
   "execution_count": 542,
   "metadata": {},
   "outputs": [
    {
     "data": {
      "text/plain": [
       "'MERGE (keanu:Person {name: \"Keanu Reeves\"}) ON CREATE SET keanu.created = timestamp() ON MATCH SET keanu.lastSeen = timestamp() RETURN keanu.name, keanu.created, keanu.lastSeen'"
      ]
     },
     "execution_count": 542,
     "metadata": {},
     "output_type": "execute_result"
    }
   ],
   "source": [
    "var_keanu = 'keanu'\n",
    "keanu = node_obj('Person', var_keanu, { 'name': 'Keanu Reeves'})\n",
    "on_create = 'SET keanu.created = timestamp()'\n",
    "on_match = 'SET keanu.lastSeen = timestamp()'\n",
    "ret_vars = ['keanu.name', 'keanu.created', 'keanu.lastSeen']\n",
    "MERGE(driver, keanu, on_create=on_create, on_match=on_match, ret_vars=ret_vars, return_str=True)"
   ]
  },
  {
   "cell_type": "markdown",
   "metadata": {},
   "source": [
    "### LOOK UP and CHANGE"
   ]
  },
  {
   "cell_type": "markdown",
   "metadata": {},
   "source": [
    "#### CONDITIONS"
   ]
  },
  {
   "cell_type": "markdown",
   "metadata": {},
   "source": [
    "MATCH (js:Person)-[:KNOWS]-()-[:KNOWS]-(surfer)<br>\n",
    "**WHERE js.name = \"Johan\" AND surfer.hobby = \"surfing\"**<br>\n",
    "RETURN DISTINCT surfer<br>\n",
    "\n",
    "MATCH (director:Person)<br>\n",
    "**WHERE director.name STARTS WITH 'Pet'**<br>\n",
    "RETURN director.name<br>\n",
    "\n",
    "MATCH (director:Person)<br>\n",
    "**WHERE director.name ENDS WITH 'ter'**<br>\n",
    "RETURN director.name<br>"
   ]
  },
  {
   "cell_type": "markdown",
   "metadata": {},
   "source": [
    "#### MATCH"
   ]
  },
  {
   "cell_type": "code",
   "execution_count": 519,
   "metadata": {},
   "outputs": [],
   "source": [
    "# MATCH (ee:Person) WHERE ee.name = \"Emil\" RETURN ee;\n",
    "\n",
    "# MATCH (ee:Person)-[:KNOWS]-(friends)\n",
    "# WHERE ee.name = \"Emil\" RETURN ee, friends\n",
    "\n",
    "def MATCH(driver, statement, conditions, ret_vars=[], return_str=False):\n",
    "    \"\"\"\n",
    "    executes a MATCH CYPHER statement\n",
    "        or returns a MATCH CYPHER command\n",
    "    \n",
    "    :param driver: GraphDatabase.driver\n",
    "    :param statement: str, valid CYPHER object statement \n",
    "                      (including multiple objects and edges)\n",
    "    :param conditions: str, valid CYPHER conditions statement\n",
    "    :param ret_vars: str or list of str, variables to DISTINCT return, \n",
    "                     optional, default []\n",
    "    :param return_str: bool, whether to return the command or to execute it,\n",
    "                       optional, default False\n",
    "    :return: neo4j.BoltStatementResult \n",
    "             if not ret_vars: None\n",
    "             if return_str: str CYPHER MATCH command\n",
    "    \"\"\"\n",
    "    DO = f'MATCH {statement}'\n",
    "    if conditions:\n",
    "        DO += f' WHERE {conditions}'\n",
    "    if return_str:\n",
    "        return DO\n",
    "    if ret_vars:\n",
    "        DO += f' RETURN DISTINCT {protect_vars(ret_vars)}'\n",
    "    return execute(driver, DO) "
   ]
  },
  {
   "cell_type": "code",
   "execution_count": 521,
   "metadata": {},
   "outputs": [],
   "source": [
    "var = 'ee'\n",
    "for el in MATCH(driver, f'({var})', f'{var}.name = \"Emil\"', var):\n",
    "    print(el)"
   ]
  },
  {
   "cell_type": "code",
   "execution_count": 337,
   "metadata": {},
   "outputs": [
    {
     "data": {
      "text/plain": [
       "'MATCH (ee) WHERE ee.name = \"Emil\"'"
      ]
     },
     "execution_count": 337,
     "metadata": {},
     "output_type": "execute_result"
    }
   ],
   "source": [
    "var = 'ee'\n",
    "MATCH(driver, f'({var})', f'{var}.name = \"Emil\"', var, return_str=True)"
   ]
  },
  {
   "cell_type": "code",
   "execution_count": 338,
   "metadata": {},
   "outputs": [
    {
     "data": {
      "text/plain": [
       "<neo4j.BoltStatementResult at 0x2027f4aa240>"
      ]
     },
     "execution_count": 338,
     "metadata": {},
     "output_type": "execute_result"
    }
   ],
   "source": [
    "execute(driver, \"CREATE (js:Person {name: 'Johan'})-[:KNOWS]->(em:Person {name: 'Henry'})-[:KNOWS]->(surfer:Person {name: 'Paul', hobby: 'surfing'})\")"
   ]
  },
  {
   "cell_type": "code",
   "execution_count": 339,
   "metadata": {},
   "outputs": [
    {
     "name": "stdout",
     "output_type": "stream",
     "text": [
      "<Record surfer=<Node id=0 labels={'Person'} properties={'name': 'Paul', 'hobby': 'surfing'}>>\n",
      "<Record surfer=<Node id=263 labels={'Person'} properties={'name': 'Paul', 'hobby': 'surfing'}>>\n",
      "<Record surfer=<Node id=238 labels={'Person'} properties={'name': 'Allison', 'from': 'California', 'hobby': 'surfing'}>>\n"
     ]
    }
   ],
   "source": [
    "# MATCH (js:Person)-[:KNOWS]-()-[:KNOWS]-(surfer)\n",
    "# WHERE js.name = \"Johan\" AND surfer.hobby = \"surfing\"\n",
    "# RETURN DISTINCT surfer\n",
    "\n",
    "for el in MATCH(driver, '(js:Person)-[:KNOWS]-()-[:KNOWS]-(surfer)', \n",
    "                'js.name = \"Johan\" AND surfer.hobby = \"surfing\"', 'surfer'):\n",
    "    print(el)"
   ]
  },
  {
   "cell_type": "code",
   "execution_count": 340,
   "metadata": {},
   "outputs": [
    {
     "name": "stdout",
     "output_type": "stream",
     "text": [
      "<Record js=<Node id=232 labels={'Person'} properties={'name': 'Emil', 'from': 'Sweden', 'klout': 99}>>\n",
      "<Record js=<Node id=233 labels={'Person'} properties={'name': 'Emil', 'from': 'Sweden', 'klout': 99}>>\n",
      "<Record js=<Node id=234 labels={'Person'} properties={'name': 'Emil', 'from': 'Sweden', 'klout': 99}>>\n",
      "<Record js=<Node id=264 labels={'Person'} properties={'name': 'Emma'}>>\n",
      "<Record js=<Node id=265 labels={'Person'} properties={'name': 'Emil'}>>\n"
     ]
    }
   ],
   "source": [
    "for el in MATCH(driver, '(js:Person)', 'js.name STARTS WITH \"Em\"', 'js'):\n",
    "    print(el)"
   ]
  },
  {
   "cell_type": "code",
   "execution_count": 341,
   "metadata": {},
   "outputs": [
    {
     "name": "stdout",
     "output_type": "stream",
     "text": [
      "<Record js=<Node id=0 labels={'Person'} properties={'name': 'Paul', 'hobby': 'surfing'}>>\n",
      "<Record js=<Node id=232 labels={'Person'} properties={'name': 'Emil', 'from': 'Sweden', 'klout': 99}>>\n",
      "<Record js=<Node id=233 labels={'Person'} properties={'name': 'Emil', 'from': 'Sweden', 'klout': 99}>>\n",
      "<Record js=<Node id=234 labels={'Person'} properties={'name': 'Emil', 'from': 'Sweden', 'klout': 99}>>\n",
      "<Record js=<Node id=263 labels={'Person'} properties={'name': 'Paul', 'hobby': 'surfing'}>>\n",
      "<Record js=<Node id=265 labels={'Person'} properties={'name': 'Emil'}>>\n"
     ]
    }
   ],
   "source": [
    "for el in MATCH(driver, '(js:Person)', 'js.name ENDS WITH \"l\"', 'js'):\n",
    "    print(el)"
   ]
  },
  {
   "cell_type": "code",
   "execution_count": 342,
   "metadata": {},
   "outputs": [
    {
     "name": "stdout",
     "output_type": "stream",
     "text": [
      "<Record js=<Node id=0 labels={'Person'} properties={'name': 'Paul', 'hobby': 'surfing'}>>\n",
      "<Record js=<Node id=238 labels={'Person'} properties={'name': 'Allison', 'from': 'California', 'hobby': 'surfing'}>>\n",
      "<Record js=<Node id=263 labels={'Person'} properties={'name': 'Paul', 'hobby': 'surfing'}>>\n",
      "<Record js=<Node id=264 labels={'Person'} properties={'name': 'Emma'}>>\n"
     ]
    }
   ],
   "source": [
    "for el in MATCH(driver, '(js:Person)', 'js.name = \"Emma\" OR js.hobby = \"surfing\"', 'js'):\n",
    "    print(el)"
   ]
  },
  {
   "cell_type": "markdown",
   "metadata": {},
   "source": [
    "#### SET"
   ]
  },
  {
   "cell_type": "code",
   "execution_count": 435,
   "metadata": {},
   "outputs": [],
   "source": [
    "# MATCH (fan:Person)-[w:WATCHED]->(movie)\n",
    "# WHERE fan.name = \"Mikey\"\n",
    "# SET w.rating = 5\n",
    "\n",
    "def SET(driver, match, properties, ret_vars=[], return_str=False):\n",
    "    \"\"\"\n",
    "    executes a SET CYPHER command\n",
    "        or returns a SET CYPHER command\n",
    "    \n",
    "    :param driver: GraphDatabase.driver\n",
    "    :param match: str, valid CYPHER MATCH statement\n",
    "    :param properties: str or list of str, valid CYPHER properties statement(s)\n",
    "    :param ret_vars: str or list of str, variables to DISTINCT return, \n",
    "                     optional, default []\n",
    "    :param return_str: bool, whether to return the command or to execute it,\n",
    "                       optional, default False\n",
    "    :return: neo4j.BoltStatementResult \n",
    "             if not ret_vars: None\n",
    "             if return_str: str CYPHER SET command\n",
    "    \"\"\"\n",
    "    if match:\n",
    "        DO = match\n",
    "    else:\n",
    "        DO = ''\n",
    "    properties = protect_vars(properties)\n",
    "    DO += f'SET {properties}'\n",
    "    if ret_vars:\n",
    "        DO += f' RETURN {protect_vars(ret_vars)}'\n",
    "    if return_str:\n",
    "        return DO\n",
    "    else:\n",
    "        return execute(driver, DO)"
   ]
  },
  {
   "cell_type": "code",
   "execution_count": 436,
   "metadata": {},
   "outputs": [
    {
     "data": {
      "text/plain": [
       "'SET w.rating = 5'"
      ]
     },
     "execution_count": 436,
     "metadata": {},
     "output_type": "execute_result"
    }
   ],
   "source": [
    "SET(driver, None, 'w.rating = 5', return_str=True)"
   ]
  },
  {
   "cell_type": "code",
   "execution_count": 437,
   "metadata": {},
   "outputs": [
    {
     "data": {
      "text/plain": [
       "'SET w.rating = 5, m.length = 32'"
      ]
     },
     "execution_count": 437,
     "metadata": {},
     "output_type": "execute_result"
    }
   ],
   "source": [
    "SET(driver, None, ['w.rating = 5', 'm.length = 32'], return_str=True)"
   ]
  },
  {
   "cell_type": "code",
   "execution_count": 361,
   "metadata": {},
   "outputs": [
    {
     "name": "stdout",
     "output_type": "stream",
     "text": [
      "<Record ee=<Node id=264 labels={'Person'} properties={'name': 'Emma', 'age': 10, 'education': 'primary school'}>>\n"
     ]
    }
   ],
   "source": [
    "var = 'ee'\n",
    "match = MATCH(driver, f'({var})', f'{var}.name = \"Emma\"', return_str=True)\n",
    "properties = [f'{var}.age = 10', f'{var}.education = \"primary school\"']\n",
    "for el in SET(driver, match, properties, var):\n",
    "    print(el)"
   ]
  },
  {
   "cell_type": "code",
   "execution_count": 363,
   "metadata": {},
   "outputs": [
    {
     "name": "stdout",
     "output_type": "stream",
     "text": [
      "<Record ee=<Node id=264 labels={'Person'} properties={'name': 'Emma', 'age': 10, 'education': 'primary school'}>>\n"
     ]
    }
   ],
   "source": [
    "for el in MATCH(driver, f'({var})', f'{var}.name = \"Emma\"', var):\n",
    "    print(el)"
   ]
  },
  {
   "cell_type": "code",
   "execution_count": 430,
   "metadata": {},
   "outputs": [
    {
     "name": "stdout",
     "output_type": "stream",
     "text": [
      "<Record keanu.name='Keanu Reeves' keanu.created=1584972006640 keanu.lastSeen='now'>\n"
     ]
    }
   ],
   "source": [
    "var_keanu = 'keanu'\n",
    "keanu = node_obj('Person', var_keanu, { 'name': 'Keanu Reeves'})\n",
    "on_create = SET(driver, None, 'keanu.created = timestamp()', return_str=True)\n",
    "on_match = SET(driver, None, 'keanu.lastSeen = \"now\"', return_str=True)\n",
    "ret_vars = ['keanu.name', 'keanu.created', 'keanu.lastSeen']\n",
    "\n",
    "for el in MERGE(driver, keanu, on_create=on_create, on_match=on_match, ret_vars=ret_vars):\n",
    "    print(el)"
   ]
  },
  {
   "cell_type": "markdown",
   "metadata": {},
   "source": [
    "#### DELETE"
   ]
  },
  {
   "cell_type": "code",
   "execution_count": 365,
   "metadata": {},
   "outputs": [],
   "source": [
    "# MATCH (n)-[r]-()\n",
    "# WHERE n.name = 'Emil'\n",
    "# DELETE r\n",
    "\n",
    "# MATCH (n) DETACH DELETE n\n",
    "\n",
    "def DELETE(driver, match, del_vars, detach=False):\n",
    "    \"\"\"\n",
    "    executes a DELETE CYPHER command\n",
    "    \n",
    "    :param driver: GraphDatabase.driver\n",
    "    :param match: str, valid CYPHER MATCH statement\n",
    "    :param del_vars: str or list of str, variables to delete\n",
    "    :param detach: bool, wether to detach delete,\n",
    "                   optional, default False\n",
    "    :return: None\n",
    "    \"\"\"\n",
    "    if detach:\n",
    "        delete = 'DETACH DELETE'\n",
    "    else:\n",
    "        delete = 'DELETE'\n",
    "    DO = f'{match} {delete} {protect_vars(del_vars)}'\n",
    "    execute(driver, DO)"
   ]
  },
  {
   "cell_type": "code",
   "execution_count": 431,
   "metadata": {},
   "outputs": [
    {
     "name": "stdout",
     "output_type": "stream",
     "text": [
      "<Record ee=<Node id=221 labels={'Person'} properties={'name': 'Emil', 'from': 'Sweden', 'klout': 99}>>\n",
      "<Record ee=<Node id=219 labels={'Person'} properties={'name': 'Emil', 'from': 'Sweden', 'klout': 99}>>\n",
      "<Record ee=<Node id=220 labels={'Person'} properties={'name': 'Emil', 'from': 'Sweden', 'klout': 99}>>\n",
      "<Record ee=<Node id=217 labels={'Person'} properties={'name': 'Emil'}>>\n",
      "<Record ee=<Node id=206 labels={'Person'} properties={'name': 'Emil'}>>\n",
      "<Record ee=<Node id=202 labels={'Person'} properties={'name': 'Emil', 'from': 'Sweden', 'klout': 99}>>\n"
     ]
    },
    {
     "data": {
      "text/plain": [
       "'MATCH (ee) WHERE ee.name = \"Emil\" AND ee.from = \"Sweden\"'"
      ]
     },
     "execution_count": 431,
     "metadata": {},
     "output_type": "execute_result"
    }
   ],
   "source": [
    "var = 'ee'\n",
    "for el in MATCH(driver, f'({var})', f'{var}.name = \"Emil\"', var):\n",
    "    print(el)\n",
    "match = MATCH(driver, f'({var})', f'{var}.name = \"Emil\" AND {var}.from = \"Sweden\"', return_str=True)\n",
    "match"
   ]
  },
  {
   "cell_type": "code",
   "execution_count": 432,
   "metadata": {},
   "outputs": [],
   "source": [
    "DELETE(driver, match, var, detach=True)"
   ]
  },
  {
   "cell_type": "code",
   "execution_count": 434,
   "metadata": {},
   "outputs": [
    {
     "name": "stdout",
     "output_type": "stream",
     "text": [
      "<Record ee=<Node id=217 labels={'Person'} properties={'name': 'Emil'}>>\n",
      "<Record ee=<Node id=206 labels={'Person'} properties={'name': 'Emil'}>>\n"
     ]
    }
   ],
   "source": [
    "for el in MATCH(driver, f'({var})', f'{var}.name = \"Emil\"', var):\n",
    "    print(el)"
   ]
  },
  {
   "cell_type": "markdown",
   "metadata": {},
   "source": [
    "### INDEX"
   ]
  },
  {
   "cell_type": "code",
   "execution_count": 472,
   "metadata": {},
   "outputs": [],
   "source": [
    "# CREATE INDEX ON :Person(name)\n",
    "\n",
    "def INDEX(driver, var_label, property_name, command='CREATE'):\n",
    "    \"\"\"\n",
    "    creates or drops an index on a variable by property\n",
    "    \n",
    "    :param driver: GraphDatabase.driver\n",
    "    :param var_label: str, type label\n",
    "    :param property_name: str, existing property name\n",
    "    :param comand: str, 'CREATE' or 'DROP',\n",
    "                   optional, default 'CREATE'\n",
    "    :return: None\n",
    "    \"\"\"\n",
    "    DO = f'{command} INDEX ON :{var_label}({property_name})'\n",
    "    execute(driver, DO)"
   ]
  },
  {
   "cell_type": "code",
   "execution_count": 473,
   "metadata": {},
   "outputs": [],
   "source": [
    "INDEX(driver, 'Person', 'name')"
   ]
  },
  {
   "cell_type": "markdown",
   "metadata": {},
   "source": [
    "**USING INDEX**"
   ]
  },
  {
   "cell_type": "code",
   "execution_count": 476,
   "metadata": {},
   "outputs": [
    {
     "name": "stdout",
     "output_type": "stream",
     "text": [
      "<Record n=<Node id=205 labels={'Person'} properties={'name': 'Emma'}>>\n",
      "<Record n=<Node id=216 labels={'Person'} properties={'name': 'Emma'}>>\n"
     ]
    }
   ],
   "source": [
    "# MATCH (n:Person)\n",
    "# USING INDEX n:Person(name)\n",
    "# WHERE n.name = \"Emma\"\n",
    "for el in execute(driver, 'MATCH (n:Person) USING INDEX n:Person(name) WHERE n.name = \"Emma\" RETURN n'):\n",
    "    print(el)"
   ]
  },
  {
   "cell_type": "code",
   "execution_count": 477,
   "metadata": {},
   "outputs": [],
   "source": [
    "INDEX(driver, 'Person', 'name', 'DROP')"
   ]
  },
  {
   "cell_type": "markdown",
   "metadata": {},
   "source": [
    "###  TODO AGGREGATE\n",
    "\n",
    "#### WITH\n",
    "\n",
    "MATCH (director:Person)-[:DIRECTED]->(movie)<br>\n",
    "WITH director, count(movie) as directed ORDER BY directed DESC LIMIT 1<br>\n",
    "MATCH (hopeful:Person)-[:ACTED_IN]->(movie)<br>\n",
    "WITH director, hopeful, count(movie) as appearances ORDER BY appearances LIMIT 1<br>\n",
    "MATCH p=(director)-[*..4]-(hopeful)<br>\n",
    "RETURN p<br>"
   ]
  },
  {
   "cell_type": "markdown",
   "metadata": {},
   "source": [
    "## Add the graph to the DB"
   ]
  },
  {
   "cell_type": "code",
   "execution_count": 479,
   "metadata": {},
   "outputs": [
    {
     "data": {
      "text/html": [
       "<div>\n",
       "<style scoped>\n",
       "    .dataframe tbody tr th:only-of-type {\n",
       "        vertical-align: middle;\n",
       "    }\n",
       "\n",
       "    .dataframe tbody tr th {\n",
       "        vertical-align: top;\n",
       "    }\n",
       "\n",
       "    .dataframe thead th {\n",
       "        text-align: right;\n",
       "    }\n",
       "</style>\n",
       "<table border=\"1\" class=\"dataframe\">\n",
       "  <thead>\n",
       "    <tr style=\"text-align: right;\">\n",
       "      <th></th>\n",
       "      <th>Source</th>\n",
       "      <th>Target</th>\n",
       "      <th>Weight</th>\n",
       "    </tr>\n",
       "    <tr>\n",
       "      <th>Id</th>\n",
       "      <th></th>\n",
       "      <th></th>\n",
       "      <th></th>\n",
       "    </tr>\n",
       "  </thead>\n",
       "  <tbody>\n",
       "    <tr>\n",
       "      <td>5509</td>\n",
       "      <td>Yakov_Alpatych</td>\n",
       "      <td>Nikolai_Rostov</td>\n",
       "      <td>5</td>\n",
       "    </tr>\n",
       "    <tr>\n",
       "      <td>5510</td>\n",
       "      <td>AndreyBolkonsky</td>\n",
       "      <td>Prince_Dolgorukov</td>\n",
       "      <td>11</td>\n",
       "    </tr>\n",
       "    <tr>\n",
       "      <td>5511</td>\n",
       "      <td>Nikolai_Rostov</td>\n",
       "      <td>Count_Ilya_Rostov</td>\n",
       "      <td>12</td>\n",
       "    </tr>\n",
       "    <tr>\n",
       "      <td>5512</td>\n",
       "      <td>приказный23_3_3_</td>\n",
       "      <td>полицеймейстер23_3_3_</td>\n",
       "      <td>2</td>\n",
       "    </tr>\n",
       "    <tr>\n",
       "      <td>6708</td>\n",
       "      <td>Prince_Nikolay_Bolkonsky</td>\n",
       "      <td>2</td>\n",
       "      <td>3</td>\n",
       "    </tr>\n",
       "  </tbody>\n",
       "</table>\n",
       "</div>"
      ],
      "text/plain": [
       "                        Source                 Target  Weight\n",
       "Id                                                           \n",
       "5509            Yakov_Alpatych         Nikolai_Rostov       5\n",
       "5510           AndreyBolkonsky      Prince_Dolgorukov      11\n",
       "5511            Nikolai_Rostov      Count_Ilya_Rostov      12\n",
       "5512          приказный23_3_3_  полицеймейстер23_3_3_       2\n",
       "6708  Prince_Nikolay_Bolkonsky                      2       3"
      ]
     },
     "execution_count": 479,
     "metadata": {},
     "output_type": "execute_result"
    }
   ],
   "source": [
    "wap.head()"
   ]
  },
  {
   "cell_type": "code",
   "execution_count": 480,
   "metadata": {},
   "outputs": [],
   "source": [
    "driver = GraphDatabase.driver(\"bolt://localhost:7687\", auth=('neo4j', 'NEO4J'))"
   ]
  },
  {
   "cell_type": "code",
   "execution_count": 481,
   "metadata": {},
   "outputs": [
    {
     "name": "stdout",
     "output_type": "stream",
     "text": [
      "Source    Yakov_Alpatych\n",
      "Target    Nikolai_Rostov\n",
      "Weight                 5\n",
      "Name: 5509, dtype: object\n"
     ]
    }
   ],
   "source": [
    "for i, row in wap.iterrows():\n",
    "    print(row)\n",
    "    break"
   ]
  },
  {
   "cell_type": "markdown",
   "metadata": {},
   "source": [
    "clear the database"
   ]
  },
  {
   "cell_type": "code",
   "execution_count": 581,
   "metadata": {},
   "outputs": [],
   "source": [
    "ddelete_all(driver)"
   ]
  },
  {
   "cell_type": "markdown",
   "metadata": {},
   "source": [
    "add all unique nodes"
   ]
  },
  {
   "cell_type": "code",
   "execution_count": 580,
   "metadata": {},
   "outputs": [],
   "source": [
    "nodes = list(set(wap.Source.unique()).union(set(wap.Target.unique())))"
   ]
  },
  {
   "cell_type": "code",
   "execution_count": 582,
   "metadata": {},
   "outputs": [],
   "source": [
    "for name in nodes:\n",
    "    name = name.replace(' ', '_')\n",
    "    person = node_obj('Person', name, node_properties={'name': name})\n",
    "    try:\n",
    "        MERGE(driver, person)\n",
    "    except CypherSyntaxError:\n",
    "        person = node_obj('Person', 'node', node_properties={'name': name})\n",
    "        MERGE(driver, person)"
   ]
  },
  {
   "cell_type": "markdown",
   "metadata": {},
   "source": [
    "add edges"
   ]
  },
  {
   "cell_type": "code",
   "execution_count": 528,
   "metadata": {},
   "outputs": [],
   "source": [
    "# MATCH (a {name: 'Nikolai_Rostov'}),\n",
    "#       (b {name: 'Yakov_Alpatych'})\n",
    "# MERGE (a)-[r:TALK {weight: 5}]->(b)"
   ]
  },
  {
   "cell_type": "code",
   "execution_count": 583,
   "metadata": {},
   "outputs": [],
   "source": [
    "for i, row in wap.iterrows():\n",
    "    from_name = row.Source\n",
    "    to_name = row.Target\n",
    "    weight = row.Weight\n",
    "    from_node = node_obj('from', node_properties = {'name': from_name})\n",
    "    to_node = node_obj('to', node_properties = {'name': to_name})\n",
    "    \n",
    "    match = MATCH(driver, protect_vars([from_node, to_node]), '', ret_vars='from', return_str=True)\n",
    "    edge = edge_obj('(from)', '(to)', 'TALK', edge_properties={'weight': weight})\n",
    "    merge = MERGE(driver, edge, return_str=True)\n",
    "    execute(driver, ' '.join([match, merge]))"
   ]
  },
  {
   "cell_type": "markdown",
   "metadata": {},
   "source": [
    "![image](nodes.png)"
   ]
  },
  {
   "cell_type": "code",
   "execution_count": 585,
   "metadata": {},
   "outputs": [
    {
     "data": {
      "text/plain": [
       "566"
      ]
     },
     "execution_count": 585,
     "metadata": {},
     "output_type": "execute_result"
    }
   ],
   "source": [
    "len(list(iter(MATCH(driver, '(n)', '', ret_vars='n'))))"
   ]
  },
  {
   "cell_type": "code",
   "execution_count": 608,
   "metadata": {},
   "outputs": [
    {
     "data": {
      "image/png": "[encoded data removed]",
      "text/plain": [
       "<Figure size 432x288 with 1 Axes>"
      ]
     },
     "metadata": {
      "needs_background": "light"
     },
     "output_type": "display_data"
    }
   ],
   "source": [
    "wap.hist('Weight', bins=25);"
   ]
  },
  {
   "cell_type": "markdown",
   "metadata": {},
   "source": [
    "match 5 nodes that are connected through 2 neighbours and all conections are above 10"
   ]
  },
  {
   "cell_type": "code",
   "execution_count": 609,
   "metadata": {},
   "outputs": [
    {
     "name": "stdout",
     "output_type": "stream",
     "text": [
      "<Record n.name='NatashaRostova' m.name='Prince_Nikolay_Bolkonsky'>\n",
      "__\n",
      "<Record n.name='Princess_Mariya_Bolkonskaya' m.name='Prince_Nikolay_Bolkonsky'>\n",
      "__\n",
      "<Record n.name='Mikhail_Ilarionovich_Kutuzov' m.name='Prince_Nikolay_Bolkonsky'>\n",
      "__\n",
      "<Record n.name='Pierre_Bezukhov' m.name='Prince_Nikolay_Bolkonsky'>\n",
      "__\n",
      "<Record n.name='Bilibin' m.name='Prince_Nikolay_Bolkonsky'>\n",
      "__\n"
     ]
    }
   ],
   "source": [
    "for el in execute(driver, 'MATCH (n)-[r1]->()-[r2]->()-[r3]->(m) WHERE r1.weight>10 AND r2.weight>10 AND r3.weight>10 AND n.name <> m.name RETURN DISTINCT n.name, m.name LIMIT 5'):\n",
    "    print(el)\n",
    "    print('__')"
   ]
  }
 ],
 "metadata": {
  "kernelspec": {
   "display_name": "Python 3",
   "language": "python",
   "name": "python3"
  },
  "language_info": {
   "codemirror_mode": {
    "name": "ipython",
    "version": 3
   },
   "file_extension": ".py",
   "mimetype": "text/x-python",
   "name": "python",
   "nbconvert_exporter": "python",
   "pygments_lexer": "ipython3",
   "version": "3.6.7"
  }
 },
 "nbformat": 4,
 "nbformat_minor": 2
}
