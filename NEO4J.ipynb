{
 "cells": [
  {
   "cell_type": "markdown",
   "metadata": {},
   "source": [
    "## Useful Links\n",
    "\n",
    "#### intro\n",
    " - [about graph DBs](https://neo4j.com/developer/graph-database/)\n",
    "\n",
    "#### cypher\n",
    "- [online course](https://neo4j.com/graphacademy/online-training/introduction-to-neo4j/part-0/)\n",
    "- [about cypher](https://neo4j.com/developer/cypher-query-language/)\n",
    "- [quick help](https://neo4j.com/docs/2.0/cypher-refcard/)\n",
    "\n",
    "#### python\n",
    "- [driver example](https://neo4j.com/docs/api/python-driver/current/)\n",
    "- [python manual](https://neo4j.com/docs/driver-manual/1.7/#driver-get-the-driver)\n",
    "\n"
   ]
  },
  {
   "cell_type": "code",
   "execution_count": 2,
   "metadata": {},
   "outputs": [],
   "source": [
    "from neo4j import GraphDatabase\n",
    "\n",
    "class HelloWorldExample(object):\n",
    "\n",
    "    def __init__(self, uri, user, password):\n",
    "        self._driver = GraphDatabase.driver(uri, auth=(user, password))\n",
    "\n",
    "    def close(self):\n",
    "        self._driver.close()\n",
    "\n",
    "    def print_greeting(self, message):\n",
    "        with self._driver.session() as session:\n",
    "            greeting = session.write_transaction(self._create_and_return_greeting, message)\n",
    "            print(greeting)\n",
    "\n",
    "    @staticmethod\n",
    "    def _create_and_return_greeting(tx, message):\n",
    "        result = tx.run(\"CREATE (a:Greeting) \"\n",
    "                        \"SET a.message = $message \"\n",
    "                        \"RETURN a.message + ', from node ' + id(a)\", message=message)\n",
    "        return result.single()[0]"
   ]
  },
  {
   "cell_type": "code",
   "execution_count": 7,
   "metadata": {},
   "outputs": [],
   "source": [
    "HWE = HelloWorldExample(\"bolt://localhost:7687\",'neo4j', 'NEO4J')"
   ]
  },
  {
   "cell_type": "code",
   "execution_count": 9,
   "metadata": {},
   "outputs": [
    {
     "name": "stdout",
     "output_type": "stream",
     "text": [
      "IT WORKS OH MY GOD!!!111, from node 195\n"
     ]
    }
   ],
   "source": [
    "HWE.print_greeting('IT WORKS OH MY GOD!!!111')"
   ]
  }
 ],
 "metadata": {
  "kernelspec": {
   "display_name": "Python 3",
   "language": "python",
   "name": "python3"
  },
  "language_info": {
   "codemirror_mode": {
    "name": "ipython",
    "version": 3
   },
   "file_extension": ".py",
   "mimetype": "text/x-python",
   "name": "python",
   "nbconvert_exporter": "python",
   "pygments_lexer": "ipython3",
   "version": "3.6.7"
  }
 },
 "nbformat": 4,
 "nbformat_minor": 2
}
