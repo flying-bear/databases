{
 "cells": [
  {
   "cell_type": "code",
   "execution_count": 64,
   "metadata": {},
   "outputs": [],
   "source": [
    "import datetime\n",
    "import ipywidgets as widgets\n",
    "import mysql.connector as mysql\n",
    "import pandas as pd"
   ]
  },
  {
   "cell_type": "markdown",
   "metadata": {},
   "source": [
    "### let's connect to the database"
   ]
  },
  {
   "cell_type": "code",
   "execution_count": 193,
   "metadata": {},
   "outputs": [],
   "source": [
    "con = mysql.connect(user = \"db_2019\", password = \"db_2019db_2019db_2019\", \n",
    "                    host = \"localhost\", database = \"discourse_management\")\n",
    "cur = con.cursor(dictionary=True)"
   ]
  },
  {
   "cell_type": "markdown",
   "metadata": {},
   "source": [
    "## SIMPLE SQL-python interface functions"
   ]
  },
  {
   "cell_type": "markdown",
   "metadata": {},
   "source": [
    "### Utils"
   ]
  },
  {
   "cell_type": "code",
   "execution_count": 56,
   "metadata": {},
   "outputs": [],
   "source": [
    "def protect(names):\n",
    "    \"\"\"\n",
    "    protects values with `` on both sides (if it has ``, it reamis unchanged)\n",
    "    \n",
    "    :param names: list of str or str\n",
    "    :return: list of stror str with `` around each str\n",
    "    \"\"\"\n",
    "    \n",
    "    if type(names) == str:\n",
    "        if names.startswith('`') and names.endswith('`'):\n",
    "            return names\n",
    "        else:\n",
    "            return f\"`{names}`\"\n",
    "    elif type(names) == list or tuple:\n",
    "        return [protect(value) for value in names]"
   ]
  },
  {
   "cell_type": "code",
   "execution_count": 53,
   "metadata": {},
   "outputs": [
    {
     "data": {
      "text/plain": [
       "'`WHY`'"
      ]
     },
     "execution_count": 53,
     "metadata": {},
     "output_type": "execute_result"
    }
   ],
   "source": [
    "protect('WHY')"
   ]
  },
  {
   "cell_type": "code",
   "execution_count": 54,
   "metadata": {},
   "outputs": [
    {
     "data": {
      "text/plain": [
       "'`WHY`'"
      ]
     },
     "execution_count": 54,
     "metadata": {},
     "output_type": "execute_result"
    }
   ],
   "source": [
    "protect('`WHY`')"
   ]
  },
  {
   "cell_type": "code",
   "execution_count": 55,
   "metadata": {},
   "outputs": [
    {
     "data": {
      "text/plain": [
       "['`I`', '`do`', '`hate`', '`programming!`']"
      ]
     },
     "execution_count": 55,
     "metadata": {},
     "output_type": "execute_result"
    }
   ],
   "source": [
    "protect(['I', 'do', '`hate`', 'programming!'])"
   ]
  },
  {
   "cell_type": "markdown",
   "metadata": {},
   "source": [
    "SQL date should be passed in format YYYY-MM-DD, which is exactly str(datetime.date)"
   ]
  },
  {
   "cell_type": "code",
   "execution_count": 7,
   "metadata": {},
   "outputs": [],
   "source": [
    "def str_values(values):\n",
    "    \"\"\"\n",
    "    protects values for SQL (adds '' around strings, str other types)\n",
    "    \n",
    "    :param values: list\n",
    "    :return: list of protected values separated by commas\n",
    "    \"\"\"\n",
    "    return [f\"'{value}'\" if type(value) == str or datetime.date else str(value) for value in values]"
   ]
  },
  {
   "cell_type": "code",
   "execution_count": 8,
   "metadata": {},
   "outputs": [
    {
     "data": {
      "text/plain": [
       "[\"'I'\",\n",
       " \"'was'\",\n",
       " \"'born on'\",\n",
       " \"'1999-12-30'\",\n",
       " \"'not on the'\",\n",
       " \"'1'\",\n",
       " \"'st'\",\n",
       " \"'of January'\"]"
      ]
     },
     "execution_count": 8,
     "metadata": {},
     "output_type": "execute_result"
    }
   ],
   "source": [
    "str_values(['I', 'was', 'born on', datetime.date(1999, 12, 30), 'not on the', 1, 'st', 'of January'])"
   ]
  },
  {
   "cell_type": "markdown",
   "metadata": {},
   "source": [
    "### INSERT"
   ]
  },
  {
   "cell_type": "code",
   "execution_count": 182,
   "metadata": {},
   "outputs": [],
   "source": [
    "def insert(data, table_name, column_names_dict):\n",
    "    \"\"\"\n",
    "    inserts data into a database table\n",
    "    \n",
    "    :param data: list of lists of data\n",
    "    :param table_name: str, table name\n",
    "    :param column_names_dict: dict, keys - column names, values - int, ids inside data inner lists\n",
    "    \"\"\"\n",
    "    columns, ids = list(zip(*list(column_names_dict.items())))\n",
    "    columns = protect(columns)\n",
    "    for datapoint in data:\n",
    "        req = f\"INSERT INTO {protect(table_name)} ({', '.join(columns)}) VALUES \"\n",
    "        values = str_values([datapoint[i] for i in ids])\n",
    "        req += f\"({', '.join(values)})\"\n",
    "        try:\n",
    "            cur.execute(req)\n",
    "            con.commit()\n",
    "        except Exception as e:\n",
    "            print(e)\n",
    "            print(req)"
   ]
  },
  {
   "cell_type": "code",
   "execution_count": 179,
   "metadata": {},
   "outputs": [],
   "source": [
    "data = [[1, 'yay', 'programming', str(datetime.date.today())], \n",
    "        [4, 'why', 'do i do this', str(datetime.date(2000, 12, 1))]]\n",
    "column_names_dict = {'int_col':0, 'str_col':2, 'str_col2':1, 'date_col':3}\n",
    "insert(data, 'example', column_names_dict)"
   ]
  },
  {
   "cell_type": "markdown",
   "metadata": {},
   "source": [
    "**IT DID THE INSERT!!!**\n",
    "You will see it below, when we select stuff from the table :)"
   ]
  },
  {
   "cell_type": "markdown",
   "metadata": {},
   "source": [
    "### SELECT"
   ]
  },
  {
   "cell_type": "code",
   "execution_count": 168,
   "metadata": {},
   "outputs": [],
   "source": [
    "\"\"\"SELECT DISTINCT author_entry.author_name FROM author_entry, text_entry WHERE \n",
    "author_entry.author_id = text_entry.author_id LIMIT 11, 5\"\"\"\n",
    "\n",
    "\"\"\"SELECT db_2019.author_entry.gender, count(db_2019.author_entry.gender) AS cnt FROM db_2019.author_entry \n",
    "GROUP BY db_2019.author_entry.gender ORDER BY cnt DESC;\"\"\"\n",
    "\n",
    "\"\"\"SELECT db_2019.author_entry.gender, count(db_2019.author_entry.gender) AS cnt FROM db_2019.author_entry \n",
    "GROUP BY db_2019.author_entry.gender HAVING cnt > 1;\"\"\"\n",
    "def select(table_names, column_names='*', condition=None, distinct=False, limit=None, order=None, df=True, warn=True):\n",
    "    \"\"\"\n",
    "    selects data from database tables on condition\n",
    "    \n",
    "    :param table_names: list of str, table names\n",
    "    :param column_names: list of str, column names, optional, default '*'\n",
    "    :param condition: str, condition on column names and values, optional, default None\n",
    "    :param distinct: bool, whether to drop identical values, optional, default False\n",
    "    :param limit: tuple (int, int) (begin from, limit by) \n",
    "                  or int, limit entries, optional, default None\n",
    "    :param order: tuple (str, 'DESC'), (column_name to order by, wether to use descending order), \n",
    "                  or str column_name to order by, optional, default None\n",
    "    :param df: bool, whetehr to return pandas or raw sql list of dicts, optional, default True\n",
    "    :param warn: bool, whetehr to print if nothing was found, optional, default True\n",
    "    \n",
    "    :return: pd.DataFrame if df, else raw sql list of dicts\n",
    "    \"\"\"\n",
    "    table_names_str = ', '.join(protect(table_names))\n",
    "    if type(column_names) == list:\n",
    "        column_names_str = ', '.join(protect(column_names))\n",
    "    else:\n",
    "        column_names_str = column_names\n",
    "        \n",
    "    if distinct:\n",
    "        distinct = \"DISTINCT\"\n",
    "    else:\n",
    "        distinct = \"\"\n",
    "    \n",
    "    req = f\"SELECT {distinct} {column_names_str} FROM {table_names_str}\"\n",
    "    \n",
    "    if condition:\n",
    "        req += f\" WHERE {condition}\"\n",
    "    \n",
    "    if type(order) == tuple:\n",
    "        req += f\"ORDER BY {protect(order[0])} {order[1]}\"\n",
    "    elif order:\n",
    "        req += f\"ORDER BY {protect(order)}\"\n",
    "    \n",
    "    if type(limit) == tuple:\n",
    "        req += f\"LIMIT {', '.join(map(str, limit))}\"\n",
    "    elif type(limit) == int:\n",
    "        req += f\"LIMIT {limit}\"\n",
    "\n",
    "    try:\n",
    "        cur.execute(req)\n",
    "        res = cur.fetchall()\n",
    "        if res:\n",
    "            if df:\n",
    "                return pd.DataFrame.from_records(res)\n",
    "            else:\n",
    "                return res\n",
    "        elif warn:\n",
    "            print('nothing was found for your request!')\n",
    "    except Exception as e:\n",
    "        print(f\"got exception: {e}\")\n",
    "        print(f\"your request: {req}\")"
   ]
  },
  {
   "cell_type": "markdown",
   "metadata": {},
   "source": [
    "**LET US TEST THIS MONSTER**"
   ]
  },
  {
   "cell_type": "markdown",
   "metadata": {},
   "source": [
    "simple select"
   ]
  },
  {
   "cell_type": "code",
   "execution_count": 180,
   "metadata": {},
   "outputs": [
    {
     "data": {
      "text/html": [
       "<div>\n",
       "<style scoped>\n",
       "    .dataframe tbody tr th:only-of-type {\n",
       "        vertical-align: middle;\n",
       "    }\n",
       "\n",
       "    .dataframe tbody tr th {\n",
       "        vertical-align: top;\n",
       "    }\n",
       "\n",
       "    .dataframe thead th {\n",
       "        text-align: right;\n",
       "    }\n",
       "</style>\n",
       "<table border=\"1\" class=\"dataframe\">\n",
       "  <thead>\n",
       "    <tr style=\"text-align: right;\">\n",
       "      <th></th>\n",
       "      <th>id_example</th>\n",
       "      <th>int_col</th>\n",
       "      <th>str_col</th>\n",
       "      <th>str_col2</th>\n",
       "      <th>date_col</th>\n",
       "    </tr>\n",
       "  </thead>\n",
       "  <tbody>\n",
       "    <tr>\n",
       "      <td>0</td>\n",
       "      <td>1</td>\n",
       "      <td>666</td>\n",
       "      <td>hell</td>\n",
       "      <td>hell</td>\n",
       "      <td>2001-01-01</td>\n",
       "    </tr>\n",
       "    <tr>\n",
       "      <td>1</td>\n",
       "      <td>2</td>\n",
       "      <td>1</td>\n",
       "      <td>oh</td>\n",
       "      <td>no</td>\n",
       "      <td>2019-12-24</td>\n",
       "    </tr>\n",
       "    <tr>\n",
       "      <td>2</td>\n",
       "      <td>3</td>\n",
       "      <td>0</td>\n",
       "      <td>please</td>\n",
       "      <td>no</td>\n",
       "      <td>1999-12-30</td>\n",
       "    </tr>\n",
       "    <tr>\n",
       "      <td>3</td>\n",
       "      <td>10</td>\n",
       "      <td>1</td>\n",
       "      <td>oh</td>\n",
       "      <td>no</td>\n",
       "      <td>2019-12-24</td>\n",
       "    </tr>\n",
       "    <tr>\n",
       "      <td>4</td>\n",
       "      <td>11</td>\n",
       "      <td>4</td>\n",
       "      <td>hurray</td>\n",
       "      <td>!!!</td>\n",
       "      <td>2000-01-01</td>\n",
       "    </tr>\n",
       "    <tr>\n",
       "      <td>5</td>\n",
       "      <td>12</td>\n",
       "      <td>1</td>\n",
       "      <td>oh</td>\n",
       "      <td>no</td>\n",
       "      <td>2019-12-24</td>\n",
       "    </tr>\n",
       "    <tr>\n",
       "      <td>6</td>\n",
       "      <td>13</td>\n",
       "      <td>4</td>\n",
       "      <td>hurray</td>\n",
       "      <td>!!!</td>\n",
       "      <td>2000-01-01</td>\n",
       "    </tr>\n",
       "    <tr>\n",
       "      <td>7</td>\n",
       "      <td>14</td>\n",
       "      <td>1</td>\n",
       "      <td>programming</td>\n",
       "      <td>yay</td>\n",
       "      <td>2019-12-25</td>\n",
       "    </tr>\n",
       "    <tr>\n",
       "      <td>8</td>\n",
       "      <td>15</td>\n",
       "      <td>4</td>\n",
       "      <td>do i do this</td>\n",
       "      <td>why</td>\n",
       "      <td>2000-12-01</td>\n",
       "    </tr>\n",
       "  </tbody>\n",
       "</table>\n",
       "</div>"
      ],
      "text/plain": [
       "   id_example  int_col       str_col str_col2    date_col\n",
       "0           1      666          hell     hell  2001-01-01\n",
       "1           2        1            oh       no  2019-12-24\n",
       "2           3        0        please       no  1999-12-30\n",
       "3          10        1            oh       no  2019-12-24\n",
       "4          11        4        hurray      !!!  2000-01-01\n",
       "5          12        1            oh       no  2019-12-24\n",
       "6          13        4        hurray      !!!  2000-01-01\n",
       "7          14        1   programming      yay  2019-12-25\n",
       "8          15        4  do i do this      why  2000-12-01"
      ]
     },
     "execution_count": 180,
     "metadata": {},
     "output_type": "execute_result"
    }
   ],
   "source": [
    "select(['example'])"
   ]
  },
  {
   "cell_type": "markdown",
   "metadata": {},
   "source": [
    "on condition"
   ]
  },
  {
   "cell_type": "code",
   "execution_count": 122,
   "metadata": {
    "scrolled": true
   },
   "outputs": [
    {
     "data": {
      "text/html": [
       "<div>\n",
       "<style scoped>\n",
       "    .dataframe tbody tr th:only-of-type {\n",
       "        vertical-align: middle;\n",
       "    }\n",
       "\n",
       "    .dataframe tbody tr th {\n",
       "        vertical-align: top;\n",
       "    }\n",
       "\n",
       "    .dataframe thead th {\n",
       "        text-align: right;\n",
       "    }\n",
       "</style>\n",
       "<table border=\"1\" class=\"dataframe\">\n",
       "  <thead>\n",
       "    <tr style=\"text-align: right;\">\n",
       "      <th></th>\n",
       "      <th>id_example</th>\n",
       "      <th>int_col</th>\n",
       "      <th>str_col</th>\n",
       "      <th>str_col2</th>\n",
       "      <th>date_col</th>\n",
       "    </tr>\n",
       "  </thead>\n",
       "  <tbody>\n",
       "    <tr>\n",
       "      <td>0</td>\n",
       "      <td>1</td>\n",
       "      <td>32</td>\n",
       "      <td>hell</td>\n",
       "      <td>hell</td>\n",
       "      <td>2001-01-01</td>\n",
       "    </tr>\n",
       "    <tr>\n",
       "      <td>1</td>\n",
       "      <td>2</td>\n",
       "      <td>1</td>\n",
       "      <td>oh</td>\n",
       "      <td>no</td>\n",
       "      <td>2019-12-24</td>\n",
       "    </tr>\n",
       "  </tbody>\n",
       "</table>\n",
       "</div>"
      ],
      "text/plain": [
       "   id_example  int_col str_col str_col2    date_col\n",
       "0           1       32    hell     hell  2001-01-01\n",
       "1           2        1      oh       no  2019-12-24"
      ]
     },
     "execution_count": 122,
     "metadata": {},
     "output_type": "execute_result"
    }
   ],
   "source": [
    "select(['example'], condition='id_example < 3')"
   ]
  },
  {
   "cell_type": "markdown",
   "metadata": {},
   "source": [
    "on condition and columns"
   ]
  },
  {
   "cell_type": "code",
   "execution_count": 123,
   "metadata": {},
   "outputs": [
    {
     "data": {
      "text/html": [
       "<div>\n",
       "<style scoped>\n",
       "    .dataframe tbody tr th:only-of-type {\n",
       "        vertical-align: middle;\n",
       "    }\n",
       "\n",
       "    .dataframe tbody tr th {\n",
       "        vertical-align: top;\n",
       "    }\n",
       "\n",
       "    .dataframe thead th {\n",
       "        text-align: right;\n",
       "    }\n",
       "</style>\n",
       "<table border=\"1\" class=\"dataframe\">\n",
       "  <thead>\n",
       "    <tr style=\"text-align: right;\">\n",
       "      <th></th>\n",
       "      <th>int_col</th>\n",
       "      <th>str_col2</th>\n",
       "    </tr>\n",
       "  </thead>\n",
       "  <tbody>\n",
       "    <tr>\n",
       "      <td>0</td>\n",
       "      <td>1</td>\n",
       "      <td>no</td>\n",
       "    </tr>\n",
       "    <tr>\n",
       "      <td>1</td>\n",
       "      <td>1</td>\n",
       "      <td>no</td>\n",
       "    </tr>\n",
       "  </tbody>\n",
       "</table>\n",
       "</div>"
      ],
      "text/plain": [
       "   int_col str_col2\n",
       "0        1       no\n",
       "1        1       no"
      ]
     },
     "execution_count": 123,
     "metadata": {},
     "output_type": "execute_result"
    }
   ],
   "source": [
    "select(['example'], ['int_col', 'str_col2'], condition='id_example = 2 or id_example = 10')"
   ]
  },
  {
   "cell_type": "markdown",
   "metadata": {},
   "source": [
    "distinct"
   ]
  },
  {
   "cell_type": "code",
   "execution_count": 124,
   "metadata": {},
   "outputs": [
    {
     "data": {
      "text/html": [
       "<div>\n",
       "<style scoped>\n",
       "    .dataframe tbody tr th:only-of-type {\n",
       "        vertical-align: middle;\n",
       "    }\n",
       "\n",
       "    .dataframe tbody tr th {\n",
       "        vertical-align: top;\n",
       "    }\n",
       "\n",
       "    .dataframe thead th {\n",
       "        text-align: right;\n",
       "    }\n",
       "</style>\n",
       "<table border=\"1\" class=\"dataframe\">\n",
       "  <thead>\n",
       "    <tr style=\"text-align: right;\">\n",
       "      <th></th>\n",
       "      <th>int_col</th>\n",
       "      <th>str_col2</th>\n",
       "    </tr>\n",
       "  </thead>\n",
       "  <tbody>\n",
       "    <tr>\n",
       "      <td>0</td>\n",
       "      <td>1</td>\n",
       "      <td>no</td>\n",
       "    </tr>\n",
       "  </tbody>\n",
       "</table>\n",
       "</div>"
      ],
      "text/plain": [
       "   int_col str_col2\n",
       "0        1       no"
      ]
     },
     "execution_count": 124,
     "metadata": {},
     "output_type": "execute_result"
    }
   ],
   "source": [
    "select(['example'], ['int_col', 'str_col2'], condition='id_example = 2 or id_example = 10', distinct=True)"
   ]
  },
  {
   "cell_type": "markdown",
   "metadata": {},
   "source": [
    "limit"
   ]
  },
  {
   "cell_type": "code",
   "execution_count": 125,
   "metadata": {},
   "outputs": [
    {
     "data": {
      "text/html": [
       "<div>\n",
       "<style scoped>\n",
       "    .dataframe tbody tr th:only-of-type {\n",
       "        vertical-align: middle;\n",
       "    }\n",
       "\n",
       "    .dataframe tbody tr th {\n",
       "        vertical-align: top;\n",
       "    }\n",
       "\n",
       "    .dataframe thead th {\n",
       "        text-align: right;\n",
       "    }\n",
       "</style>\n",
       "<table border=\"1\" class=\"dataframe\">\n",
       "  <thead>\n",
       "    <tr style=\"text-align: right;\">\n",
       "      <th></th>\n",
       "      <th>id_example</th>\n",
       "      <th>int_col</th>\n",
       "      <th>str_col</th>\n",
       "      <th>str_col2</th>\n",
       "      <th>date_col</th>\n",
       "    </tr>\n",
       "  </thead>\n",
       "  <tbody>\n",
       "    <tr>\n",
       "      <td>0</td>\n",
       "      <td>1</td>\n",
       "      <td>32</td>\n",
       "      <td>hell</td>\n",
       "      <td>hell</td>\n",
       "      <td>2001-01-01</td>\n",
       "    </tr>\n",
       "    <tr>\n",
       "      <td>1</td>\n",
       "      <td>2</td>\n",
       "      <td>1</td>\n",
       "      <td>oh</td>\n",
       "      <td>no</td>\n",
       "      <td>2019-12-24</td>\n",
       "    </tr>\n",
       "  </tbody>\n",
       "</table>\n",
       "</div>"
      ],
      "text/plain": [
       "   id_example  int_col str_col str_col2    date_col\n",
       "0           1       32    hell     hell  2001-01-01\n",
       "1           2        1      oh       no  2019-12-24"
      ]
     },
     "execution_count": 125,
     "metadata": {},
     "output_type": "execute_result"
    }
   ],
   "source": [
    "select(['example'], limit=2)"
   ]
  },
  {
   "cell_type": "code",
   "execution_count": 126,
   "metadata": {},
   "outputs": [
    {
     "data": {
      "text/html": [
       "<div>\n",
       "<style scoped>\n",
       "    .dataframe tbody tr th:only-of-type {\n",
       "        vertical-align: middle;\n",
       "    }\n",
       "\n",
       "    .dataframe tbody tr th {\n",
       "        vertical-align: top;\n",
       "    }\n",
       "\n",
       "    .dataframe thead th {\n",
       "        text-align: right;\n",
       "    }\n",
       "</style>\n",
       "<table border=\"1\" class=\"dataframe\">\n",
       "  <thead>\n",
       "    <tr style=\"text-align: right;\">\n",
       "      <th></th>\n",
       "      <th>id_example</th>\n",
       "      <th>int_col</th>\n",
       "      <th>str_col</th>\n",
       "      <th>str_col2</th>\n",
       "      <th>date_col</th>\n",
       "    </tr>\n",
       "  </thead>\n",
       "  <tbody>\n",
       "    <tr>\n",
       "      <td>0</td>\n",
       "      <td>12</td>\n",
       "      <td>1</td>\n",
       "      <td>oh</td>\n",
       "      <td>no</td>\n",
       "      <td>2019-12-24</td>\n",
       "    </tr>\n",
       "    <tr>\n",
       "      <td>1</td>\n",
       "      <td>13</td>\n",
       "      <td>4</td>\n",
       "      <td>hurray</td>\n",
       "      <td>!!!</td>\n",
       "      <td>2000-01-01</td>\n",
       "    </tr>\n",
       "  </tbody>\n",
       "</table>\n",
       "</div>"
      ],
      "text/plain": [
       "   id_example  int_col str_col str_col2    date_col\n",
       "0          12        1      oh       no  2019-12-24\n",
       "1          13        4  hurray      !!!  2000-01-01"
      ]
     },
     "execution_count": 126,
     "metadata": {},
     "output_type": "execute_result"
    }
   ],
   "source": [
    "select(['example'], limit=(5,2))"
   ]
  },
  {
   "cell_type": "markdown",
   "metadata": {},
   "source": [
    "order by"
   ]
  },
  {
   "cell_type": "code",
   "execution_count": 130,
   "metadata": {
    "scrolled": true
   },
   "outputs": [
    {
     "data": {
      "text/html": [
       "<div>\n",
       "<style scoped>\n",
       "    .dataframe tbody tr th:only-of-type {\n",
       "        vertical-align: middle;\n",
       "    }\n",
       "\n",
       "    .dataframe tbody tr th {\n",
       "        vertical-align: top;\n",
       "    }\n",
       "\n",
       "    .dataframe thead th {\n",
       "        text-align: right;\n",
       "    }\n",
       "</style>\n",
       "<table border=\"1\" class=\"dataframe\">\n",
       "  <thead>\n",
       "    <tr style=\"text-align: right;\">\n",
       "      <th></th>\n",
       "      <th>id_example</th>\n",
       "      <th>int_col</th>\n",
       "      <th>str_col</th>\n",
       "      <th>str_col2</th>\n",
       "      <th>date_col</th>\n",
       "    </tr>\n",
       "  </thead>\n",
       "  <tbody>\n",
       "    <tr>\n",
       "      <td>0</td>\n",
       "      <td>3</td>\n",
       "      <td>0</td>\n",
       "      <td>please</td>\n",
       "      <td>no</td>\n",
       "      <td>1999-12-30</td>\n",
       "    </tr>\n",
       "    <tr>\n",
       "      <td>1</td>\n",
       "      <td>2</td>\n",
       "      <td>1</td>\n",
       "      <td>oh</td>\n",
       "      <td>no</td>\n",
       "      <td>2019-12-24</td>\n",
       "    </tr>\n",
       "    <tr>\n",
       "      <td>2</td>\n",
       "      <td>10</td>\n",
       "      <td>1</td>\n",
       "      <td>oh</td>\n",
       "      <td>no</td>\n",
       "      <td>2019-12-24</td>\n",
       "    </tr>\n",
       "    <tr>\n",
       "      <td>3</td>\n",
       "      <td>12</td>\n",
       "      <td>1</td>\n",
       "      <td>oh</td>\n",
       "      <td>no</td>\n",
       "      <td>2019-12-24</td>\n",
       "    </tr>\n",
       "    <tr>\n",
       "      <td>4</td>\n",
       "      <td>11</td>\n",
       "      <td>4</td>\n",
       "      <td>hurray</td>\n",
       "      <td>!!!</td>\n",
       "      <td>2000-01-01</td>\n",
       "    </tr>\n",
       "    <tr>\n",
       "      <td>5</td>\n",
       "      <td>13</td>\n",
       "      <td>4</td>\n",
       "      <td>hurray</td>\n",
       "      <td>!!!</td>\n",
       "      <td>2000-01-01</td>\n",
       "    </tr>\n",
       "    <tr>\n",
       "      <td>6</td>\n",
       "      <td>1</td>\n",
       "      <td>32</td>\n",
       "      <td>hell</td>\n",
       "      <td>hell</td>\n",
       "      <td>2001-01-01</td>\n",
       "    </tr>\n",
       "  </tbody>\n",
       "</table>\n",
       "</div>"
      ],
      "text/plain": [
       "   id_example  int_col str_col str_col2    date_col\n",
       "0           3        0  please       no  1999-12-30\n",
       "1           2        1      oh       no  2019-12-24\n",
       "2          10        1      oh       no  2019-12-24\n",
       "3          12        1      oh       no  2019-12-24\n",
       "4          11        4  hurray      !!!  2000-01-01\n",
       "5          13        4  hurray      !!!  2000-01-01\n",
       "6           1       32    hell     hell  2001-01-01"
      ]
     },
     "execution_count": 130,
     "metadata": {},
     "output_type": "execute_result"
    }
   ],
   "source": [
    "select(['example'], order='int_col')"
   ]
  },
  {
   "cell_type": "code",
   "execution_count": 131,
   "metadata": {},
   "outputs": [
    {
     "data": {
      "text/html": [
       "<div>\n",
       "<style scoped>\n",
       "    .dataframe tbody tr th:only-of-type {\n",
       "        vertical-align: middle;\n",
       "    }\n",
       "\n",
       "    .dataframe tbody tr th {\n",
       "        vertical-align: top;\n",
       "    }\n",
       "\n",
       "    .dataframe thead th {\n",
       "        text-align: right;\n",
       "    }\n",
       "</style>\n",
       "<table border=\"1\" class=\"dataframe\">\n",
       "  <thead>\n",
       "    <tr style=\"text-align: right;\">\n",
       "      <th></th>\n",
       "      <th>id_example</th>\n",
       "      <th>int_col</th>\n",
       "      <th>str_col</th>\n",
       "      <th>str_col2</th>\n",
       "      <th>date_col</th>\n",
       "    </tr>\n",
       "  </thead>\n",
       "  <tbody>\n",
       "    <tr>\n",
       "      <td>0</td>\n",
       "      <td>1</td>\n",
       "      <td>32</td>\n",
       "      <td>hell</td>\n",
       "      <td>hell</td>\n",
       "      <td>2001-01-01</td>\n",
       "    </tr>\n",
       "    <tr>\n",
       "      <td>1</td>\n",
       "      <td>11</td>\n",
       "      <td>4</td>\n",
       "      <td>hurray</td>\n",
       "      <td>!!!</td>\n",
       "      <td>2000-01-01</td>\n",
       "    </tr>\n",
       "    <tr>\n",
       "      <td>2</td>\n",
       "      <td>13</td>\n",
       "      <td>4</td>\n",
       "      <td>hurray</td>\n",
       "      <td>!!!</td>\n",
       "      <td>2000-01-01</td>\n",
       "    </tr>\n",
       "    <tr>\n",
       "      <td>3</td>\n",
       "      <td>2</td>\n",
       "      <td>1</td>\n",
       "      <td>oh</td>\n",
       "      <td>no</td>\n",
       "      <td>2019-12-24</td>\n",
       "    </tr>\n",
       "    <tr>\n",
       "      <td>4</td>\n",
       "      <td>10</td>\n",
       "      <td>1</td>\n",
       "      <td>oh</td>\n",
       "      <td>no</td>\n",
       "      <td>2019-12-24</td>\n",
       "    </tr>\n",
       "    <tr>\n",
       "      <td>5</td>\n",
       "      <td>12</td>\n",
       "      <td>1</td>\n",
       "      <td>oh</td>\n",
       "      <td>no</td>\n",
       "      <td>2019-12-24</td>\n",
       "    </tr>\n",
       "    <tr>\n",
       "      <td>6</td>\n",
       "      <td>3</td>\n",
       "      <td>0</td>\n",
       "      <td>please</td>\n",
       "      <td>no</td>\n",
       "      <td>1999-12-30</td>\n",
       "    </tr>\n",
       "  </tbody>\n",
       "</table>\n",
       "</div>"
      ],
      "text/plain": [
       "   id_example  int_col str_col str_col2    date_col\n",
       "0           1       32    hell     hell  2001-01-01\n",
       "1          11        4  hurray      !!!  2000-01-01\n",
       "2          13        4  hurray      !!!  2000-01-01\n",
       "3           2        1      oh       no  2019-12-24\n",
       "4          10        1      oh       no  2019-12-24\n",
       "5          12        1      oh       no  2019-12-24\n",
       "6           3        0  please       no  1999-12-30"
      ]
     },
     "execution_count": 131,
     "metadata": {},
     "output_type": "execute_result"
    }
   ],
   "source": [
    "select(['example'], order=('int_col', 'DESC'))"
   ]
  },
  {
   "cell_type": "markdown",
   "metadata": {},
   "source": [
    "warn"
   ]
  },
  {
   "cell_type": "code",
   "execution_count": 170,
   "metadata": {},
   "outputs": [
    {
     "name": "stdout",
     "output_type": "stream",
     "text": [
      "nothing was found for your request!\n"
     ]
    }
   ],
   "source": [
    "select(['example'], condition=\"str_col2 = 'jshfeshfhf'\")"
   ]
  },
  {
   "cell_type": "code",
   "execution_count": 169,
   "metadata": {},
   "outputs": [],
   "source": [
    "select(['example'], condition=\"str_col2 = 'jshfeshfhf'\", warn=False)"
   ]
  },
  {
   "cell_type": "markdown",
   "metadata": {},
   "source": [
    "**IT WORKS WITH REAL DATA TOO!**"
   ]
  },
  {
   "cell_type": "code",
   "execution_count": 19,
   "metadata": {
    "scrolled": true
   },
   "outputs": [
    {
     "data": {
      "text/html": [
       "<div>\n",
       "<style scoped>\n",
       "    .dataframe tbody tr th:only-of-type {\n",
       "        vertical-align: middle;\n",
       "    }\n",
       "\n",
       "    .dataframe tbody tr th {\n",
       "        vertical-align: top;\n",
       "    }\n",
       "\n",
       "    .dataframe thead th {\n",
       "        text-align: right;\n",
       "    }\n",
       "</style>\n",
       "<table border=\"1\" class=\"dataframe\">\n",
       "  <thead>\n",
       "    <tr style=\"text-align: right;\">\n",
       "      <th></th>\n",
       "      <th>id_experiment</th>\n",
       "      <th>staff_surname</th>\n",
       "      <th>collection_date</th>\n",
       "    </tr>\n",
       "  </thead>\n",
       "  <tbody>\n",
       "    <tr>\n",
       "      <td>0</td>\n",
       "      <td>1</td>\n",
       "      <td>Рязанская</td>\n",
       "      <td>2019-01-20</td>\n",
       "    </tr>\n",
       "    <tr>\n",
       "      <td>1</td>\n",
       "      <td>2</td>\n",
       "      <td>Худякова</td>\n",
       "      <td>2019-03-18</td>\n",
       "    </tr>\n",
       "    <tr>\n",
       "      <td>2</td>\n",
       "      <td>3</td>\n",
       "      <td>Рязанская</td>\n",
       "      <td>2018-01-10</td>\n",
       "    </tr>\n",
       "    <tr>\n",
       "      <td>3</td>\n",
       "      <td>4</td>\n",
       "      <td>Худякова</td>\n",
       "      <td>2017-09-11</td>\n",
       "    </tr>\n",
       "    <tr>\n",
       "      <td>4</td>\n",
       "      <td>5</td>\n",
       "      <td>Рязанская</td>\n",
       "      <td>2019-05-22</td>\n",
       "    </tr>\n",
       "    <tr>\n",
       "      <td>5</td>\n",
       "      <td>6</td>\n",
       "      <td>Худякова</td>\n",
       "      <td>2017-11-23</td>\n",
       "    </tr>\n",
       "  </tbody>\n",
       "</table>\n",
       "</div>"
      ],
      "text/plain": [
       "   id_experiment staff_surname collection_date\n",
       "0              1     Рязанская      2019-01-20\n",
       "1              2      Худякова      2019-03-18\n",
       "2              3     Рязанская      2018-01-10\n",
       "3              4      Худякова      2017-09-11\n",
       "4              5     Рязанская      2019-05-22\n",
       "5              6      Худякова      2017-11-23"
      ]
     },
     "execution_count": 19,
     "metadata": {},
     "output_type": "execute_result"
    }
   ],
   "source": [
    "select(['subjects', 'experiments', 'staff'], ['id_experiment', 'staff_surname', 'collection_date'], condition='subjects.id_subject = experiments.id_subject and experiments.id_staff_collected = staff.id_staff')"
   ]
  },
  {
   "cell_type": "code",
   "execution_count": 20,
   "metadata": {},
   "outputs": [
    {
     "name": "stdout",
     "output_type": "stream",
     "text": [
      "Nothing was found for your request!\n"
     ]
    }
   ],
   "source": [
    "select(['subjects', 'experiments', 'staff'], ['id_experiment', 'staff_surname', 'collection_date'], condition='subjects.id_subject = experiments.id_subject and experiments.id_staff_collected > 2')"
   ]
  },
  {
   "cell_type": "markdown",
   "metadata": {},
   "source": [
    "### UPDATE"
   ]
  },
  {
   "cell_type": "code",
   "execution_count": 65,
   "metadata": {},
   "outputs": [],
   "source": [
    "\"UPDATE `discourse_management`.`example` SET `str_col2` = 'yes' WHERE (`id_example` = '12');\"\n",
    "def update(table_name, column_names, values, condition):\n",
    "    \"\"\"\n",
    "    changes one entry in a database table\n",
    "    \n",
    "    :param table_name: str, table name\n",
    "    :param column_names: list of str, column names, \n",
    "    :param values: list, data to be changed\n",
    "    :param condition: str of type \"id_example = 1\"\n",
    "    \"\"\"\n",
    "    if len(column_names) != len(values):\n",
    "        print(f\"expected column_names and values of the same length, got {len(column_names)} and {len(values)}\")\n",
    "        return\n",
    "    table_name = protect(table_name)\n",
    "    column_names = protect(column_names)\n",
    "    values = str_values(values)\n",
    "    changes = [f\"{column_names[i]} = {values[i]}\" for i in range(len(column_names))]\n",
    "    req = f\"UPDATE {table_name} SET {', '.join(changes)} WHERE ({condition})\"\n",
    "    try:\n",
    "        cur.execute(req)\n",
    "        con.commit()\n",
    "    except Exception as e:\n",
    "        print(f\"got exception: {e}\")\n",
    "        print(f\"your request: {req}\")"
   ]
  },
  {
   "cell_type": "code",
   "execution_count": 132,
   "metadata": {},
   "outputs": [
    {
     "data": {
      "text/html": [
       "<div>\n",
       "<style scoped>\n",
       "    .dataframe tbody tr th:only-of-type {\n",
       "        vertical-align: middle;\n",
       "    }\n",
       "\n",
       "    .dataframe tbody tr th {\n",
       "        vertical-align: top;\n",
       "    }\n",
       "\n",
       "    .dataframe thead th {\n",
       "        text-align: right;\n",
       "    }\n",
       "</style>\n",
       "<table border=\"1\" class=\"dataframe\">\n",
       "  <thead>\n",
       "    <tr style=\"text-align: right;\">\n",
       "      <th></th>\n",
       "      <th>id_example</th>\n",
       "      <th>int_col</th>\n",
       "      <th>str_col</th>\n",
       "      <th>str_col2</th>\n",
       "      <th>date_col</th>\n",
       "    </tr>\n",
       "  </thead>\n",
       "  <tbody>\n",
       "    <tr>\n",
       "      <td>0</td>\n",
       "      <td>1</td>\n",
       "      <td>32</td>\n",
       "      <td>hell</td>\n",
       "      <td>hell</td>\n",
       "      <td>2001-01-01</td>\n",
       "    </tr>\n",
       "  </tbody>\n",
       "</table>\n",
       "</div>"
      ],
      "text/plain": [
       "   id_example  int_col str_col str_col2    date_col\n",
       "0           1       32    hell     hell  2001-01-01"
      ]
     },
     "execution_count": 132,
     "metadata": {},
     "output_type": "execute_result"
    }
   ],
   "source": [
    "select(['example'], condition='id_example = 1')"
   ]
  },
  {
   "cell_type": "code",
   "execution_count": 133,
   "metadata": {},
   "outputs": [],
   "source": [
    "update('example', ['int_col', 'str_col2'], [666, 'hell'], \"id_example = 1\")"
   ]
  },
  {
   "cell_type": "code",
   "execution_count": 134,
   "metadata": {},
   "outputs": [
    {
     "data": {
      "text/html": [
       "<div>\n",
       "<style scoped>\n",
       "    .dataframe tbody tr th:only-of-type {\n",
       "        vertical-align: middle;\n",
       "    }\n",
       "\n",
       "    .dataframe tbody tr th {\n",
       "        vertical-align: top;\n",
       "    }\n",
       "\n",
       "    .dataframe thead th {\n",
       "        text-align: right;\n",
       "    }\n",
       "</style>\n",
       "<table border=\"1\" class=\"dataframe\">\n",
       "  <thead>\n",
       "    <tr style=\"text-align: right;\">\n",
       "      <th></th>\n",
       "      <th>id_example</th>\n",
       "      <th>int_col</th>\n",
       "      <th>str_col</th>\n",
       "      <th>str_col2</th>\n",
       "      <th>date_col</th>\n",
       "    </tr>\n",
       "  </thead>\n",
       "  <tbody>\n",
       "    <tr>\n",
       "      <td>0</td>\n",
       "      <td>1</td>\n",
       "      <td>666</td>\n",
       "      <td>hell</td>\n",
       "      <td>hell</td>\n",
       "      <td>2001-01-01</td>\n",
       "    </tr>\n",
       "  </tbody>\n",
       "</table>\n",
       "</div>"
      ],
      "text/plain": [
       "   id_example  int_col str_col str_col2    date_col\n",
       "0           1      666    hell     hell  2001-01-01"
      ]
     },
     "execution_count": 134,
     "metadata": {},
     "output_type": "execute_result"
    }
   ],
   "source": [
    "select(['example'], condition='id_example = 1')"
   ]
  },
  {
   "cell_type": "markdown",
   "metadata": {},
   "source": [
    "**OK, NICE, UPDATING WORKS** "
   ]
  },
  {
   "cell_type": "code",
   "execution_count": 25,
   "metadata": {},
   "outputs": [],
   "source": [
    "def update_multiple(data, table_name, id_col_name, ids):\n",
    "    \"\"\"\n",
    "    changes multiple entries in a database table (one by one)\n",
    "    \n",
    "    :param data: list of tuples (column_names - list of str and values - list of the same length)\n",
    "    :param table_name: str, table name\n",
    "    :param id_col_name: str, name of the primary key column in the table\n",
    "    :param ids: list of int, ids in the primary key column of the values to be changed\n",
    "    \"\"\"\n",
    "    if len(data) != len(ids):\n",
    "        print(f\"expected data and ids of the same length, got {len(data)} and {len(ids)}\")\n",
    "        return\n",
    "    for i, line in enumerate(data):\n",
    "        column_names, values = line\n",
    "        update(table_name, column_names, values, f\"{protect(id_col_name)} = '{ids[i]}'\")"
   ]
  },
  {
   "cell_type": "code",
   "execution_count": 26,
   "metadata": {},
   "outputs": [
    {
     "data": {
      "text/html": [
       "<div>\n",
       "<style scoped>\n",
       "    .dataframe tbody tr th:only-of-type {\n",
       "        vertical-align: middle;\n",
       "    }\n",
       "\n",
       "    .dataframe tbody tr th {\n",
       "        vertical-align: top;\n",
       "    }\n",
       "\n",
       "    .dataframe thead th {\n",
       "        text-align: right;\n",
       "    }\n",
       "</style>\n",
       "<table border=\"1\" class=\"dataframe\">\n",
       "  <thead>\n",
       "    <tr style=\"text-align: right;\">\n",
       "      <th></th>\n",
       "      <th>id_example</th>\n",
       "      <th>int_col</th>\n",
       "      <th>str_col</th>\n",
       "      <th>str_col2</th>\n",
       "      <th>date_col</th>\n",
       "    </tr>\n",
       "  </thead>\n",
       "  <tbody>\n",
       "    <tr>\n",
       "      <td>0</td>\n",
       "      <td>1</td>\n",
       "      <td>32</td>\n",
       "      <td>forever</td>\n",
       "      <td>hell</td>\n",
       "      <td>2001-01-01</td>\n",
       "    </tr>\n",
       "    <tr>\n",
       "      <td>1</td>\n",
       "      <td>3</td>\n",
       "      <td>0</td>\n",
       "      <td>please</td>\n",
       "      <td>no</td>\n",
       "      <td>2019-12-24</td>\n",
       "    </tr>\n",
       "  </tbody>\n",
       "</table>\n",
       "</div>"
      ],
      "text/plain": [
       "   id_example  int_col  str_col str_col2    date_col\n",
       "0           1       32  forever     hell  2001-01-01\n",
       "1           3        0   please       no  2019-12-24"
      ]
     },
     "execution_count": 26,
     "metadata": {},
     "output_type": "execute_result"
    }
   ],
   "source": [
    "select(['example'], condition='id_example = 1 or id_example = 3')"
   ]
  },
  {
   "cell_type": "code",
   "execution_count": 31,
   "metadata": {},
   "outputs": [],
   "source": [
    "data = [(['int_col', 'str_col', 'str_col2'], [666, 'hell', 'forever']),\n",
    "       (['date_col'], [datetime.date(1999, 12, 30)])]\n",
    "ids = [1, 3]\n",
    "update_multiple(data, 'example', 'id_example', ids)"
   ]
  },
  {
   "cell_type": "code",
   "execution_count": 32,
   "metadata": {},
   "outputs": [
    {
     "data": {
      "text/html": [
       "<div>\n",
       "<style scoped>\n",
       "    .dataframe tbody tr th:only-of-type {\n",
       "        vertical-align: middle;\n",
       "    }\n",
       "\n",
       "    .dataframe tbody tr th {\n",
       "        vertical-align: top;\n",
       "    }\n",
       "\n",
       "    .dataframe thead th {\n",
       "        text-align: right;\n",
       "    }\n",
       "</style>\n",
       "<table border=\"1\" class=\"dataframe\">\n",
       "  <thead>\n",
       "    <tr style=\"text-align: right;\">\n",
       "      <th></th>\n",
       "      <th>id_example</th>\n",
       "      <th>int_col</th>\n",
       "      <th>str_col</th>\n",
       "      <th>str_col2</th>\n",
       "      <th>date_col</th>\n",
       "    </tr>\n",
       "  </thead>\n",
       "  <tbody>\n",
       "    <tr>\n",
       "      <td>0</td>\n",
       "      <td>1</td>\n",
       "      <td>666</td>\n",
       "      <td>hell</td>\n",
       "      <td>forever</td>\n",
       "      <td>2001-01-01</td>\n",
       "    </tr>\n",
       "    <tr>\n",
       "      <td>1</td>\n",
       "      <td>3</td>\n",
       "      <td>0</td>\n",
       "      <td>please</td>\n",
       "      <td>no</td>\n",
       "      <td>1999-12-30</td>\n",
       "    </tr>\n",
       "  </tbody>\n",
       "</table>\n",
       "</div>"
      ],
      "text/plain": [
       "   id_example  int_col str_col str_col2    date_col\n",
       "0           1      666    hell  forever  2001-01-01\n",
       "1           3        0  please       no  1999-12-30"
      ]
     },
     "execution_count": 32,
     "metadata": {},
     "output_type": "execute_result"
    }
   ],
   "source": [
    "select(['example'], condition='id_example = 1 or id_example = 3')"
   ]
  },
  {
   "cell_type": "markdown",
   "metadata": {},
   "source": [
    "**NOW I CAN UPDATE MULTIPLE ROWS AT ONCE**"
   ]
  },
  {
   "cell_type": "markdown",
   "metadata": {},
   "source": [
    "### DELETE"
   ]
  },
  {
   "cell_type": "code",
   "execution_count": 33,
   "metadata": {},
   "outputs": [],
   "source": [
    "\"DELETE FROM `discourse_management`.`subjects` WHERE (`id_subject` = '49')\"\n",
    "def delete(table_name, id_col_name, ids):\n",
    "    \"\"\"\n",
    "    deletes entries in a database table (one by one)\n",
    "    \n",
    "    :param table_name: str, table name\n",
    "    :param id_col_name: str, name of the primary key column in the table\n",
    "    :param ids: list of int, ids in the primary key column of the entries to be deleted\n",
    "    \"\"\"\n",
    "    for i in ids:\n",
    "        req = f\"DELETE FROM {protect(table_name)} WHERE ({protect(id_col_name)} = '{i}')\"\n",
    "        try:\n",
    "            cur.execute(req)\n",
    "            con.commit()\n",
    "        except Exception as e:\n",
    "            print(f\"got exception: {e}\")\n",
    "            print(f\"your request: {req}\")"
   ]
  },
  {
   "cell_type": "code",
   "execution_count": 34,
   "metadata": {},
   "outputs": [
    {
     "data": {
      "text/html": [
       "<div>\n",
       "<style scoped>\n",
       "    .dataframe tbody tr th:only-of-type {\n",
       "        vertical-align: middle;\n",
       "    }\n",
       "\n",
       "    .dataframe tbody tr th {\n",
       "        vertical-align: top;\n",
       "    }\n",
       "\n",
       "    .dataframe thead th {\n",
       "        text-align: right;\n",
       "    }\n",
       "</style>\n",
       "<table border=\"1\" class=\"dataframe\">\n",
       "  <thead>\n",
       "    <tr style=\"text-align: right;\">\n",
       "      <th></th>\n",
       "      <th>id_example</th>\n",
       "      <th>int_col</th>\n",
       "      <th>str_col</th>\n",
       "      <th>str_col2</th>\n",
       "      <th>date_col</th>\n",
       "    </tr>\n",
       "  </thead>\n",
       "  <tbody>\n",
       "    <tr>\n",
       "      <td>0</td>\n",
       "      <td>1</td>\n",
       "      <td>666</td>\n",
       "      <td>hell</td>\n",
       "      <td>forever</td>\n",
       "      <td>2001-01-01</td>\n",
       "    </tr>\n",
       "    <tr>\n",
       "      <td>1</td>\n",
       "      <td>2</td>\n",
       "      <td>1</td>\n",
       "      <td>oh</td>\n",
       "      <td>no</td>\n",
       "      <td>2019-12-24</td>\n",
       "    </tr>\n",
       "    <tr>\n",
       "      <td>2</td>\n",
       "      <td>3</td>\n",
       "      <td>0</td>\n",
       "      <td>please</td>\n",
       "      <td>no</td>\n",
       "      <td>1999-12-30</td>\n",
       "    </tr>\n",
       "    <tr>\n",
       "      <td>3</td>\n",
       "      <td>8</td>\n",
       "      <td>1</td>\n",
       "      <td>oh</td>\n",
       "      <td>no</td>\n",
       "      <td>2019-12-24</td>\n",
       "    </tr>\n",
       "    <tr>\n",
       "      <td>4</td>\n",
       "      <td>9</td>\n",
       "      <td>4</td>\n",
       "      <td>hurray</td>\n",
       "      <td>!!!</td>\n",
       "      <td>2000-01-01</td>\n",
       "    </tr>\n",
       "  </tbody>\n",
       "</table>\n",
       "</div>"
      ],
      "text/plain": [
       "   id_example  int_col str_col str_col2    date_col\n",
       "0           1      666    hell  forever  2001-01-01\n",
       "1           2        1      oh       no  2019-12-24\n",
       "2           3        0  please       no  1999-12-30\n",
       "3           8        1      oh       no  2019-12-24\n",
       "4           9        4  hurray      !!!  2000-01-01"
      ]
     },
     "execution_count": 34,
     "metadata": {},
     "output_type": "execute_result"
    }
   ],
   "source": [
    "select(['example'])"
   ]
  },
  {
   "cell_type": "code",
   "execution_count": 35,
   "metadata": {},
   "outputs": [],
   "source": [
    "delete('example', 'id_example', [8, 9])"
   ]
  },
  {
   "cell_type": "code",
   "execution_count": 36,
   "metadata": {},
   "outputs": [
    {
     "data": {
      "text/html": [
       "<div>\n",
       "<style scoped>\n",
       "    .dataframe tbody tr th:only-of-type {\n",
       "        vertical-align: middle;\n",
       "    }\n",
       "\n",
       "    .dataframe tbody tr th {\n",
       "        vertical-align: top;\n",
       "    }\n",
       "\n",
       "    .dataframe thead th {\n",
       "        text-align: right;\n",
       "    }\n",
       "</style>\n",
       "<table border=\"1\" class=\"dataframe\">\n",
       "  <thead>\n",
       "    <tr style=\"text-align: right;\">\n",
       "      <th></th>\n",
       "      <th>id_example</th>\n",
       "      <th>int_col</th>\n",
       "      <th>str_col</th>\n",
       "      <th>str_col2</th>\n",
       "      <th>date_col</th>\n",
       "    </tr>\n",
       "  </thead>\n",
       "  <tbody>\n",
       "    <tr>\n",
       "      <td>0</td>\n",
       "      <td>1</td>\n",
       "      <td>666</td>\n",
       "      <td>hell</td>\n",
       "      <td>forever</td>\n",
       "      <td>2001-01-01</td>\n",
       "    </tr>\n",
       "    <tr>\n",
       "      <td>1</td>\n",
       "      <td>2</td>\n",
       "      <td>1</td>\n",
       "      <td>oh</td>\n",
       "      <td>no</td>\n",
       "      <td>2019-12-24</td>\n",
       "    </tr>\n",
       "    <tr>\n",
       "      <td>2</td>\n",
       "      <td>3</td>\n",
       "      <td>0</td>\n",
       "      <td>please</td>\n",
       "      <td>no</td>\n",
       "      <td>1999-12-30</td>\n",
       "    </tr>\n",
       "  </tbody>\n",
       "</table>\n",
       "</div>"
      ],
      "text/plain": [
       "   id_example  int_col str_col str_col2    date_col\n",
       "0           1      666    hell  forever  2001-01-01\n",
       "1           2        1      oh       no  2019-12-24\n",
       "2           3        0  please       no  1999-12-30"
      ]
     },
     "execution_count": 36,
     "metadata": {},
     "output_type": "execute_result"
    }
   ],
   "source": [
    "select(['example'])"
   ]
  },
  {
   "cell_type": "markdown",
   "metadata": {},
   "source": [
    "### GET IDs on condition"
   ]
  },
  {
   "cell_type": "code",
   "execution_count": 171,
   "metadata": {},
   "outputs": [],
   "source": [
    "def get_ids_on_condition(table_name, id_col_name, table_names, condition, distinct=True):\n",
    "    \"\"\"\n",
    "    gets a list of ids satisfying some condition\n",
    "    \n",
    "    :param table_name: str, name of the table, from where to get ids\n",
    "    :param id_col_name: str, name of the primary key column in the table\n",
    "    :param table_names: list of str, table names\n",
    "    :param condition: str, condition on column names and values\n",
    "    :param distinct: bool, whether to drop identical values, optional, default True\n",
    "    \n",
    "    :return: list of int, ids of entries in the table, satisfying the condition\n",
    "    \"\"\"\n",
    "    column_name = protect(table_name) + '.' + protect(id_col_name)\n",
    "    dict_list = select(table_names, column_names=[column_name], \n",
    "                  condition=condition, distinct=distinct, df=False, warn=False)\n",
    "    if dict_list:\n",
    "        return [d[id_col_name] for d in dict_list]\n",
    "    else:\n",
    "        return []"
   ]
  },
  {
   "cell_type": "code",
   "execution_count": 172,
   "metadata": {},
   "outputs": [
    {
     "data": {
      "text/html": [
       "<div>\n",
       "<style scoped>\n",
       "    .dataframe tbody tr th:only-of-type {\n",
       "        vertical-align: middle;\n",
       "    }\n",
       "\n",
       "    .dataframe tbody tr th {\n",
       "        vertical-align: top;\n",
       "    }\n",
       "\n",
       "    .dataframe thead th {\n",
       "        text-align: right;\n",
       "    }\n",
       "</style>\n",
       "<table border=\"1\" class=\"dataframe\">\n",
       "  <thead>\n",
       "    <tr style=\"text-align: right;\">\n",
       "      <th></th>\n",
       "      <th>id_example</th>\n",
       "      <th>int_col</th>\n",
       "      <th>str_col</th>\n",
       "      <th>str_col2</th>\n",
       "      <th>date_col</th>\n",
       "    </tr>\n",
       "  </thead>\n",
       "  <tbody>\n",
       "    <tr>\n",
       "      <td>0</td>\n",
       "      <td>2</td>\n",
       "      <td>1</td>\n",
       "      <td>oh</td>\n",
       "      <td>no</td>\n",
       "      <td>2019-12-24</td>\n",
       "    </tr>\n",
       "    <tr>\n",
       "      <td>1</td>\n",
       "      <td>3</td>\n",
       "      <td>0</td>\n",
       "      <td>please</td>\n",
       "      <td>no</td>\n",
       "      <td>1999-12-30</td>\n",
       "    </tr>\n",
       "    <tr>\n",
       "      <td>2</td>\n",
       "      <td>10</td>\n",
       "      <td>1</td>\n",
       "      <td>oh</td>\n",
       "      <td>no</td>\n",
       "      <td>2019-12-24</td>\n",
       "    </tr>\n",
       "    <tr>\n",
       "      <td>3</td>\n",
       "      <td>12</td>\n",
       "      <td>1</td>\n",
       "      <td>oh</td>\n",
       "      <td>no</td>\n",
       "      <td>2019-12-24</td>\n",
       "    </tr>\n",
       "  </tbody>\n",
       "</table>\n",
       "</div>"
      ],
      "text/plain": [
       "   id_example  int_col str_col str_col2    date_col\n",
       "0           2        1      oh       no  2019-12-24\n",
       "1           3        0  please       no  1999-12-30\n",
       "2          10        1      oh       no  2019-12-24\n",
       "3          12        1      oh       no  2019-12-24"
      ]
     },
     "execution_count": 172,
     "metadata": {},
     "output_type": "execute_result"
    }
   ],
   "source": [
    "select([\"example\"], condition=\"str_col2 = 'no'\")"
   ]
  },
  {
   "cell_type": "code",
   "execution_count": 173,
   "metadata": {},
   "outputs": [
    {
     "data": {
      "text/plain": [
       "[2, 3, 10, 12]"
      ]
     },
     "execution_count": 173,
     "metadata": {},
     "output_type": "execute_result"
    }
   ],
   "source": [
    "get_ids_on_condition(\"example\", \"id_example\", [\"example\"], \"str_col2 = 'no'\")"
   ]
  },
  {
   "cell_type": "code",
   "execution_count": 174,
   "metadata": {},
   "outputs": [
    {
     "data": {
      "text/plain": [
       "[]"
      ]
     },
     "execution_count": 174,
     "metadata": {},
     "output_type": "execute_result"
    }
   ],
   "source": [
    "get_ids_on_condition(\"example\", \"id_example\", [\"example\"], \"int_col = 10\")"
   ]
  },
  {
   "cell_type": "markdown",
   "metadata": {},
   "source": [
    "**NOW I HAVE MOST OF WHAT I MIGHT NEED, RIGHT?**"
   ]
  },
  {
   "cell_type": "markdown",
   "metadata": {},
   "source": [
    "### let us try to work with real CSV data"
   ]
  },
  {
   "cell_type": "code",
   "execution_count": 154,
   "metadata": {},
   "outputs": [
    {
     "data": {
      "text/html": [
       "<div>\n",
       "<style scoped>\n",
       "    .dataframe tbody tr th:only-of-type {\n",
       "        vertical-align: middle;\n",
       "    }\n",
       "\n",
       "    .dataframe tbody tr th {\n",
       "        vertical-align: top;\n",
       "    }\n",
       "\n",
       "    .dataframe thead th {\n",
       "        text-align: right;\n",
       "    }\n",
       "</style>\n",
       "<table border=\"1\" class=\"dataframe\">\n",
       "  <thead>\n",
       "    <tr style=\"text-align: right;\">\n",
       "      <th></th>\n",
       "      <th>ID</th>\n",
       "      <th>Sex</th>\n",
       "      <th>Age</th>\n",
       "      <th>Education</th>\n",
       "      <th>Aphasia type</th>\n",
       "      <th>Severity</th>\n",
       "      <th>Time post-onset</th>\n",
       "      <th>Etiology</th>\n",
       "      <th>Lesion location</th>\n",
       "      <th>Type</th>\n",
       "    </tr>\n",
       "  </thead>\n",
       "  <tbody>\n",
       "    <tr>\n",
       "      <td>8</td>\n",
       "      <td>P19</td>\n",
       "      <td>f</td>\n",
       "      <td>67</td>\n",
       "      <td>higher</td>\n",
       "      <td>sensory, acoustic-mnestic</td>\n",
       "      <td>moderate</td>\n",
       "      <td>2.5 y</td>\n",
       "      <td>CVA</td>\n",
       "      <td>lMCA</td>\n",
       "      <td>aphasia</td>\n",
       "    </tr>\n",
       "    <tr>\n",
       "      <td>9</td>\n",
       "      <td>P20</td>\n",
       "      <td>m</td>\n",
       "      <td>58</td>\n",
       "      <td>secondary</td>\n",
       "      <td>sensory</td>\n",
       "      <td>moderate</td>\n",
       "      <td>1 y, 9 m</td>\n",
       "      <td>iCVA</td>\n",
       "      <td>lMCA</td>\n",
       "      <td>aphasia</td>\n",
       "    </tr>\n",
       "    <tr>\n",
       "      <td>10</td>\n",
       "      <td>P1</td>\n",
       "      <td>m</td>\n",
       "      <td>42</td>\n",
       "      <td>higher</td>\n",
       "      <td></td>\n",
       "      <td></td>\n",
       "      <td></td>\n",
       "      <td></td>\n",
       "      <td></td>\n",
       "      <td>norm</td>\n",
       "    </tr>\n",
       "    <tr>\n",
       "      <td>11</td>\n",
       "      <td>P2</td>\n",
       "      <td>m</td>\n",
       "      <td>63</td>\n",
       "      <td>higher</td>\n",
       "      <td></td>\n",
       "      <td></td>\n",
       "      <td></td>\n",
       "      <td></td>\n",
       "      <td></td>\n",
       "      <td>norm</td>\n",
       "    </tr>\n",
       "  </tbody>\n",
       "</table>\n",
       "</div>"
      ],
      "text/plain": [
       "     ID Sex Age  Education               Aphasia type  Severity  \\\n",
       "8   P19   f  67     higher  sensory, acoustic-mnestic  moderate   \n",
       "9   P20   m  58  secondary                    sensory  moderate   \n",
       "10   P1   m  42     higher                                        \n",
       "11   P2   m  63     higher                                        \n",
       "\n",
       "   Time post-onset Etiology Lesion location     Type  \n",
       "8            2.5 y      CVA            lMCA  aphasia  \n",
       "9         1 y, 9 m     iCVA            lMCA  aphasia  \n",
       "10                                              norm  \n",
       "11                                              norm  "
      ]
     },
     "execution_count": 154,
     "metadata": {},
     "output_type": "execute_result"
    }
   ],
   "source": [
    "with open ('data\\personal_aphasia.csv', 'r', encoding='utf-8-sig') as f:\n",
    "    lines = f.readlines()\n",
    "\n",
    "lines = [line.strip().split(';') for line in lines]\n",
    "header = [x for x in lines[0] if x]\n",
    "lines = [line[:len(header)] for line in lines[1:]]\n",
    "lines = [[line[0]]+[line[1].lower()]+line[2:] for line in lines]\n",
    "patient_data = pd.DataFrame.from_records(lines, columns=header)\n",
    "patient_data.iloc[8:12,]"
   ]
  },
  {
   "cell_type": "code",
   "execution_count": 38,
   "metadata": {},
   "outputs": [
    {
     "data": {
      "text/html": [
       "<div>\n",
       "<style scoped>\n",
       "    .dataframe tbody tr th:only-of-type {\n",
       "        vertical-align: middle;\n",
       "    }\n",
       "\n",
       "    .dataframe tbody tr th {\n",
       "        vertical-align: top;\n",
       "    }\n",
       "\n",
       "    .dataframe thead th {\n",
       "        text-align: right;\n",
       "    }\n",
       "</style>\n",
       "<table border=\"1\" class=\"dataframe\">\n",
       "  <thead>\n",
       "    <tr style=\"text-align: right;\">\n",
       "      <th></th>\n",
       "      <th>id_subject</th>\n",
       "      <th>id_personal_info</th>\n",
       "      <th>language</th>\n",
       "      <th>language_comment</th>\n",
       "      <th>sex</th>\n",
       "      <th>handedness_type</th>\n",
       "    </tr>\n",
       "  </thead>\n",
       "  <tbody>\n",
       "    <tr>\n",
       "      <td>0</td>\n",
       "      <td>25</td>\n",
       "      <td>DUMMY1</td>\n",
       "      <td>russian-mono</td>\n",
       "      <td>None</td>\n",
       "      <td>f</td>\n",
       "      <td>right</td>\n",
       "    </tr>\n",
       "    <tr>\n",
       "      <td>1</td>\n",
       "      <td>26</td>\n",
       "      <td>DUMMY2</td>\n",
       "      <td>russian-mono</td>\n",
       "      <td>None</td>\n",
       "      <td>m</td>\n",
       "      <td>left</td>\n",
       "    </tr>\n",
       "    <tr>\n",
       "      <td>2</td>\n",
       "      <td>27</td>\n",
       "      <td>DUMMY3</td>\n",
       "      <td>russian-bi</td>\n",
       "      <td>georgian</td>\n",
       "      <td>f</td>\n",
       "      <td>right</td>\n",
       "    </tr>\n",
       "    <tr>\n",
       "      <td>3</td>\n",
       "      <td>28</td>\n",
       "      <td>DUMMY4</td>\n",
       "      <td>russian-mono</td>\n",
       "      <td>None</td>\n",
       "      <td>m</td>\n",
       "      <td>right</td>\n",
       "    </tr>\n",
       "    <tr>\n",
       "      <td>4</td>\n",
       "      <td>50</td>\n",
       "      <td>P12</td>\n",
       "      <td>russian-mono</td>\n",
       "      <td>None</td>\n",
       "      <td>f</td>\n",
       "      <td>None</td>\n",
       "    </tr>\n",
       "  </tbody>\n",
       "</table>\n",
       "</div>"
      ],
      "text/plain": [
       "   id_subject id_personal_info      language language_comment sex  \\\n",
       "0          25           DUMMY1  russian-mono             None   f   \n",
       "1          26           DUMMY2  russian-mono             None   m   \n",
       "2          27           DUMMY3    russian-bi         georgian   f   \n",
       "3          28           DUMMY4  russian-mono             None   m   \n",
       "4          50              P12  russian-mono             None   f   \n",
       "\n",
       "  handedness_type  \n",
       "0           right  \n",
       "1            left  \n",
       "2           right  \n",
       "3           right  \n",
       "4            None  "
      ]
     },
     "execution_count": 38,
     "metadata": {},
     "output_type": "execute_result"
    }
   ],
   "source": [
    "select(['subjects'])"
   ]
  },
  {
   "cell_type": "code",
   "execution_count": 162,
   "metadata": {},
   "outputs": [],
   "source": [
    "data = [lines[2][:2]+[\"russian-mono\"]]\n",
    "column_names_dict = {\"id_personal_info\":0, \"sex\":1, \"language\":2}\n",
    "insert(data, \"subjects\", column_names_dict)"
   ]
  },
  {
   "cell_type": "code",
   "execution_count": 163,
   "metadata": {},
   "outputs": [
    {
     "data": {
      "text/html": [
       "<div>\n",
       "<style scoped>\n",
       "    .dataframe tbody tr th:only-of-type {\n",
       "        vertical-align: middle;\n",
       "    }\n",
       "\n",
       "    .dataframe tbody tr th {\n",
       "        vertical-align: top;\n",
       "    }\n",
       "\n",
       "    .dataframe thead th {\n",
       "        text-align: right;\n",
       "    }\n",
       "</style>\n",
       "<table border=\"1\" class=\"dataframe\">\n",
       "  <thead>\n",
       "    <tr style=\"text-align: right;\">\n",
       "      <th></th>\n",
       "      <th>id_subject</th>\n",
       "      <th>id_personal_info</th>\n",
       "      <th>language</th>\n",
       "      <th>language_comment</th>\n",
       "      <th>sex</th>\n",
       "      <th>handedness_type</th>\n",
       "    </tr>\n",
       "  </thead>\n",
       "  <tbody>\n",
       "    <tr>\n",
       "      <td>0</td>\n",
       "      <td>25</td>\n",
       "      <td>DUMMY1</td>\n",
       "      <td>russian-mono</td>\n",
       "      <td>None</td>\n",
       "      <td>f</td>\n",
       "      <td>right</td>\n",
       "    </tr>\n",
       "    <tr>\n",
       "      <td>1</td>\n",
       "      <td>26</td>\n",
       "      <td>DUMMY2</td>\n",
       "      <td>russian-mono</td>\n",
       "      <td>None</td>\n",
       "      <td>m</td>\n",
       "      <td>left</td>\n",
       "    </tr>\n",
       "    <tr>\n",
       "      <td>2</td>\n",
       "      <td>27</td>\n",
       "      <td>DUMMY3</td>\n",
       "      <td>russian-bi</td>\n",
       "      <td>georgian</td>\n",
       "      <td>f</td>\n",
       "      <td>right</td>\n",
       "    </tr>\n",
       "    <tr>\n",
       "      <td>3</td>\n",
       "      <td>28</td>\n",
       "      <td>DUMMY4</td>\n",
       "      <td>russian-mono</td>\n",
       "      <td>None</td>\n",
       "      <td>m</td>\n",
       "      <td>right</td>\n",
       "    </tr>\n",
       "    <tr>\n",
       "      <td>4</td>\n",
       "      <td>53</td>\n",
       "      <td>P13</td>\n",
       "      <td>russian-mono</td>\n",
       "      <td>None</td>\n",
       "      <td>m</td>\n",
       "      <td>None</td>\n",
       "    </tr>\n",
       "  </tbody>\n",
       "</table>\n",
       "</div>"
      ],
      "text/plain": [
       "   id_subject id_personal_info      language language_comment sex  \\\n",
       "0          25           DUMMY1  russian-mono             None   f   \n",
       "1          26           DUMMY2  russian-mono             None   m   \n",
       "2          27           DUMMY3    russian-bi         georgian   f   \n",
       "3          28           DUMMY4  russian-mono             None   m   \n",
       "4          53              P13  russian-mono             None   m   \n",
       "\n",
       "  handedness_type  \n",
       "0           right  \n",
       "1            left  \n",
       "2           right  \n",
       "3           right  \n",
       "4            None  "
      ]
     },
     "execution_count": 163,
     "metadata": {},
     "output_type": "execute_result"
    }
   ],
   "source": [
    "select([\"subjects\"])"
   ]
  },
  {
   "cell_type": "markdown",
   "metadata": {},
   "source": [
    "**let's delete all, but dummy data** "
   ]
  },
  {
   "cell_type": "code",
   "execution_count": 142,
   "metadata": {},
   "outputs": [
    {
     "data": {
      "text/plain": [
       "[50, 52]"
      ]
     },
     "execution_count": 142,
     "metadata": {},
     "output_type": "execute_result"
    }
   ],
   "source": [
    "get_ids_on_condition(\"subjects\", \"id_subject\", [\"subjects\"], \"id_personal_info NOT LIKE '%DUMMY%'\")"
   ]
  },
  {
   "cell_type": "code",
   "execution_count": 145,
   "metadata": {},
   "outputs": [],
   "source": [
    "delete(\"subjects\", \"id_subject\", get_ids_on_condition(\"subjects\", \"id_subject\", [\"subjects\"], \"id_personal_info NOT LIKE '%DUMMY%'\"))"
   ]
  },
  {
   "cell_type": "code",
   "execution_count": 146,
   "metadata": {},
   "outputs": [
    {
     "data": {
      "text/html": [
       "<div>\n",
       "<style scoped>\n",
       "    .dataframe tbody tr th:only-of-type {\n",
       "        vertical-align: middle;\n",
       "    }\n",
       "\n",
       "    .dataframe tbody tr th {\n",
       "        vertical-align: top;\n",
       "    }\n",
       "\n",
       "    .dataframe thead th {\n",
       "        text-align: right;\n",
       "    }\n",
       "</style>\n",
       "<table border=\"1\" class=\"dataframe\">\n",
       "  <thead>\n",
       "    <tr style=\"text-align: right;\">\n",
       "      <th></th>\n",
       "      <th>id_subject</th>\n",
       "      <th>id_personal_info</th>\n",
       "      <th>language</th>\n",
       "      <th>language_comment</th>\n",
       "      <th>sex</th>\n",
       "      <th>handedness_type</th>\n",
       "    </tr>\n",
       "  </thead>\n",
       "  <tbody>\n",
       "    <tr>\n",
       "      <td>0</td>\n",
       "      <td>25</td>\n",
       "      <td>DUMMY1</td>\n",
       "      <td>russian-mono</td>\n",
       "      <td>None</td>\n",
       "      <td>f</td>\n",
       "      <td>right</td>\n",
       "    </tr>\n",
       "    <tr>\n",
       "      <td>1</td>\n",
       "      <td>26</td>\n",
       "      <td>DUMMY2</td>\n",
       "      <td>russian-mono</td>\n",
       "      <td>None</td>\n",
       "      <td>m</td>\n",
       "      <td>left</td>\n",
       "    </tr>\n",
       "    <tr>\n",
       "      <td>2</td>\n",
       "      <td>27</td>\n",
       "      <td>DUMMY3</td>\n",
       "      <td>russian-bi</td>\n",
       "      <td>georgian</td>\n",
       "      <td>f</td>\n",
       "      <td>right</td>\n",
       "    </tr>\n",
       "    <tr>\n",
       "      <td>3</td>\n",
       "      <td>28</td>\n",
       "      <td>DUMMY4</td>\n",
       "      <td>russian-mono</td>\n",
       "      <td>None</td>\n",
       "      <td>m</td>\n",
       "      <td>right</td>\n",
       "    </tr>\n",
       "  </tbody>\n",
       "</table>\n",
       "</div>"
      ],
      "text/plain": [
       "   id_subject id_personal_info      language language_comment sex  \\\n",
       "0          25           DUMMY1  russian-mono             None   f   \n",
       "1          26           DUMMY2  russian-mono             None   m   \n",
       "2          27           DUMMY3    russian-bi         georgian   f   \n",
       "3          28           DUMMY4  russian-mono             None   m   \n",
       "\n",
       "  handedness_type  \n",
       "0           right  \n",
       "1            left  \n",
       "2           right  \n",
       "3           right  "
      ]
     },
     "execution_count": 146,
     "metadata": {},
     "output_type": "execute_result"
    }
   ],
   "source": [
    "select([\"subjects\"])"
   ]
  },
  {
   "cell_type": "markdown",
   "metadata": {},
   "source": [
    "### now we can spread values into two tables, also ensuring unique values are unique"
   ]
  },
  {
   "cell_type": "code",
   "execution_count": 155,
   "metadata": {},
   "outputs": [
    {
     "data": {
      "text/html": [
       "<div>\n",
       "<style scoped>\n",
       "    .dataframe tbody tr th:only-of-type {\n",
       "        vertical-align: middle;\n",
       "    }\n",
       "\n",
       "    .dataframe tbody tr th {\n",
       "        vertical-align: top;\n",
       "    }\n",
       "\n",
       "    .dataframe thead th {\n",
       "        text-align: right;\n",
       "    }\n",
       "</style>\n",
       "<table border=\"1\" class=\"dataframe\">\n",
       "  <thead>\n",
       "    <tr style=\"text-align: right;\">\n",
       "      <th></th>\n",
       "      <th>id_subject</th>\n",
       "      <th>id_personal_info</th>\n",
       "      <th>language</th>\n",
       "      <th>language_comment</th>\n",
       "      <th>sex</th>\n",
       "      <th>handedness_type</th>\n",
       "    </tr>\n",
       "  </thead>\n",
       "  <tbody>\n",
       "    <tr>\n",
       "      <td>0</td>\n",
       "      <td>25</td>\n",
       "      <td>DUMMY1</td>\n",
       "      <td>russian-mono</td>\n",
       "      <td>None</td>\n",
       "      <td>f</td>\n",
       "      <td>right</td>\n",
       "    </tr>\n",
       "    <tr>\n",
       "      <td>1</td>\n",
       "      <td>26</td>\n",
       "      <td>DUMMY2</td>\n",
       "      <td>russian-mono</td>\n",
       "      <td>None</td>\n",
       "      <td>m</td>\n",
       "      <td>left</td>\n",
       "    </tr>\n",
       "  </tbody>\n",
       "</table>\n",
       "</div>"
      ],
      "text/plain": [
       "   id_subject id_personal_info      language language_comment sex  \\\n",
       "0          25           DUMMY1  russian-mono             None   f   \n",
       "1          26           DUMMY2  russian-mono             None   m   \n",
       "\n",
       "  handedness_type  \n",
       "0           right  \n",
       "1            left  "
      ]
     },
     "execution_count": 155,
     "metadata": {},
     "output_type": "execute_result"
    }
   ],
   "source": [
    "select([\"subjects\"], limit=2)"
   ]
  },
  {
   "cell_type": "code",
   "execution_count": 197,
   "metadata": {},
   "outputs": [
    {
     "data": {
      "text/html": [
       "<div>\n",
       "<style scoped>\n",
       "    .dataframe tbody tr th:only-of-type {\n",
       "        vertical-align: middle;\n",
       "    }\n",
       "\n",
       "    .dataframe tbody tr th {\n",
       "        vertical-align: top;\n",
       "    }\n",
       "\n",
       "    .dataframe thead th {\n",
       "        text-align: right;\n",
       "    }\n",
       "</style>\n",
       "<table border=\"1\" class=\"dataframe\">\n",
       "  <thead>\n",
       "    <tr style=\"text-align: right;\">\n",
       "      <th></th>\n",
       "      <th>duration</th>\n",
       "      <th>primary_type</th>\n",
       "      <th>other_type</th>\n",
       "      <th>cause</th>\n",
       "      <th>id_experiment</th>\n",
       "      <th>id_cprin</th>\n",
       "      <th>lesion_location</th>\n",
       "    </tr>\n",
       "  </thead>\n",
       "  <tbody>\n",
       "    <tr>\n",
       "      <td>0</td>\n",
       "      <td>73</td>\n",
       "      <td>sensory</td>\n",
       "      <td>acoustic-mnestic</td>\n",
       "      <td>trauma</td>\n",
       "      <td>2</td>\n",
       "      <td>107</td>\n",
       "      <td>lMCA</td>\n",
       "    </tr>\n",
       "    <tr>\n",
       "      <td>1</td>\n",
       "      <td>75</td>\n",
       "      <td>sensory</td>\n",
       "      <td>acoustic-mnestic</td>\n",
       "      <td>trauma</td>\n",
       "      <td>5</td>\n",
       "      <td>107</td>\n",
       "      <td>lMCA</td>\n",
       "    </tr>\n",
       "  </tbody>\n",
       "</table>\n",
       "</div>"
      ],
      "text/plain": [
       "   duration primary_type        other_type   cause  id_experiment  id_cprin  \\\n",
       "0        73      sensory  acoustic-mnestic  trauma              2       107   \n",
       "1        75      sensory  acoustic-mnestic  trauma              5       107   \n",
       "\n",
       "  lesion_location  \n",
       "0            lMCA  \n",
       "1            lMCA  "
      ]
     },
     "execution_count": 197,
     "metadata": {},
     "output_type": "execute_result"
    }
   ],
   "source": [
    "select([\"aphasia_diagnostic\"])"
   ]
  },
  {
   "cell_type": "markdown",
   "metadata": {},
   "source": [
    "from \n",
    "```['ID', 'Sex', 'Age', 'Education', 'Aphasia type', 'Severity', 'Time post-onset', 'Etiology', 'Lesion location', 'Type']```\n",
    "\n",
    "\n",
    "```['ID', 'Sex']``` and ```['language'] # we assume 'russian mono'``` belong in __subjects__\n",
    "\n",
    "```['Age', 'Education', 'Type']``` belongs in __experiments__\n",
    "\n",
    "```['Aphasia type', 'Severity', 'Time post-onset', 'Etiology', 'Lesion location']``` belongs in __aphasia diagnostic__\n",
    "\n",
    "for norm, we don't have such data"
   ]
  },
  {
   "cell_type": "markdown",
   "metadata": {},
   "source": [
    "we will also have to assume the information about the experiment, since it is not given\n",
    "only not-null data in __experiments__ are autoincrement **_id_experiment_**, **_id_project_**, **_id_subject_**, and **_subject_age_**\n",
    "\n",
    "we will ignore education for now, because we don't have a conversion table"
   ]
  },
  {
   "cell_type": "code",
   "execution_count": 158,
   "metadata": {},
   "outputs": [
    {
     "data": {
      "text/html": [
       "<div>\n",
       "<style scoped>\n",
       "    .dataframe tbody tr th:only-of-type {\n",
       "        vertical-align: middle;\n",
       "    }\n",
       "\n",
       "    .dataframe tbody tr th {\n",
       "        vertical-align: top;\n",
       "    }\n",
       "\n",
       "    .dataframe thead th {\n",
       "        text-align: right;\n",
       "    }\n",
       "</style>\n",
       "<table border=\"1\" class=\"dataframe\">\n",
       "  <thead>\n",
       "    <tr style=\"text-align: right;\">\n",
       "      <th></th>\n",
       "      <th>id_experiment</th>\n",
       "      <th>id_project</th>\n",
       "      <th>id_subject</th>\n",
       "      <th>id_staff_collected</th>\n",
       "      <th>collection_date</th>\n",
       "      <th>subject_age</th>\n",
       "      <th>subject_education_years</th>\n",
       "      <th>id_subject_type</th>\n",
       "      <th>subject_neuro_impairment</th>\n",
       "      <th>subject_lang_impairment</th>\n",
       "      <th>subject_psych_impairment</th>\n",
       "      <th>subject_chronic_impairment</th>\n",
       "      <th>id_subject_education</th>\n",
       "    </tr>\n",
       "  </thead>\n",
       "  <tbody>\n",
       "    <tr>\n",
       "      <td>0</td>\n",
       "      <td>1</td>\n",
       "      <td>1</td>\n",
       "      <td>25</td>\n",
       "      <td>1</td>\n",
       "      <td>2019-01-20</td>\n",
       "      <td>65</td>\n",
       "      <td>16</td>\n",
       "      <td>3</td>\n",
       "      <td>None</td>\n",
       "      <td>None</td>\n",
       "      <td>None</td>\n",
       "      <td>allergy</td>\n",
       "      <td>5</td>\n",
       "    </tr>\n",
       "    <tr>\n",
       "      <td>1</td>\n",
       "      <td>2</td>\n",
       "      <td>1</td>\n",
       "      <td>26</td>\n",
       "      <td>2</td>\n",
       "      <td>2019-03-18</td>\n",
       "      <td>70</td>\n",
       "      <td>20</td>\n",
       "      <td>1</td>\n",
       "      <td>stroke</td>\n",
       "      <td>None</td>\n",
       "      <td>None</td>\n",
       "      <td>hypertension</td>\n",
       "      <td>7</td>\n",
       "    </tr>\n",
       "  </tbody>\n",
       "</table>\n",
       "</div>"
      ],
      "text/plain": [
       "   id_experiment  id_project  id_subject  id_staff_collected collection_date  \\\n",
       "0              1           1          25                   1      2019-01-20   \n",
       "1              2           1          26                   2      2019-03-18   \n",
       "\n",
       "   subject_age  subject_education_years  id_subject_type  \\\n",
       "0           65                       16                3   \n",
       "1           70                       20                1   \n",
       "\n",
       "  subject_neuro_impairment subject_lang_impairment subject_psych_impairment  \\\n",
       "0                     None                    None                     None   \n",
       "1                   stroke                    None                     None   \n",
       "\n",
       "  subject_chronic_impairment  id_subject_education  \n",
       "0                    allergy                     5  \n",
       "1               hypertension                     7  "
      ]
     },
     "execution_count": 158,
     "metadata": {},
     "output_type": "execute_result"
    }
   ],
   "source": [
    "select([\"experiments\"], limit=2)"
   ]
  },
  {
   "cell_type": "markdown",
   "metadata": {},
   "source": [
    "since it is aphasia project, let us assume **_project_id_** = 1 (RAT) "
   ]
  },
  {
   "cell_type": "code",
   "execution_count": 159,
   "metadata": {},
   "outputs": [
    {
     "data": {
      "text/html": [
       "<div>\n",
       "<style scoped>\n",
       "    .dataframe tbody tr th:only-of-type {\n",
       "        vertical-align: middle;\n",
       "    }\n",
       "\n",
       "    .dataframe tbody tr th {\n",
       "        vertical-align: top;\n",
       "    }\n",
       "\n",
       "    .dataframe thead th {\n",
       "        text-align: right;\n",
       "    }\n",
       "</style>\n",
       "<table border=\"1\" class=\"dataframe\">\n",
       "  <thead>\n",
       "    <tr style=\"text-align: right;\">\n",
       "      <th></th>\n",
       "      <th>id_project</th>\n",
       "      <th>project_name</th>\n",
       "    </tr>\n",
       "  </thead>\n",
       "  <tbody>\n",
       "    <tr>\n",
       "      <td>0</td>\n",
       "      <td>3</td>\n",
       "      <td>pears</td>\n",
       "    </tr>\n",
       "    <tr>\n",
       "      <td>1</td>\n",
       "      <td>1</td>\n",
       "      <td>RAT</td>\n",
       "    </tr>\n",
       "    <tr>\n",
       "      <td>2</td>\n",
       "      <td>2</td>\n",
       "      <td>schizo</td>\n",
       "    </tr>\n",
       "  </tbody>\n",
       "</table>\n",
       "</div>"
      ],
      "text/plain": [
       "   id_project project_name\n",
       "0           3        pears\n",
       "1           1          RAT\n",
       "2           2       schizo"
      ]
     },
     "execution_count": 159,
     "metadata": {},
     "output_type": "execute_result"
    }
   ],
   "source": [
    "select([\"projects\"])"
   ]
  },
  {
   "cell_type": "code",
   "execution_count": 161,
   "metadata": {},
   "outputs": [
    {
     "data": {
      "text/html": [
       "<div>\n",
       "<style scoped>\n",
       "    .dataframe tbody tr th:only-of-type {\n",
       "        vertical-align: middle;\n",
       "    }\n",
       "\n",
       "    .dataframe tbody tr th {\n",
       "        vertical-align: top;\n",
       "    }\n",
       "\n",
       "    .dataframe thead th {\n",
       "        text-align: right;\n",
       "    }\n",
       "</style>\n",
       "<table border=\"1\" class=\"dataframe\">\n",
       "  <thead>\n",
       "    <tr style=\"text-align: right;\">\n",
       "      <th></th>\n",
       "      <th>id_subject_type</th>\n",
       "      <th>subject_type_name</th>\n",
       "    </tr>\n",
       "  </thead>\n",
       "  <tbody>\n",
       "    <tr>\n",
       "      <td>0</td>\n",
       "      <td>1</td>\n",
       "      <td>aphasia</td>\n",
       "    </tr>\n",
       "    <tr>\n",
       "      <td>1</td>\n",
       "      <td>2</td>\n",
       "      <td>schizo</td>\n",
       "    </tr>\n",
       "    <tr>\n",
       "      <td>2</td>\n",
       "      <td>3</td>\n",
       "      <td>norm</td>\n",
       "    </tr>\n",
       "    <tr>\n",
       "      <td>3</td>\n",
       "      <td>4</td>\n",
       "      <td>tumor</td>\n",
       "    </tr>\n",
       "  </tbody>\n",
       "</table>\n",
       "</div>"
      ],
      "text/plain": [
       "   id_subject_type subject_type_name\n",
       "0                1           aphasia\n",
       "1                2            schizo\n",
       "2                3              norm\n",
       "3                4             tumor"
      ]
     },
     "execution_count": 161,
     "metadata": {},
     "output_type": "execute_result"
    }
   ],
   "source": [
    "select([\"subject_types\"])"
   ]
  },
  {
   "cell_type": "markdown",
   "metadata": {},
   "source": [
    "**OK, let us take another look at the data**"
   ]
  },
  {
   "cell_type": "code",
   "execution_count": 213,
   "metadata": {},
   "outputs": [
    {
     "data": {
      "text/html": [
       "<div>\n",
       "<style scoped>\n",
       "    .dataframe tbody tr th:only-of-type {\n",
       "        vertical-align: middle;\n",
       "    }\n",
       "\n",
       "    .dataframe tbody tr th {\n",
       "        vertical-align: top;\n",
       "    }\n",
       "\n",
       "    .dataframe thead th {\n",
       "        text-align: right;\n",
       "    }\n",
       "</style>\n",
       "<table border=\"1\" class=\"dataframe\">\n",
       "  <thead>\n",
       "    <tr style=\"text-align: right;\">\n",
       "      <th></th>\n",
       "      <th>ID</th>\n",
       "      <th>Sex</th>\n",
       "      <th>Age</th>\n",
       "      <th>Education</th>\n",
       "      <th>Aphasia type</th>\n",
       "      <th>Severity</th>\n",
       "      <th>Time post-onset</th>\n",
       "      <th>Etiology</th>\n",
       "      <th>Lesion location</th>\n",
       "      <th>Type</th>\n",
       "    </tr>\n",
       "  </thead>\n",
       "  <tbody>\n",
       "    <tr>\n",
       "      <td>8</td>\n",
       "      <td>P19</td>\n",
       "      <td>f</td>\n",
       "      <td>67</td>\n",
       "      <td>higher</td>\n",
       "      <td>sensory, acoustic-mnestic</td>\n",
       "      <td>moderate</td>\n",
       "      <td>2.5 y</td>\n",
       "      <td>CVA</td>\n",
       "      <td>lMCA</td>\n",
       "      <td>aphasia</td>\n",
       "    </tr>\n",
       "    <tr>\n",
       "      <td>9</td>\n",
       "      <td>P20</td>\n",
       "      <td>m</td>\n",
       "      <td>58</td>\n",
       "      <td>secondary</td>\n",
       "      <td>sensory</td>\n",
       "      <td>moderate</td>\n",
       "      <td>1 y, 9 m</td>\n",
       "      <td>iCVA</td>\n",
       "      <td>lMCA</td>\n",
       "      <td>aphasia</td>\n",
       "    </tr>\n",
       "    <tr>\n",
       "      <td>10</td>\n",
       "      <td>P1</td>\n",
       "      <td>m</td>\n",
       "      <td>42</td>\n",
       "      <td>higher</td>\n",
       "      <td></td>\n",
       "      <td></td>\n",
       "      <td></td>\n",
       "      <td></td>\n",
       "      <td></td>\n",
       "      <td>norm</td>\n",
       "    </tr>\n",
       "    <tr>\n",
       "      <td>11</td>\n",
       "      <td>P2</td>\n",
       "      <td>m</td>\n",
       "      <td>63</td>\n",
       "      <td>higher</td>\n",
       "      <td></td>\n",
       "      <td></td>\n",
       "      <td></td>\n",
       "      <td></td>\n",
       "      <td></td>\n",
       "      <td>norm</td>\n",
       "    </tr>\n",
       "  </tbody>\n",
       "</table>\n",
       "</div>"
      ],
      "text/plain": [
       "     ID Sex Age  Education               Aphasia type  Severity  \\\n",
       "8   P19   f  67     higher  sensory, acoustic-mnestic  moderate   \n",
       "9   P20   m  58  secondary                    sensory  moderate   \n",
       "10   P1   m  42     higher                                        \n",
       "11   P2   m  63     higher                                        \n",
       "\n",
       "   Time post-onset Etiology Lesion location     Type  \n",
       "8            2.5 y      CVA            lMCA  aphasia  \n",
       "9         1 y, 9 m     iCVA            lMCA  aphasia  \n",
       "10                                              norm  \n",
       "11                                              norm  "
      ]
     },
     "execution_count": 213,
     "metadata": {},
     "output_type": "execute_result"
    }
   ],
   "source": [
    "patient_data.iloc[8:12,]"
   ]
  },
  {
   "cell_type": "code",
   "execution_count": 208,
   "metadata": {},
   "outputs": [
    {
     "data": {
      "text/html": [
       "<div>\n",
       "<style scoped>\n",
       "    .dataframe tbody tr th:only-of-type {\n",
       "        vertical-align: middle;\n",
       "    }\n",
       "\n",
       "    .dataframe tbody tr th {\n",
       "        vertical-align: top;\n",
       "    }\n",
       "\n",
       "    .dataframe thead th {\n",
       "        text-align: right;\n",
       "    }\n",
       "</style>\n",
       "<table border=\"1\" class=\"dataframe\">\n",
       "  <thead>\n",
       "    <tr style=\"text-align: right;\">\n",
       "      <th></th>\n",
       "      <th>duration</th>\n",
       "      <th>primary_type</th>\n",
       "      <th>other_type</th>\n",
       "      <th>cause</th>\n",
       "      <th>id_experiment</th>\n",
       "      <th>id_cprin</th>\n",
       "      <th>lesion_location</th>\n",
       "      <th>severity</th>\n",
       "    </tr>\n",
       "  </thead>\n",
       "  <tbody>\n",
       "    <tr>\n",
       "      <td>0</td>\n",
       "      <td>73</td>\n",
       "      <td>sensory</td>\n",
       "      <td>acoustic-mnestic</td>\n",
       "      <td>trauma</td>\n",
       "      <td>2</td>\n",
       "      <td>107</td>\n",
       "      <td>lMCA</td>\n",
       "      <td>severe</td>\n",
       "    </tr>\n",
       "    <tr>\n",
       "      <td>1</td>\n",
       "      <td>75</td>\n",
       "      <td>sensory</td>\n",
       "      <td>acoustic-mnestic</td>\n",
       "      <td>trauma</td>\n",
       "      <td>5</td>\n",
       "      <td>107</td>\n",
       "      <td>lMCA</td>\n",
       "      <td>moderate</td>\n",
       "    </tr>\n",
       "  </tbody>\n",
       "</table>\n",
       "</div>"
      ],
      "text/plain": [
       "   duration primary_type        other_type   cause  id_experiment  id_cprin  \\\n",
       "0        73      sensory  acoustic-mnestic  trauma              2       107   \n",
       "1        75      sensory  acoustic-mnestic  trauma              5       107   \n",
       "\n",
       "  lesion_location  severity  \n",
       "0            lMCA    severe  \n",
       "1            lMCA  moderate  "
      ]
     },
     "execution_count": 208,
     "metadata": {},
     "output_type": "execute_result"
    }
   ],
   "source": [
    "select([\"aphasia_diagnostic\"])"
   ]
  },
  {
   "cell_type": "markdown",
   "metadata": {},
   "source": [
    "**we will add things in the following order:**\n",
    "1. check, if subject is already added (by **_id_personal_info_**), \n",
    "    1. if so -  retrieve **_subject_id_**\n",
    "    2. else, add to **subjects**, and retrieve **_subject_id_**\n",
    "2. add to **experiments** by **_subject_id_** with **_project_id_** = 1, retrieve **experiment_id**\n",
    "3. if **id_subject_type** - aphasia (1), add to __aphasia diagnostic__"
   ]
  },
  {
   "cell_type": "code",
   "execution_count": 192,
   "metadata": {},
   "outputs": [],
   "source": [
    "for line in lines:\n",
    "    personal_id, sex, age, education_str, aphasia_type, aphasia_severity, time_post_onset, etiology, lesion_location, subject_type = line\n",
    "    language = 'russian-mono'\n",
    "    # check if in 'subjects'\n",
    "    id_in_subjects = get_ids_on_condition(\"subjects\", \"id_subject\", [\"subjects\"], \n",
    "                                          f\"id_personal_info = '{personal_id}'\")\n",
    "    \n",
    "    # insert into subjects if needed\n",
    "    if not id_in_subjects:\n",
    "        data = [[personal_id, sex, language]]\n",
    "        column_names_dict = dict(zip([\"id_personal_info\", \"sex\", \"language\"], range(3)))\n",
    "        insert(data, \"subjects\", column_names_dict)\n",
    "    id_in_subjects = get_ids_on_condition(\"subjects\", \"id_subject\", [\"subjects\"], \n",
    "                                          f\"id_personal_info = '{personal_id}'\")[0]\n",
    "    \n",
    "    # get subject_type_id (as they are the same in the CSV and SQL)\n",
    "    subject_type_id = get_ids_on_condition(\"subject_types\", \"id_subject_type\", [\"subject_types\"], \n",
    "                                           f\"subject_type_name = '{subject_type}'\")[0]\n",
    "    \n",
    "    # insert into 'experiments'\n",
    "    data = [[1, id_in_subjects, age, subject_type_id]]\n",
    "    column_names_dict = dict(zip([\"id_project\", \"id_subject\", \"subject_age\", \"id_subject_type\"], range(4)))\n",
    "    insert(data, \"experiments\", column_names_dict)\n",
    "    \n",
    "    # insert into 'afasia_diagnostic' if subject_type = 'aphasia'\n",
    "    if subject_type == 'aphasia':\n",
    "        experiment_id = get_ids_on_condition(\"experiments\", \"id_experiment\", [\"experiments\"], \n",
    "                                             f\"id_subject = '{id_in_subjects}'\")[-1]\n",
    "        if ',' in time_post_onset: # '1 y, 9 m'\n",
    "            y, m = time_post_onset.split(',')\n",
    "            y = int(y.split()[0])\n",
    "            m = int(m.split()[0])\n",
    "            duration = m * 12 + m\n",
    "        else: # '2.5 y'\n",
    "            duration = float(time_post_onset.split()[0]) * 12\n",
    "        \n",
    "        if ',' in aphasia_type:\n",
    "            primary, other = aphasia_type.split(',')\n",
    "            data = [[experiment_id, duration, primary, other, etiology, lesion_location, aphasia_severity]]\n",
    "            column_names_dict = dict(zip([\"id_experiment\", \"duration\", \"primary_type\", \"other_type\", \n",
    "                                      \"cause\", \"lesion_location\", \"severity\"], range(7)))\n",
    "        else:\n",
    "            primary = aphasia_type\n",
    "            data = [[experiment_id, duration, primary, etiology, lesion_location, aphasia_severity]]\n",
    "            column_names_dict = dict(zip([\"id_experiment\", \"duration\", \"primary_type\", \n",
    "                                          \"cause\", \"lesion_location\", \"severity\"], range(6)))\n",
    "    "
   ]
  },
  {
   "cell_type": "markdown",
   "metadata": {},
   "source": [
    "## ok, here's how widgets work"
   ]
  },
  {
   "cell_type": "code",
   "execution_count": 42,
   "metadata": {
    "scrolled": true
   },
   "outputs": [
    {
     "name": "stderr",
     "output_type": "stream",
     "text": [
      "Enabling notebook extension jupyter-js-widgets/extension...\n",
      "      - Validating: ok\n"
     ]
    }
   ],
   "source": [
    "!jupyter nbextension enable --py widgetsnbextension"
   ]
  },
  {
   "cell_type": "code",
   "execution_count": 43,
   "metadata": {},
   "outputs": [],
   "source": [
    "style = {'description_width': 'initial'}"
   ]
  },
  {
   "cell_type": "code",
   "execution_count": 44,
   "metadata": {},
   "outputs": [
    {
     "data": {
      "application/vnd.jupyter.widget-view+json": {
       "model_id": "05f0e39d1e9b4d21a2c51dede591c748",
       "version_major": 2,
       "version_minor": 0
      },
      "text/plain": [
       "VBox(children=(Checkbox(value=False, description='Check me'), Checkbox(value=False, description='Do not check …"
      ]
     },
     "metadata": {},
     "output_type": "display_data"
    },
    {
     "data": {
      "application/vnd.jupyter.widget-view+json": {
       "model_id": "e7ff129bca57425384917936bcb2d465",
       "version_major": 2,
       "version_minor": 0
      },
      "text/plain": [
       "Output()"
      ]
     },
     "metadata": {},
     "output_type": "display_data"
    }
   ],
   "source": [
    "check = widgets.Checkbox(\n",
    "        value=False,\n",
    "        description='Check me',\n",
    "        disabled=False)\n",
    "\n",
    "dont = widgets.Checkbox(\n",
    "        value=False,\n",
    "        description='Do not check me',\n",
    "        disabled=False)\n",
    "\n",
    "ui = widgets.VBox([check, dont])\n",
    "\n",
    "out = widgets.interactive_output(lambda a,b: print(a, b), {'a': check, 'b': dont})\n",
    "\n",
    "display(ui)\n",
    "out"
   ]
  },
  {
   "cell_type": "code",
   "execution_count": 45,
   "metadata": {},
   "outputs": [
    {
     "data": {
      "application/vnd.jupyter.widget-view+json": {
       "model_id": "845678c5df0c4ebc9771b07da3d1f968",
       "version_major": 2,
       "version_minor": 0
      },
      "text/plain": [
       "interactive(children=(SelectMultiple(description='Fruits: ', index=(1,), options=('Apples', 'Oranges', 'Pears'…"
      ]
     },
     "metadata": {},
     "output_type": "display_data"
    }
   ],
   "source": [
    "options = ['Apples', 'Oranges', 'Pears']\n",
    "widgets.interact(lambda x: print(x), x=widgets.SelectMultiple(\n",
    "        options=options,\n",
    "        value=['Oranges'],\n",
    "        rows=len(options),\n",
    "        description='Fruits: ',\n",
    "        disabled=False));"
   ]
  },
  {
   "cell_type": "code",
   "execution_count": 46,
   "metadata": {},
   "outputs": [
    {
     "data": {
      "application/vnd.jupyter.widget-view+json": {
       "model_id": "d87c0afcf8bc473c9909e9355decc407",
       "version_major": 2,
       "version_minor": 0
      },
      "text/plain": [
       "interactive(children=(RadioButtons(description='Pizza topping:', index=1, options=('pepperoni', 'pineapple', '…"
      ]
     },
     "metadata": {},
     "output_type": "display_data"
    }
   ],
   "source": [
    "widgets.interact(lambda x: print(x), x=widgets.RadioButtons(\n",
    "        options=['pepperoni', 'pineapple', 'anchovies'],\n",
    "        value='pineapple',\n",
    "        description='Pizza topping:',\n",
    "        disabled=False,\n",
    "        style=style\n",
    "    ));"
   ]
  },
  {
   "cell_type": "code",
   "execution_count": 47,
   "metadata": {
    "scrolled": true
   },
   "outputs": [
    {
     "data": {
      "application/vnd.jupyter.widget-view+json": {
       "model_id": "cb3775ac9f874401bd663a22ffcc0065",
       "version_major": 2,
       "version_minor": 0
      },
      "text/plain": [
       "interactive(children=(Dropdown(description='Number:', index=1, options=(('One', 1), ('Two', 2), ('Three', 3)),…"
      ]
     },
     "metadata": {},
     "output_type": "display_data"
    }
   ],
   "source": [
    "widgets.interact(lambda x: print(x), x=widgets.Dropdown(\n",
    "        options=[('One', 1), ('Two', 2), ('Three', 3)],\n",
    "        value=2,\n",
    "        description='Number:',\n",
    "    ));"
   ]
  }
 ],
 "metadata": {
  "kernelspec": {
   "display_name": "Python 3",
   "language": "python",
   "name": "python3"
  },
  "language_info": {
   "codemirror_mode": {
    "name": "ipython",
    "version": 3
   },
   "file_extension": ".py",
   "mimetype": "text/x-python",
   "name": "python",
   "nbconvert_exporter": "python",
   "pygments_lexer": "ipython3",
   "version": "3.6.7"
  }
 },
 "nbformat": 4,
 "nbformat_minor": 2
}
