{
 "cells": [
  {
   "cell_type": "code",
   "execution_count": 97,
   "metadata": {},
   "outputs": [],
   "source": [
    "import datetime\n",
    "import ipywidgets as widgets\n",
    "import mysql.connector as mysql\n",
    "import pandas as pd"
   ]
  },
  {
   "cell_type": "markdown",
   "metadata": {},
   "source": [
    "### let's connect to the database"
   ]
  },
  {
   "cell_type": "code",
   "execution_count": 240,
   "metadata": {},
   "outputs": [],
   "source": [
    "con = mysql.connect(user = \"db_2019\", password = \"db_2019db_2019db_2019\", \n",
    "                    host = \"localhost\", database = \"discourse_management\")\n",
    "cur = con.cursor(dictionary=True)"
   ]
  },
  {
   "cell_type": "markdown",
   "metadata": {},
   "source": [
    "## SIMPLE SQL-python interface functions"
   ]
  },
  {
   "cell_type": "markdown",
   "metadata": {},
   "source": [
    "### Utils"
   ]
  },
  {
   "cell_type": "code",
   "execution_count": 178,
   "metadata": {},
   "outputs": [],
   "source": [
    "def protect(names):\n",
    "    \"\"\"\n",
    "    protects values with `` on both sides\n",
    "    \n",
    "    :param names: list of str or str\n",
    "    :return: list of stror str with `` around each str\n",
    "    \"\"\"\n",
    "    if type(names) == str:\n",
    "        return f\"`{names}`\"\n",
    "    elif type(names) == list or tuple:\n",
    "        return [f\"`{value}`\" for value in names]"
   ]
  },
  {
   "cell_type": "code",
   "execution_count": 246,
   "metadata": {},
   "outputs": [
    {
     "data": {
      "text/plain": [
       "'`WHY`'"
      ]
     },
     "execution_count": 246,
     "metadata": {},
     "output_type": "execute_result"
    }
   ],
   "source": [
    "protect('WHY')"
   ]
  },
  {
   "cell_type": "code",
   "execution_count": 245,
   "metadata": {},
   "outputs": [
    {
     "data": {
      "text/plain": [
       "['`I`', '`do`', '`hate`', '`programming!`']"
      ]
     },
     "execution_count": 245,
     "metadata": {},
     "output_type": "execute_result"
    }
   ],
   "source": [
    "protect(['I', 'do', 'hate', 'programming!'])"
   ]
  },
  {
   "cell_type": "code",
   "execution_count": 193,
   "metadata": {},
   "outputs": [],
   "source": [
    "def str_values(values):\n",
    "    \"\"\"\n",
    "    protects values for SQL (adds '' around strings, str other types)\n",
    "    \n",
    "    :param values: list\n",
    "    :return: list of protected values separated by commas\n",
    "    \"\"\"\n",
    "    return [f\"'{value}'\" if type(value) == str or datetime.date else str(value) for value in values]"
   ]
  },
  {
   "cell_type": "code",
   "execution_count": 250,
   "metadata": {},
   "outputs": [
    {
     "data": {
      "text/plain": [
       "[\"'I'\",\n",
       " \"'was'\",\n",
       " \"'born on'\",\n",
       " \"'1999-12-30'\",\n",
       " \"'not on the'\",\n",
       " \"'1'\",\n",
       " \"'st'\",\n",
       " \"'of January'\"]"
      ]
     },
     "execution_count": 250,
     "metadata": {},
     "output_type": "execute_result"
    }
   ],
   "source": [
    "str_values(['I', 'was', 'born on', datetime.date(1999, 12, 30), 'not on the', 1, 'st', 'of January'])"
   ]
  },
  {
   "cell_type": "markdown",
   "metadata": {},
   "source": [
    "### INSERT"
   ]
  },
  {
   "cell_type": "code",
   "execution_count": 192,
   "metadata": {},
   "outputs": [],
   "source": [
    "def insert(data, table_name, column_names_dict):\n",
    "    \"\"\"\n",
    "    inserts data into a database table\n",
    "    \n",
    "    date should be passed in format YYYY-MM-DD\n",
    "    \n",
    "    :param data: list of lists of data\n",
    "    :param table_name: str, table name\n",
    "    :param column_names_dict: dict, keys - column names, values - int, ids inside data inner lists\n",
    "    \"\"\"\n",
    "    columns, ids = list(zip(*list(column_names_dict.items())))\n",
    "    columns = protect(columns)\n",
    "    for line in data:\n",
    "        req = f\"INSERT INTO {protect(table_name)} ({', '.join(columns)}) VALUES \"\n",
    "        values = str_values([line[i] for i in ids])\n",
    "        req += f\"({', '.join(values)})\"\n",
    "        try:\n",
    "            cur.execute(req)\n",
    "            con.commit()\n",
    "        except Exception as e:\n",
    "            print(e)\n",
    "            print(req)"
   ]
  },
  {
   "cell_type": "code",
   "execution_count": 194,
   "metadata": {},
   "outputs": [],
   "source": [
    "data = [[1, 'no', 'oh', str(datetime.date(2019, 12, 24))], \n",
    "        [4, '!!!', 'hurray', str(datetime.date(2000, 1, 1))]]\n",
    "column_names_dict = {'int_col':0, 'str_col':2, 'str_col2':1, 'date_col':3}\n",
    "insert(data, 'example', column_names_dict)"
   ]
  },
  {
   "cell_type": "markdown",
   "metadata": {},
   "source": [
    "**IT DID THE INSERT!!!**\n",
    "You will see it below, when we select stuff from the table :)"
   ]
  },
  {
   "cell_type": "markdown",
   "metadata": {},
   "source": [
    "### SELECT"
   ]
  },
  {
   "cell_type": "code",
   "execution_count": 136,
   "metadata": {},
   "outputs": [],
   "source": [
    "def select(table_names, column_names='*', condition=None, distinct=False):\n",
    "    \"\"\"\n",
    "    selects data from database tables on condition\n",
    "    \n",
    "    :param table_name: list of str, table names\n",
    "    :param column_names: list of str, column names, optional, default '*'\n",
    "    :param condition: str, condition on column names and values, optional, default None\n",
    "    :param distinct: bool, whether to drop identical values, optional, default False\n",
    "    \"\"\"\n",
    "    table_names_str = ', '.join(protect(table_names))\n",
    "    if type(column_names) == list:\n",
    "        column_names_str = ', '.join(protect(column_names))\n",
    "    else:\n",
    "        column_names_str = column_names\n",
    "        \n",
    "    if distinct:\n",
    "        distinct = \"distinct\"\n",
    "    else:\n",
    "        distinct = \"\"\n",
    "    \n",
    "    req = f\"SELECT {distinct} {column_names_str} FROM {table_names_str}\"\n",
    "    if condition:\n",
    "        req += f\"WHERE {condition}\"\n",
    "    try:\n",
    "        cur.execute(req)\n",
    "        res = cur.fetchall()\n",
    "        if res:\n",
    "            return pd.DataFrame.from_records(res)\n",
    "        else:\n",
    "            print('Nothing was found for your request!')\n",
    "    except Exception as e:\n",
    "        print(e)\n",
    "        print(req)"
   ]
  },
  {
   "cell_type": "code",
   "execution_count": 195,
   "metadata": {},
   "outputs": [
    {
     "data": {
      "text/html": [
       "<div>\n",
       "<style scoped>\n",
       "    .dataframe tbody tr th:only-of-type {\n",
       "        vertical-align: middle;\n",
       "    }\n",
       "\n",
       "    .dataframe tbody tr th {\n",
       "        vertical-align: top;\n",
       "    }\n",
       "\n",
       "    .dataframe thead th {\n",
       "        text-align: right;\n",
       "    }\n",
       "</style>\n",
       "<table border=\"1\" class=\"dataframe\">\n",
       "  <thead>\n",
       "    <tr style=\"text-align: right;\">\n",
       "      <th></th>\n",
       "      <th>id_example</th>\n",
       "      <th>int_col</th>\n",
       "      <th>str_col</th>\n",
       "      <th>str_col2</th>\n",
       "      <th>date_col</th>\n",
       "    </tr>\n",
       "  </thead>\n",
       "  <tbody>\n",
       "    <tr>\n",
       "      <td>0</td>\n",
       "      <td>1</td>\n",
       "      <td>1</td>\n",
       "      <td>hell</td>\n",
       "      <td>no</td>\n",
       "      <td>2001-01-01</td>\n",
       "    </tr>\n",
       "    <tr>\n",
       "      <td>1</td>\n",
       "      <td>2</td>\n",
       "      <td>1</td>\n",
       "      <td>oh</td>\n",
       "      <td>no</td>\n",
       "      <td>2019-12-24</td>\n",
       "    </tr>\n",
       "    <tr>\n",
       "      <td>2</td>\n",
       "      <td>3</td>\n",
       "      <td>0</td>\n",
       "      <td>please</td>\n",
       "      <td>no</td>\n",
       "      <td>2000-01-01</td>\n",
       "    </tr>\n",
       "    <tr>\n",
       "      <td>3</td>\n",
       "      <td>4</td>\n",
       "      <td>3</td>\n",
       "      <td>oh</td>\n",
       "      <td>yay</td>\n",
       "      <td>2019-12-24</td>\n",
       "    </tr>\n",
       "    <tr>\n",
       "      <td>4</td>\n",
       "      <td>5</td>\n",
       "      <td>4</td>\n",
       "      <td>hurray</td>\n",
       "      <td>!!!</td>\n",
       "      <td>2000-01-01</td>\n",
       "    </tr>\n",
       "    <tr>\n",
       "      <td>5</td>\n",
       "      <td>6</td>\n",
       "      <td>1</td>\n",
       "      <td>oh</td>\n",
       "      <td>no</td>\n",
       "      <td>2019-12-24</td>\n",
       "    </tr>\n",
       "    <tr>\n",
       "      <td>6</td>\n",
       "      <td>7</td>\n",
       "      <td>4</td>\n",
       "      <td>hurray</td>\n",
       "      <td>!!!</td>\n",
       "      <td>2000-01-01</td>\n",
       "    </tr>\n",
       "  </tbody>\n",
       "</table>\n",
       "</div>"
      ],
      "text/plain": [
       "   id_example  int_col str_col str_col2    date_col\n",
       "0           1        1    hell       no  2001-01-01\n",
       "1           2        1      oh       no  2019-12-24\n",
       "2           3        0  please       no  2000-01-01\n",
       "3           4        3      oh      yay  2019-12-24\n",
       "4           5        4  hurray      !!!  2000-01-01\n",
       "5           6        1      oh       no  2019-12-24\n",
       "6           7        4  hurray      !!!  2000-01-01"
      ]
     },
     "execution_count": 195,
     "metadata": {},
     "output_type": "execute_result"
    }
   ],
   "source": [
    "select(['example'])"
   ]
  },
  {
   "cell_type": "code",
   "execution_count": 196,
   "metadata": {
    "scrolled": true
   },
   "outputs": [
    {
     "data": {
      "text/html": [
       "<div>\n",
       "<style scoped>\n",
       "    .dataframe tbody tr th:only-of-type {\n",
       "        vertical-align: middle;\n",
       "    }\n",
       "\n",
       "    .dataframe tbody tr th {\n",
       "        vertical-align: top;\n",
       "    }\n",
       "\n",
       "    .dataframe thead th {\n",
       "        text-align: right;\n",
       "    }\n",
       "</style>\n",
       "<table border=\"1\" class=\"dataframe\">\n",
       "  <thead>\n",
       "    <tr style=\"text-align: right;\">\n",
       "      <th></th>\n",
       "      <th>id_example</th>\n",
       "      <th>int_col</th>\n",
       "      <th>str_col</th>\n",
       "      <th>str_col2</th>\n",
       "      <th>date_col</th>\n",
       "    </tr>\n",
       "  </thead>\n",
       "  <tbody>\n",
       "    <tr>\n",
       "      <td>0</td>\n",
       "      <td>1</td>\n",
       "      <td>1</td>\n",
       "      <td>hell</td>\n",
       "      <td>no</td>\n",
       "      <td>2001-01-01</td>\n",
       "    </tr>\n",
       "    <tr>\n",
       "      <td>1</td>\n",
       "      <td>2</td>\n",
       "      <td>1</td>\n",
       "      <td>oh</td>\n",
       "      <td>no</td>\n",
       "      <td>2019-12-24</td>\n",
       "    </tr>\n",
       "  </tbody>\n",
       "</table>\n",
       "</div>"
      ],
      "text/plain": [
       "   id_example  int_col str_col str_col2    date_col\n",
       "0           1        1    hell       no  2001-01-01\n",
       "1           2        1      oh       no  2019-12-24"
      ]
     },
     "execution_count": 196,
     "metadata": {},
     "output_type": "execute_result"
    }
   ],
   "source": [
    "select(['example'], condition='id_example < 3')"
   ]
  },
  {
   "cell_type": "code",
   "execution_count": 197,
   "metadata": {},
   "outputs": [
    {
     "data": {
      "text/html": [
       "<div>\n",
       "<style scoped>\n",
       "    .dataframe tbody tr th:only-of-type {\n",
       "        vertical-align: middle;\n",
       "    }\n",
       "\n",
       "    .dataframe tbody tr th {\n",
       "        vertical-align: top;\n",
       "    }\n",
       "\n",
       "    .dataframe thead th {\n",
       "        text-align: right;\n",
       "    }\n",
       "</style>\n",
       "<table border=\"1\" class=\"dataframe\">\n",
       "  <thead>\n",
       "    <tr style=\"text-align: right;\">\n",
       "      <th></th>\n",
       "      <th>int_col</th>\n",
       "      <th>str_col2</th>\n",
       "    </tr>\n",
       "  </thead>\n",
       "  <tbody>\n",
       "    <tr>\n",
       "      <td>0</td>\n",
       "      <td>1</td>\n",
       "      <td>no</td>\n",
       "    </tr>\n",
       "    <tr>\n",
       "      <td>1</td>\n",
       "      <td>1</td>\n",
       "      <td>no</td>\n",
       "    </tr>\n",
       "    <tr>\n",
       "      <td>2</td>\n",
       "      <td>0</td>\n",
       "      <td>no</td>\n",
       "    </tr>\n",
       "  </tbody>\n",
       "</table>\n",
       "</div>"
      ],
      "text/plain": [
       "   int_col str_col2\n",
       "0        1       no\n",
       "1        1       no\n",
       "2        0       no"
      ]
     },
     "execution_count": 197,
     "metadata": {},
     "output_type": "execute_result"
    }
   ],
   "source": [
    "select(['example'], ['int_col', 'str_col2'], condition='id_example < 4')"
   ]
  },
  {
   "cell_type": "code",
   "execution_count": 198,
   "metadata": {},
   "outputs": [
    {
     "data": {
      "text/html": [
       "<div>\n",
       "<style scoped>\n",
       "    .dataframe tbody tr th:only-of-type {\n",
       "        vertical-align: middle;\n",
       "    }\n",
       "\n",
       "    .dataframe tbody tr th {\n",
       "        vertical-align: top;\n",
       "    }\n",
       "\n",
       "    .dataframe thead th {\n",
       "        text-align: right;\n",
       "    }\n",
       "</style>\n",
       "<table border=\"1\" class=\"dataframe\">\n",
       "  <thead>\n",
       "    <tr style=\"text-align: right;\">\n",
       "      <th></th>\n",
       "      <th>int_col</th>\n",
       "      <th>str_col2</th>\n",
       "    </tr>\n",
       "  </thead>\n",
       "  <tbody>\n",
       "    <tr>\n",
       "      <td>0</td>\n",
       "      <td>1</td>\n",
       "      <td>no</td>\n",
       "    </tr>\n",
       "    <tr>\n",
       "      <td>1</td>\n",
       "      <td>0</td>\n",
       "      <td>no</td>\n",
       "    </tr>\n",
       "  </tbody>\n",
       "</table>\n",
       "</div>"
      ],
      "text/plain": [
       "   int_col str_col2\n",
       "0        1       no\n",
       "1        0       no"
      ]
     },
     "execution_count": 198,
     "metadata": {},
     "output_type": "execute_result"
    }
   ],
   "source": [
    "select(['example'], ['int_col', 'str_col2'], condition='id_example < 4', distinct=True)"
   ]
  },
  {
   "cell_type": "markdown",
   "metadata": {},
   "source": [
    "**OMG THIS ALSO WORKED**"
   ]
  },
  {
   "cell_type": "code",
   "execution_count": 199,
   "metadata": {
    "scrolled": true
   },
   "outputs": [
    {
     "data": {
      "text/html": [
       "<div>\n",
       "<style scoped>\n",
       "    .dataframe tbody tr th:only-of-type {\n",
       "        vertical-align: middle;\n",
       "    }\n",
       "\n",
       "    .dataframe tbody tr th {\n",
       "        vertical-align: top;\n",
       "    }\n",
       "\n",
       "    .dataframe thead th {\n",
       "        text-align: right;\n",
       "    }\n",
       "</style>\n",
       "<table border=\"1\" class=\"dataframe\">\n",
       "  <thead>\n",
       "    <tr style=\"text-align: right;\">\n",
       "      <th></th>\n",
       "      <th>id_experiment</th>\n",
       "      <th>staff_surname</th>\n",
       "      <th>collection_date</th>\n",
       "    </tr>\n",
       "  </thead>\n",
       "  <tbody>\n",
       "    <tr>\n",
       "      <td>0</td>\n",
       "      <td>1</td>\n",
       "      <td>Рязанская</td>\n",
       "      <td>2019-01-20</td>\n",
       "    </tr>\n",
       "    <tr>\n",
       "      <td>1</td>\n",
       "      <td>2</td>\n",
       "      <td>Худякова</td>\n",
       "      <td>2019-03-18</td>\n",
       "    </tr>\n",
       "    <tr>\n",
       "      <td>2</td>\n",
       "      <td>3</td>\n",
       "      <td>Рязанская</td>\n",
       "      <td>2018-01-10</td>\n",
       "    </tr>\n",
       "    <tr>\n",
       "      <td>3</td>\n",
       "      <td>4</td>\n",
       "      <td>Худякова</td>\n",
       "      <td>2017-09-11</td>\n",
       "    </tr>\n",
       "    <tr>\n",
       "      <td>4</td>\n",
       "      <td>5</td>\n",
       "      <td>Рязанская</td>\n",
       "      <td>2019-05-22</td>\n",
       "    </tr>\n",
       "    <tr>\n",
       "      <td>5</td>\n",
       "      <td>6</td>\n",
       "      <td>Худякова</td>\n",
       "      <td>2017-11-23</td>\n",
       "    </tr>\n",
       "  </tbody>\n",
       "</table>\n",
       "</div>"
      ],
      "text/plain": [
       "   id_experiment staff_surname collection_date\n",
       "0              1     Рязанская      2019-01-20\n",
       "1              2      Худякова      2019-03-18\n",
       "2              3     Рязанская      2018-01-10\n",
       "3              4      Худякова      2017-09-11\n",
       "4              5     Рязанская      2019-05-22\n",
       "5              6      Худякова      2017-11-23"
      ]
     },
     "execution_count": 199,
     "metadata": {},
     "output_type": "execute_result"
    }
   ],
   "source": [
    "select(['subjects', 'experiments', 'staff'], ['id_experiment', 'staff_surname', 'collection_date'], condition='subjects.id_subject = experiments.id_subject and experiments.id_staff_collected = staff.id_staff')"
   ]
  },
  {
   "cell_type": "code",
   "execution_count": 200,
   "metadata": {},
   "outputs": [
    {
     "name": "stdout",
     "output_type": "stream",
     "text": [
      "Nothing was found for your request!\n"
     ]
    }
   ],
   "source": [
    "select(['subjects', 'experiments', 'staff'], ['id_experiment', 'staff_surname', 'collection_date'], condition='subjects.id_subject = experiments.id_subject and experiments.id_staff_collected > 2')"
   ]
  },
  {
   "cell_type": "markdown",
   "metadata": {},
   "source": [
    "**IT WORKS WITH REAL DATA TOO!**"
   ]
  },
  {
   "cell_type": "markdown",
   "metadata": {},
   "source": [
    "### UPDATE"
   ]
  },
  {
   "cell_type": "code",
   "execution_count": 215,
   "metadata": {},
   "outputs": [],
   "source": [
    "def update(table_name, column_names, values, condition):\n",
    "    \"\"\"\n",
    "    changes one entry in a database table\n",
    "    \n",
    "    :param table_name: str, table name\n",
    "    :param column_names: list of str, column names, \n",
    "    :param values: list, data to be changed\n",
    "    :param condition: str of type \"`id_example` = '1'\"\n",
    "    \"\"\"\n",
    "    if len(column_names) != len(values):\n",
    "        print(f\"expected column_names and values of the same length, got {len(column_names)} and {len(values)}\")\n",
    "        return\n",
    "    table_name = protect(table_name)\n",
    "    column_names = protect(column_names)\n",
    "    values = str_values(values)\n",
    "    changes = [f\"{column_names[i]} = {values[i]}\" for i in range(len(column_names))]\n",
    "    req = f\"UPDATE {table_name} SET {', '.join(changes)} WHERE ({condition})\"\n",
    "    try:\n",
    "        cur.execute(req)\n",
    "        con.commit()\n",
    "    except Exception as e:\n",
    "        print(e)\n",
    "        print(req)"
   ]
  },
  {
   "cell_type": "code",
   "execution_count": 211,
   "metadata": {},
   "outputs": [
    {
     "data": {
      "text/html": [
       "<div>\n",
       "<style scoped>\n",
       "    .dataframe tbody tr th:only-of-type {\n",
       "        vertical-align: middle;\n",
       "    }\n",
       "\n",
       "    .dataframe tbody tr th {\n",
       "        vertical-align: top;\n",
       "    }\n",
       "\n",
       "    .dataframe thead th {\n",
       "        text-align: right;\n",
       "    }\n",
       "</style>\n",
       "<table border=\"1\" class=\"dataframe\">\n",
       "  <thead>\n",
       "    <tr style=\"text-align: right;\">\n",
       "      <th></th>\n",
       "      <th>id_example</th>\n",
       "      <th>int_col</th>\n",
       "      <th>str_col</th>\n",
       "      <th>str_col2</th>\n",
       "      <th>date_col</th>\n",
       "    </tr>\n",
       "  </thead>\n",
       "  <tbody>\n",
       "    <tr>\n",
       "      <td>0</td>\n",
       "      <td>1</td>\n",
       "      <td>1</td>\n",
       "      <td>hell</td>\n",
       "      <td>no</td>\n",
       "      <td>2001-01-01</td>\n",
       "    </tr>\n",
       "  </tbody>\n",
       "</table>\n",
       "</div>"
      ],
      "text/plain": [
       "   id_example  int_col str_col str_col2    date_col\n",
       "0           1        1    hell       no  2001-01-01"
      ]
     },
     "execution_count": 211,
     "metadata": {},
     "output_type": "execute_result"
    }
   ],
   "source": [
    "select(['example'], condition='id_example = 1')"
   ]
  },
  {
   "cell_type": "code",
   "execution_count": 261,
   "metadata": {},
   "outputs": [],
   "source": [
    "update('example', ['int_col', 'str_col2'], [32, 'yes'], \"id_example = 1\")"
   ]
  },
  {
   "cell_type": "code",
   "execution_count": 262,
   "metadata": {},
   "outputs": [
    {
     "data": {
      "text/html": [
       "<div>\n",
       "<style scoped>\n",
       "    .dataframe tbody tr th:only-of-type {\n",
       "        vertical-align: middle;\n",
       "    }\n",
       "\n",
       "    .dataframe tbody tr th {\n",
       "        vertical-align: top;\n",
       "    }\n",
       "\n",
       "    .dataframe thead th {\n",
       "        text-align: right;\n",
       "    }\n",
       "</style>\n",
       "<table border=\"1\" class=\"dataframe\">\n",
       "  <thead>\n",
       "    <tr style=\"text-align: right;\">\n",
       "      <th></th>\n",
       "      <th>id_example</th>\n",
       "      <th>int_col</th>\n",
       "      <th>str_col</th>\n",
       "      <th>str_col2</th>\n",
       "      <th>date_col</th>\n",
       "    </tr>\n",
       "  </thead>\n",
       "  <tbody>\n",
       "    <tr>\n",
       "      <td>0</td>\n",
       "      <td>1</td>\n",
       "      <td>32</td>\n",
       "      <td>forever</td>\n",
       "      <td>yes</td>\n",
       "      <td>2001-01-01</td>\n",
       "    </tr>\n",
       "  </tbody>\n",
       "</table>\n",
       "</div>"
      ],
      "text/plain": [
       "   id_example  int_col  str_col str_col2    date_col\n",
       "0           1       32  forever      yes  2001-01-01"
      ]
     },
     "execution_count": 262,
     "metadata": {},
     "output_type": "execute_result"
    }
   ],
   "source": [
    "select(['example'], condition='id_example = 1')"
   ]
  },
  {
   "cell_type": "markdown",
   "metadata": {},
   "source": [
    "**OK, NICE, UPDATING WORKS** "
   ]
  },
  {
   "cell_type": "code",
   "execution_count": 221,
   "metadata": {},
   "outputs": [],
   "source": [
    "def update_multiple(data, table_name, id_col_name, ids):\n",
    "    \"\"\"\n",
    "    changes multiple entries in a database table (one by one)\n",
    "    \n",
    "    :param data: list of tuples (column_names - list of str and values - list of the same length)\n",
    "    :param table_name: str, table name\n",
    "    :param id_col_name: str, name of the primary key column in the table\n",
    "    :param ids: list of int, ids in the primary key column of the values to be changed\n",
    "    \"\"\"\n",
    "    if len(data) != len(ids):\n",
    "        print(f\"expected data and ids of the same length, got {len(data)} and {len(ids)}\")\n",
    "        return\n",
    "    for i, line in enumerate(data):\n",
    "        column_names, values = line\n",
    "        update(table_name, column_names, values, f\"{protect(id_col_name)} = '{ids[i]}'\")"
   ]
  },
  {
   "cell_type": "code",
   "execution_count": 256,
   "metadata": {},
   "outputs": [
    {
     "data": {
      "text/html": [
       "<div>\n",
       "<style scoped>\n",
       "    .dataframe tbody tr th:only-of-type {\n",
       "        vertical-align: middle;\n",
       "    }\n",
       "\n",
       "    .dataframe tbody tr th {\n",
       "        vertical-align: top;\n",
       "    }\n",
       "\n",
       "    .dataframe thead th {\n",
       "        text-align: right;\n",
       "    }\n",
       "</style>\n",
       "<table border=\"1\" class=\"dataframe\">\n",
       "  <thead>\n",
       "    <tr style=\"text-align: right;\">\n",
       "      <th></th>\n",
       "      <th>id_example</th>\n",
       "      <th>int_col</th>\n",
       "      <th>str_col</th>\n",
       "      <th>str_col2</th>\n",
       "      <th>date_col</th>\n",
       "    </tr>\n",
       "  </thead>\n",
       "  <tbody>\n",
       "    <tr>\n",
       "      <td>0</td>\n",
       "      <td>1</td>\n",
       "      <td>666</td>\n",
       "      <td>forever</td>\n",
       "      <td>hell</td>\n",
       "      <td>2001-01-01</td>\n",
       "    </tr>\n",
       "    <tr>\n",
       "      <td>1</td>\n",
       "      <td>3</td>\n",
       "      <td>0</td>\n",
       "      <td>please</td>\n",
       "      <td>no</td>\n",
       "      <td>2000-01-01</td>\n",
       "    </tr>\n",
       "  </tbody>\n",
       "</table>\n",
       "</div>"
      ],
      "text/plain": [
       "   id_example  int_col  str_col str_col2    date_col\n",
       "0           1      666  forever     hell  2001-01-01\n",
       "1           3        0   please       no  2000-01-01"
      ]
     },
     "execution_count": 256,
     "metadata": {},
     "output_type": "execute_result"
    }
   ],
   "source": [
    "select(['example'], condition='id_example = 1 or id_example = 3')"
   ]
  },
  {
   "cell_type": "code",
   "execution_count": 257,
   "metadata": {},
   "outputs": [],
   "source": [
    "data = [(['int_col', 'str_col2', 'str_col'], [666, 'hell', 'forever']),\n",
    "       (['date_col'], [datetime.date.today()])]\n",
    "ids = [1, 3]\n",
    "update_multiple(data, 'example', 'id_example', ids)"
   ]
  },
  {
   "cell_type": "code",
   "execution_count": 259,
   "metadata": {},
   "outputs": [
    {
     "data": {
      "text/html": [
       "<div>\n",
       "<style scoped>\n",
       "    .dataframe tbody tr th:only-of-type {\n",
       "        vertical-align: middle;\n",
       "    }\n",
       "\n",
       "    .dataframe tbody tr th {\n",
       "        vertical-align: top;\n",
       "    }\n",
       "\n",
       "    .dataframe thead th {\n",
       "        text-align: right;\n",
       "    }\n",
       "</style>\n",
       "<table border=\"1\" class=\"dataframe\">\n",
       "  <thead>\n",
       "    <tr style=\"text-align: right;\">\n",
       "      <th></th>\n",
       "      <th>id_example</th>\n",
       "      <th>int_col</th>\n",
       "      <th>str_col</th>\n",
       "      <th>str_col2</th>\n",
       "      <th>date_col</th>\n",
       "    </tr>\n",
       "  </thead>\n",
       "  <tbody>\n",
       "    <tr>\n",
       "      <td>0</td>\n",
       "      <td>1</td>\n",
       "      <td>666</td>\n",
       "      <td>forever</td>\n",
       "      <td>hell</td>\n",
       "      <td>2001-01-01</td>\n",
       "    </tr>\n",
       "    <tr>\n",
       "      <td>1</td>\n",
       "      <td>3</td>\n",
       "      <td>0</td>\n",
       "      <td>please</td>\n",
       "      <td>no</td>\n",
       "      <td>2019-12-24</td>\n",
       "    </tr>\n",
       "  </tbody>\n",
       "</table>\n",
       "</div>"
      ],
      "text/plain": [
       "   id_example  int_col  str_col str_col2    date_col\n",
       "0           1      666  forever     hell  2001-01-01\n",
       "1           3        0   please       no  2019-12-24"
      ]
     },
     "execution_count": 259,
     "metadata": {},
     "output_type": "execute_result"
    }
   ],
   "source": [
    "select(['example'], condition='id_example = 1 or id_example = 3')"
   ]
  },
  {
   "cell_type": "markdown",
   "metadata": {},
   "source": [
    "**NOW I CAN UPDATE MULTIPLE ROWS AT ONCE**"
   ]
  },
  {
   "cell_type": "markdown",
   "metadata": {},
   "source": [
    "### DELETE"
   ]
  },
  {
   "cell_type": "code",
   "execution_count": 239,
   "metadata": {},
   "outputs": [],
   "source": [
    "\"DELETE FROM `discourse_management`.`subjects` WHERE (`id_subject` = '49')\"\n",
    "def delete(table_name, id_col_name, ids):\n",
    "    \"\"\"\n",
    "    deletes entries in a database table (one by one)\n",
    "    \n",
    "    :param table_name: str, table name\n",
    "    :param id_col_name: str, name of the primary key column in the table\n",
    "    :param ids: list of int, ids in the primary key column of the entries to be deleted\n",
    "    \"\"\"\n",
    "    for i in ids:\n",
    "        req = f\"DELETE FROM {protect(table_name)} WHERE ({protect(id_col_name)} = '{i}')\"\n",
    "        try:\n",
    "            cur.execute(req)\n",
    "            con.commit()\n",
    "        except Exception as e:\n",
    "            print(e)\n",
    "            print(req)"
   ]
  },
  {
   "cell_type": "code",
   "execution_count": 251,
   "metadata": {},
   "outputs": [
    {
     "data": {
      "text/html": [
       "<div>\n",
       "<style scoped>\n",
       "    .dataframe tbody tr th:only-of-type {\n",
       "        vertical-align: middle;\n",
       "    }\n",
       "\n",
       "    .dataframe tbody tr th {\n",
       "        vertical-align: top;\n",
       "    }\n",
       "\n",
       "    .dataframe thead th {\n",
       "        text-align: right;\n",
       "    }\n",
       "</style>\n",
       "<table border=\"1\" class=\"dataframe\">\n",
       "  <thead>\n",
       "    <tr style=\"text-align: right;\">\n",
       "      <th></th>\n",
       "      <th>id_example</th>\n",
       "      <th>int_col</th>\n",
       "      <th>str_col</th>\n",
       "      <th>str_col2</th>\n",
       "      <th>date_col</th>\n",
       "    </tr>\n",
       "  </thead>\n",
       "  <tbody>\n",
       "    <tr>\n",
       "      <td>0</td>\n",
       "      <td>1</td>\n",
       "      <td>666</td>\n",
       "      <td>forever</td>\n",
       "      <td>yes</td>\n",
       "      <td>2001-01-01</td>\n",
       "    </tr>\n",
       "    <tr>\n",
       "      <td>1</td>\n",
       "      <td>2</td>\n",
       "      <td>1</td>\n",
       "      <td>oh</td>\n",
       "      <td>no</td>\n",
       "      <td>2019-12-24</td>\n",
       "    </tr>\n",
       "    <tr>\n",
       "      <td>2</td>\n",
       "      <td>3</td>\n",
       "      <td>0</td>\n",
       "      <td>please</td>\n",
       "      <td>no</td>\n",
       "      <td>2000-01-01</td>\n",
       "    </tr>\n",
       "    <tr>\n",
       "      <td>3</td>\n",
       "      <td>5</td>\n",
       "      <td>4</td>\n",
       "      <td>hurray</td>\n",
       "      <td>!!!</td>\n",
       "      <td>2000-01-01</td>\n",
       "    </tr>\n",
       "    <tr>\n",
       "      <td>4</td>\n",
       "      <td>7</td>\n",
       "      <td>4</td>\n",
       "      <td>hurray</td>\n",
       "      <td>!!!</td>\n",
       "      <td>2000-01-01</td>\n",
       "    </tr>\n",
       "  </tbody>\n",
       "</table>\n",
       "</div>"
      ],
      "text/plain": [
       "   id_example  int_col  str_col str_col2    date_col\n",
       "0           1      666  forever      yes  2001-01-01\n",
       "1           2        1       oh       no  2019-12-24\n",
       "2           3        0   please       no  2000-01-01\n",
       "3           5        4   hurray      !!!  2000-01-01\n",
       "4           7        4   hurray      !!!  2000-01-01"
      ]
     },
     "execution_count": 251,
     "metadata": {},
     "output_type": "execute_result"
    }
   ],
   "source": [
    "select(['example'])"
   ]
  },
  {
   "cell_type": "code",
   "execution_count": 252,
   "metadata": {},
   "outputs": [],
   "source": [
    "delete('example', 'id_example', [5, 7])"
   ]
  },
  {
   "cell_type": "code",
   "execution_count": 253,
   "metadata": {},
   "outputs": [
    {
     "data": {
      "text/html": [
       "<div>\n",
       "<style scoped>\n",
       "    .dataframe tbody tr th:only-of-type {\n",
       "        vertical-align: middle;\n",
       "    }\n",
       "\n",
       "    .dataframe tbody tr th {\n",
       "        vertical-align: top;\n",
       "    }\n",
       "\n",
       "    .dataframe thead th {\n",
       "        text-align: right;\n",
       "    }\n",
       "</style>\n",
       "<table border=\"1\" class=\"dataframe\">\n",
       "  <thead>\n",
       "    <tr style=\"text-align: right;\">\n",
       "      <th></th>\n",
       "      <th>id_example</th>\n",
       "      <th>int_col</th>\n",
       "      <th>str_col</th>\n",
       "      <th>str_col2</th>\n",
       "      <th>date_col</th>\n",
       "    </tr>\n",
       "  </thead>\n",
       "  <tbody>\n",
       "    <tr>\n",
       "      <td>0</td>\n",
       "      <td>1</td>\n",
       "      <td>666</td>\n",
       "      <td>forever</td>\n",
       "      <td>yes</td>\n",
       "      <td>2001-01-01</td>\n",
       "    </tr>\n",
       "    <tr>\n",
       "      <td>1</td>\n",
       "      <td>2</td>\n",
       "      <td>1</td>\n",
       "      <td>oh</td>\n",
       "      <td>no</td>\n",
       "      <td>2019-12-24</td>\n",
       "    </tr>\n",
       "    <tr>\n",
       "      <td>2</td>\n",
       "      <td>3</td>\n",
       "      <td>0</td>\n",
       "      <td>please</td>\n",
       "      <td>no</td>\n",
       "      <td>2000-01-01</td>\n",
       "    </tr>\n",
       "  </tbody>\n",
       "</table>\n",
       "</div>"
      ],
      "text/plain": [
       "   id_example  int_col  str_col str_col2    date_col\n",
       "0           1      666  forever      yes  2001-01-01\n",
       "1           2        1       oh       no  2019-12-24\n",
       "2           3        0   please       no  2000-01-01"
      ]
     },
     "execution_count": 253,
     "metadata": {},
     "output_type": "execute_result"
    }
   ],
   "source": [
    "select(['example'])"
   ]
  },
  {
   "cell_type": "markdown",
   "metadata": {},
   "source": [
    "**NOW I HAVE MOST OF WHAT I MIGHT NEED, RIGHT?**"
   ]
  },
  {
   "cell_type": "markdown",
   "metadata": {},
   "source": [
    "### let us try to work with real CSV data"
   ]
  },
  {
   "cell_type": "code",
   "execution_count": 228,
   "metadata": {},
   "outputs": [
    {
     "name": "stdout",
     "output_type": "stream",
     "text": [
      "['ID', 'Sex', 'Age', 'Education', 'Aphasia type', 'Severity', 'Time post-onset', 'Etiology', 'Lesion location', 'Type']\n",
      "['P12', 'f', '47', 'higher (unfinished)', 'dynamic, complex motor', 'moderate', '2 y, 3 m', 'CVA', 'lMCA', 'aphasia']\n",
      "['P6', 'm', '49', 'higher', '', '', '', '', '', 'norm']\n"
     ]
    }
   ],
   "source": [
    "with open ('data\\personal_aphasia.csv', 'r', encoding='utf-8-sig') as f:\n",
    "    lines = f.readlines()\n",
    "\n",
    "lines = [line.strip().split(';') for line in lines]\n",
    "header = [x for x in lines[0] if x]\n",
    "lines = [line[:len(header)] for line in lines[1:]]\n",
    "print(header)\n",
    "lines = [[line[0]]+[line[1].lower()]+line[2:] for line in lines]\n",
    "print(lines[1])\n",
    "print(lines[15])"
   ]
  },
  {
   "cell_type": "code",
   "execution_count": 241,
   "metadata": {},
   "outputs": [
    {
     "data": {
      "text/html": [
       "<div>\n",
       "<style scoped>\n",
       "    .dataframe tbody tr th:only-of-type {\n",
       "        vertical-align: middle;\n",
       "    }\n",
       "\n",
       "    .dataframe tbody tr th {\n",
       "        vertical-align: top;\n",
       "    }\n",
       "\n",
       "    .dataframe thead th {\n",
       "        text-align: right;\n",
       "    }\n",
       "</style>\n",
       "<table border=\"1\" class=\"dataframe\">\n",
       "  <thead>\n",
       "    <tr style=\"text-align: right;\">\n",
       "      <th></th>\n",
       "      <th>id_subject</th>\n",
       "      <th>id_personal_info</th>\n",
       "      <th>language</th>\n",
       "      <th>language_comment</th>\n",
       "      <th>sex</th>\n",
       "      <th>handedness_type</th>\n",
       "    </tr>\n",
       "  </thead>\n",
       "  <tbody>\n",
       "    <tr>\n",
       "      <td>0</td>\n",
       "      <td>25</td>\n",
       "      <td>DUMMY1</td>\n",
       "      <td>russian-mono</td>\n",
       "      <td>None</td>\n",
       "      <td>f</td>\n",
       "      <td>right</td>\n",
       "    </tr>\n",
       "    <tr>\n",
       "      <td>1</td>\n",
       "      <td>26</td>\n",
       "      <td>DUMMY2</td>\n",
       "      <td>russian-mono</td>\n",
       "      <td>None</td>\n",
       "      <td>m</td>\n",
       "      <td>left</td>\n",
       "    </tr>\n",
       "    <tr>\n",
       "      <td>2</td>\n",
       "      <td>27</td>\n",
       "      <td>DUMMY3</td>\n",
       "      <td>russian-bi</td>\n",
       "      <td>georgian</td>\n",
       "      <td>f</td>\n",
       "      <td>right</td>\n",
       "    </tr>\n",
       "    <tr>\n",
       "      <td>3</td>\n",
       "      <td>28</td>\n",
       "      <td>DUMMY4</td>\n",
       "      <td>russian-mono</td>\n",
       "      <td>None</td>\n",
       "      <td>m</td>\n",
       "      <td>right</td>\n",
       "    </tr>\n",
       "  </tbody>\n",
       "</table>\n",
       "</div>"
      ],
      "text/plain": [
       "   id_subject id_personal_info      language language_comment sex  \\\n",
       "0          25           DUMMY1  russian-mono             None   f   \n",
       "1          26           DUMMY2  russian-mono             None   m   \n",
       "2          27           DUMMY3    russian-bi         georgian   f   \n",
       "3          28           DUMMY4  russian-mono             None   m   \n",
       "\n",
       "  handedness_type  \n",
       "0           right  \n",
       "1            left  \n",
       "2           right  \n",
       "3           right  "
      ]
     },
     "execution_count": 241,
     "metadata": {},
     "output_type": "execute_result"
    }
   ],
   "source": [
    "select(['subjects'])"
   ]
  },
  {
   "cell_type": "code",
   "execution_count": 242,
   "metadata": {},
   "outputs": [],
   "source": [
    "data = [lines[1][:2]+['russian-mono']]\n",
    "column_names_dict = {'id_personal_info':0, 'sex':1, 'language':2}\n",
    "insert(data, 'subjects', column_names_dict)"
   ]
  },
  {
   "cell_type": "code",
   "execution_count": 243,
   "metadata": {},
   "outputs": [
    {
     "data": {
      "text/html": [
       "<div>\n",
       "<style scoped>\n",
       "    .dataframe tbody tr th:only-of-type {\n",
       "        vertical-align: middle;\n",
       "    }\n",
       "\n",
       "    .dataframe tbody tr th {\n",
       "        vertical-align: top;\n",
       "    }\n",
       "\n",
       "    .dataframe thead th {\n",
       "        text-align: right;\n",
       "    }\n",
       "</style>\n",
       "<table border=\"1\" class=\"dataframe\">\n",
       "  <thead>\n",
       "    <tr style=\"text-align: right;\">\n",
       "      <th></th>\n",
       "      <th>id_subject</th>\n",
       "      <th>id_personal_info</th>\n",
       "      <th>language</th>\n",
       "      <th>language_comment</th>\n",
       "      <th>sex</th>\n",
       "      <th>handedness_type</th>\n",
       "    </tr>\n",
       "  </thead>\n",
       "  <tbody>\n",
       "    <tr>\n",
       "      <td>0</td>\n",
       "      <td>25</td>\n",
       "      <td>DUMMY1</td>\n",
       "      <td>russian-mono</td>\n",
       "      <td>None</td>\n",
       "      <td>f</td>\n",
       "      <td>right</td>\n",
       "    </tr>\n",
       "    <tr>\n",
       "      <td>1</td>\n",
       "      <td>26</td>\n",
       "      <td>DUMMY2</td>\n",
       "      <td>russian-mono</td>\n",
       "      <td>None</td>\n",
       "      <td>m</td>\n",
       "      <td>left</td>\n",
       "    </tr>\n",
       "    <tr>\n",
       "      <td>2</td>\n",
       "      <td>27</td>\n",
       "      <td>DUMMY3</td>\n",
       "      <td>russian-bi</td>\n",
       "      <td>georgian</td>\n",
       "      <td>f</td>\n",
       "      <td>right</td>\n",
       "    </tr>\n",
       "    <tr>\n",
       "      <td>3</td>\n",
       "      <td>28</td>\n",
       "      <td>DUMMY4</td>\n",
       "      <td>russian-mono</td>\n",
       "      <td>None</td>\n",
       "      <td>m</td>\n",
       "      <td>right</td>\n",
       "    </tr>\n",
       "    <tr>\n",
       "      <td>4</td>\n",
       "      <td>50</td>\n",
       "      <td>P12</td>\n",
       "      <td>russian-mono</td>\n",
       "      <td>None</td>\n",
       "      <td>f</td>\n",
       "      <td>None</td>\n",
       "    </tr>\n",
       "  </tbody>\n",
       "</table>\n",
       "</div>"
      ],
      "text/plain": [
       "   id_subject id_personal_info      language language_comment sex  \\\n",
       "0          25           DUMMY1  russian-mono             None   f   \n",
       "1          26           DUMMY2  russian-mono             None   m   \n",
       "2          27           DUMMY3    russian-bi         georgian   f   \n",
       "3          28           DUMMY4  russian-mono             None   m   \n",
       "4          50              P12  russian-mono             None   f   \n",
       "\n",
       "  handedness_type  \n",
       "0           right  \n",
       "1            left  \n",
       "2           right  \n",
       "3           right  \n",
       "4            None  "
      ]
     },
     "execution_count": 243,
     "metadata": {},
     "output_type": "execute_result"
    }
   ],
   "source": [
    "select(['subjects'])"
   ]
  },
  {
   "cell_type": "markdown",
   "metadata": {},
   "source": [
    "## ok, here's how widgets work"
   ]
  },
  {
   "cell_type": "code",
   "execution_count": 5,
   "metadata": {
    "scrolled": true
   },
   "outputs": [
    {
     "name": "stderr",
     "output_type": "stream",
     "text": [
      "Enabling notebook extension jupyter-js-widgets/extension...\n",
      "      - Validating: ok\n"
     ]
    }
   ],
   "source": [
    "!jupyter nbextension enable --py widgetsnbextension"
   ]
  },
  {
   "cell_type": "code",
   "execution_count": 35,
   "metadata": {},
   "outputs": [],
   "source": [
    "style = {'description_width': 'initial'}"
   ]
  },
  {
   "cell_type": "code",
   "execution_count": 52,
   "metadata": {},
   "outputs": [
    {
     "data": {
      "application/vnd.jupyter.widget-view+json": {
       "model_id": "4b2d5a21283c4a739627f94c5b58190b",
       "version_major": 2,
       "version_minor": 0
      },
      "text/plain": [
       "VBox(children=(Checkbox(value=False, description='Check me'), Checkbox(value=False, description='Do not check …"
      ]
     },
     "metadata": {},
     "output_type": "display_data"
    },
    {
     "data": {
      "application/vnd.jupyter.widget-view+json": {
       "model_id": "bbb317cdf3d3454998b123752e780221",
       "version_major": 2,
       "version_minor": 0
      },
      "text/plain": [
       "Output()"
      ]
     },
     "metadata": {},
     "output_type": "display_data"
    }
   ],
   "source": [
    "check = widgets.Checkbox(\n",
    "        value=False,\n",
    "        description='Check me',\n",
    "        disabled=False)\n",
    "\n",
    "dont = widgets.Checkbox(\n",
    "        value=False,\n",
    "        description='Do not check me',\n",
    "        disabled=False)\n",
    "\n",
    "ui = widgets.VBox([check, dont])\n",
    "\n",
    "out = widgets.interactive_output(lambda a,b: print(a, b), {'a': check, 'b': dont})\n",
    "\n",
    "display(ui)\n",
    "out"
   ]
  },
  {
   "cell_type": "code",
   "execution_count": 37,
   "metadata": {},
   "outputs": [
    {
     "data": {
      "application/vnd.jupyter.widget-view+json": {
       "model_id": "5557daef680f40b3a9a83d3291b6b897",
       "version_major": 2,
       "version_minor": 0
      },
      "text/plain": [
       "interactive(children=(SelectMultiple(description='Fruits: ', index=(1,), options=('Apples', 'Oranges', 'Pears'…"
      ]
     },
     "metadata": {},
     "output_type": "display_data"
    }
   ],
   "source": [
    "options = ['Apples', 'Oranges', 'Pears']\n",
    "widgets.interact(lambda x: print(x), x=widgets.SelectMultiple(\n",
    "        options=options,\n",
    "        value=['Oranges'],\n",
    "        rows=len(options),\n",
    "        description='Fruits: ',\n",
    "        disabled=False));"
   ]
  },
  {
   "cell_type": "code",
   "execution_count": 36,
   "metadata": {},
   "outputs": [
    {
     "data": {
      "application/vnd.jupyter.widget-view+json": {
       "model_id": "1387d34532a84a5d9cb547c51b0cb1a4",
       "version_major": 2,
       "version_minor": 0
      },
      "text/plain": [
       "interactive(children=(RadioButtons(description='Pizza topping:', index=1, options=('pepperoni', 'pineapple', '…"
      ]
     },
     "metadata": {},
     "output_type": "display_data"
    }
   ],
   "source": [
    "widgets.interact(lambda x: print(x), x=widgets.RadioButtons(\n",
    "        options=['pepperoni', 'pineapple', 'anchovies'],\n",
    "        value='pineapple',\n",
    "        description='Pizza topping:',\n",
    "        disabled=False,\n",
    "        style=style\n",
    "    ));"
   ]
  },
  {
   "cell_type": "code",
   "execution_count": 32,
   "metadata": {
    "scrolled": true
   },
   "outputs": [
    {
     "data": {
      "application/vnd.jupyter.widget-view+json": {
       "model_id": "3266958078914356bc97711f69b77e97",
       "version_major": 2,
       "version_minor": 0
      },
      "text/plain": [
       "interactive(children=(Dropdown(description='Number:', index=1, options=(('One', 1), ('Two', 2), ('Three', 3)),…"
      ]
     },
     "metadata": {},
     "output_type": "display_data"
    }
   ],
   "source": [
    "widgets.interact(lambda x: print(x), x=widgets.Dropdown(\n",
    "        options=[('One', 1), ('Two', 2), ('Three', 3)],\n",
    "        value=2,\n",
    "        description='Number:',\n",
    "    ));"
   ]
  }
 ],
 "metadata": {
  "kernelspec": {
   "display_name": "Python 3",
   "language": "python",
   "name": "python3"
  },
  "language_info": {
   "codemirror_mode": {
    "name": "ipython",
    "version": 3
   },
   "file_extension": ".py",
   "mimetype": "text/x-python",
   "name": "python",
   "nbconvert_exporter": "python",
   "pygments_lexer": "ipython3",
   "version": "3.6.7"
  }
 },
 "nbformat": 4,
 "nbformat_minor": 2
}
