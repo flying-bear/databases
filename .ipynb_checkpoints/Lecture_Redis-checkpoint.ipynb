{
 "cells": [
  {
   "cell_type": "markdown",
   "metadata": {},
   "source": [
    "Давайте потестируем производительность БД Redis, которая относится к базам \"ключ-значение\".\n",
    "\n",
    "Документация на обертку для Питона находится [здесь](https://redis-py.readthedocs.io/en/latest/).\n",
    "\n",
    "Установим саму базу данных и redis-py (`sudo pip install redis`). Помимо этого установим библиотеку hiredis (`pip install hiredis`), которая обрабатывает ответ от БД несколько быстрее.\n",
    "\n",
    "Воспользуемся тем, что Mongo и bson у нас уже установлены<sup>\\*</sup>. Будем генерировать уникальные идентификаторы при помощи ObjectId.\n",
    "<hr>\n",
    "<sup>\\*</sup> По-крайней мере, у меня. Если кто-либо хочет синхронизироваться, пусть поставит библиотеку для работы с Mongo - <a href=\"http://api.mongodb.com/python/current/api/index.html\">pymongo</a>."
   ]
  },
  {
   "cell_type": "code",
   "execution_count": 1,
   "metadata": {},
   "outputs": [
    {
     "name": "stdout",
     "output_type": "stream",
     "text": [
      "Collecting redis\n",
      "  Downloading https://files.pythonhosted.org/packages/f0/05/1fc7feedc19c123e7a95cfc9e7892eb6cdd2e5df4e9e8af6384349c1cc3d/redis-3.4.1-py2.py3-none-any.whl (71kB)\n",
      "Installing collected packages: redis\n",
      "Successfully installed redis-3.4.1\n"
     ]
    },
    {
     "name": "stderr",
     "output_type": "stream",
     "text": [
      "WARNING: You are using pip version 19.3.1; however, version 20.0.2 is available.\n",
      "You should consider upgrading via the 'python -m pip install --upgrade pip' command.\n"
     ]
    },
    {
     "name": "stdout",
     "output_type": "stream",
     "text": [
      "Collecting hiredis\n",
      "  Downloading https://files.pythonhosted.org/packages/bb/6b/f912b414e828256d3cbacbf619cc7f30dacc43941b323f0b9bd677afd3f1/hiredis-1.0.1-cp36-cp36m-win_amd64.whl\n",
      "Installing collected packages: hiredis\n",
      "Successfully installed hiredis-1.0.1\n"
     ]
    },
    {
     "name": "stderr",
     "output_type": "stream",
     "text": [
      "WARNING: You are using pip version 19.3.1; however, version 20.0.2 is available.\n",
      "You should consider upgrading via the 'python -m pip install --upgrade pip' command.\n"
     ]
    },
    {
     "name": "stdout",
     "output_type": "stream",
     "text": [
      "Requirement already satisfied: pymongo in c:\\users\\lenovo\\appdata\\local\\programs\\python\\python36\\lib\\site-packages (3.10.1)\n"
     ]
    },
    {
     "name": "stderr",
     "output_type": "stream",
     "text": [
      "WARNING: You are using pip version 19.3.1; however, version 20.0.2 is available.\n",
      "You should consider upgrading via the 'python -m pip install --upgrade pip' command.\n"
     ]
    }
   ],
   "source": [
    "!pip install redis\n",
    "!pip install hiredis\n",
    "!pip install pymongo"
   ]
  },
  {
   "cell_type": "code",
   "execution_count": 1,
   "metadata": {},
   "outputs": [],
   "source": [
    "# Импортируем драйвер к Redis.\n",
    "import redis\n",
    "from bson import ObjectId\n",
    "import datetime\n",
    "import time"
   ]
  },
  {
   "cell_type": "markdown",
   "metadata": {},
   "source": [
    "Присоединяемся к базе данных. По умолчанию она работает только с локальной машиной, аутентификация не предусмотрена.\n",
    "\n",
    "На самом деле, параметры можно не указывать, ниже передаются те же самые значения, что принимаются по умолчанию."
   ]
  },
  {
   "cell_type": "code",
   "execution_count": 2,
   "metadata": {},
   "outputs": [],
   "source": [
    "r = redis.Redis(host='localhost', port=6379, db=0)"
   ]
  },
  {
   "cell_type": "markdown",
   "metadata": {},
   "source": [
    "Попробуем положить какой-нибудь ключ..."
   ]
  },
  {
   "cell_type": "code",
   "execution_count": 8,
   "metadata": {},
   "outputs": [
    {
     "data": {
      "text/plain": [
       "True"
      ]
     },
     "execution_count": 8,
     "metadata": {},
     "output_type": "execute_result"
    }
   ],
   "source": [
    "r.set('foo', 'bar')"
   ]
  },
  {
   "cell_type": "markdown",
   "metadata": {},
   "source": [
    "... и получить его обратно."
   ]
  },
  {
   "cell_type": "code",
   "execution_count": 9,
   "metadata": {},
   "outputs": [
    {
     "data": {
      "text/plain": [
       "b'bar'"
      ]
     },
     "execution_count": 9,
     "metadata": {},
     "output_type": "execute_result"
    }
   ],
   "source": [
    "r.get('foo')"
   ]
  },
  {
   "cell_type": "markdown",
   "metadata": {},
   "source": [
    "ObjectId по умолчанию генерирует некоторый уникальный ключ. В дальнейшем мы будем преобразовывать его к строке и использовать как уникальный ключ для наших данных."
   ]
  },
  {
   "cell_type": "code",
   "execution_count": 10,
   "metadata": {},
   "outputs": [
    {
     "data": {
      "text/plain": [
       "ObjectId('5e4a9215cfb1c1c7e3ebdeb3')"
      ]
     },
     "execution_count": 10,
     "metadata": {},
     "output_type": "execute_result"
    }
   ],
   "source": [
    "ObjectId()"
   ]
  },
  {
   "cell_type": "markdown",
   "metadata": {},
   "source": [
    "При помощи функции `keys` можно посмотреть все ключи в базе. Функция `flushdb` очищает текущую базу."
   ]
  },
  {
   "cell_type": "code",
   "execution_count": 11,
   "metadata": {},
   "outputs": [
    {
     "data": {
      "text/plain": [
       "[b'foo']"
      ]
     },
     "execution_count": 11,
     "metadata": {},
     "output_type": "execute_result"
    }
   ],
   "source": [
    "r.keys()"
   ]
  },
  {
   "cell_type": "code",
   "execution_count": 12,
   "metadata": {},
   "outputs": [
    {
     "data": {
      "text/plain": [
       "True"
      ]
     },
     "execution_count": 12,
     "metadata": {},
     "output_type": "execute_result"
    }
   ],
   "source": [
    "r.flushdb()"
   ]
  },
  {
   "cell_type": "markdown",
   "metadata": {},
   "source": [
    "Померим скорость работы с базой при помощи такого простого метода, как `set`. Положим в базу 100 000 уникальных ключей, к которым привязано одно целое число."
   ]
  },
  {
   "cell_type": "code",
   "execution_count": 13,
   "metadata": {},
   "outputs": [
    {
     "name": "stdout",
     "output_type": "stream",
     "text": [
      "CPU times: user 9.21 s, sys: 2.2 s, total: 11.4 s\n",
      "Wall time: 14.1 s\n"
     ]
    }
   ],
   "source": [
    "%%time\n",
    "for i in range(100000):\n",
    "    r.set(str(ObjectId()), i)"
   ]
  },
  {
   "cell_type": "markdown",
   "metadata": {},
   "source": [
    "Примерно 20 000 операций вставки в секунду на локальной машине. Не так уж и много.\n",
    "\n",
    "Посмотрим с какой скоростью они будут читаться."
   ]
  },
  {
   "cell_type": "code",
   "execution_count": 12,
   "metadata": {},
   "outputs": [
    {
     "name": "stdout",
     "output_type": "stream",
     "text": [
      "Всего ключей: 200000\n",
      "CPU times: user 4.93 s, sys: 2.16 s, total: 7.09 s\n",
      "Wall time: 9.26 s\n"
     ]
    }
   ],
   "source": [
    "%%time\n",
    "summ=0\n",
    "for k in r.keys():\n",
    "    summ+=int(r.get(k))\n",
    "\n",
    "print(\"Всего ключей:\", len(r.keys()))"
   ]
  },
  {
   "cell_type": "markdown",
   "metadata": {},
   "source": [
    "Около 20 000 операций чтения.\n",
    "\n",
    "Хм... Этот Redis, кажется, не такой уж и молодец.\n",
    "\n",
    "Или мы что-то делаем не так? Давайте сравним с `dict`."
   ]
  },
  {
   "cell_type": "code",
   "execution_count": 13,
   "metadata": {},
   "outputs": [
    {
     "name": "stdout",
     "output_type": "stream",
     "text": [
      "CPU times: user 302 ms, sys: 17.4 ms, total: 319 ms\n",
      "Wall time: 318 ms\n"
     ]
    }
   ],
   "source": [
    "%%time\n",
    "tst_dct={}\n",
    "for i in range(100000):\n",
    "    tst_dct[str(ObjectId())]=i"
   ]
  },
  {
   "cell_type": "markdown",
   "metadata": {},
   "source": [
    "Примерно 300 000 операций записи в секунду..."
   ]
  },
  {
   "cell_type": "code",
   "execution_count": 15,
   "metadata": {},
   "outputs": [
    {
     "name": "stdout",
     "output_type": "stream",
     "text": [
      "CPU times: user 40.6 ms, sys: 0 ns, total: 40.6 ms\n",
      "Wall time: 39.5 ms\n"
     ]
    }
   ],
   "source": [
    "%%time\n",
    "summ=0\n",
    "for k in tst_dct.keys():\n",
    "    summ+=int(tst_dct[k])"
   ]
  },
  {
   "cell_type": "markdown",
   "metadata": {},
   "source": [
    "... и примерно 2,5 млн операций чтения в секунду. Пока Redis очень далеко до `dict`.\n",
    "\n",
    "Хотя dict не умеет отдавать данные нескольким программам одновременно.\n",
    "\n",
    "Давайте пока посмотрим что Redis  умеет еще. Например, при помощи функции `expire` каждой паре можно сказать, что она утрачивает актуальность через какое-то время. \n",
    "\n",
    "Положим в базу 100 000 ключей, каждому из них установим время жизни 10 секунд, уснём на 15 секунд и посмотрим что осталось в базе."
   ]
  },
  {
   "cell_type": "code",
   "execution_count": 16,
   "metadata": {},
   "outputs": [
    {
     "name": "stdout",
     "output_type": "stream",
     "text": [
      "0 0\n"
     ]
    }
   ],
   "source": [
    "r.flushdb()\n",
    "\n",
    "for i in range(100000):\n",
    "    oid=str(ObjectId())\n",
    "    r.set(oid, i)\n",
    "    r.expire(oid, 10)\n",
    "\n",
    "time.sleep(15)\n",
    "\n",
    "summ=0\n",
    "for k in r.keys():\n",
    "    summ+=int(r.get(k))\n",
    "    \n",
    "print(r.dbsize(), summ)"
   ]
  },
  {
   "cell_type": "markdown",
   "metadata": {},
   "source": [
    "Как видно, не осталось ничего. Метод работает.\n",
    "\n",
    "Помимо работы с простыми числами, Redis позволяет организовывать список, привязанный к определенному ключу. При помощи функций `rpush` и `lpush` можно класть значения в очередь с заданным ключем."
   ]
  },
  {
   "cell_type": "code",
   "execution_count": 22,
   "metadata": {},
   "outputs": [
    {
     "name": "stdout",
     "output_type": "stream",
     "text": [
      "[b'secondkey', b'firstkey']\n",
      "CPU times: user 5.9 s, sys: 2.04 s, total: 7.95 s\n",
      "Wall time: 10.1 s\n"
     ]
    }
   ],
   "source": [
    "%%time\n",
    "for i in range(100000):\n",
    "    r.lpush('firstkey', i)\n",
    "    r.lpush('secondkey', i)\n",
    "    \n",
    "print(r.keys())"
   ]
  },
  {
   "cell_type": "markdown",
   "metadata": {},
   "source": [
    "Получается еще медленнее, чем при помощи `set`.\n",
    "\n",
    "Извлекаем данные при помощи `lpop` и `rpop`. Как видно, получается тоже не быстро."
   ]
  },
  {
   "cell_type": "code",
   "execution_count": 39,
   "metadata": {},
   "outputs": [
    {
     "name": "stdout",
     "output_type": "stream",
     "text": [
      "CPU times: user 2.76 s, sys: 1.42 s, total: 4.18 s\n",
      "Wall time: 5.61 s\n"
     ]
    }
   ],
   "source": [
    "%%time\n",
    "for i in range(100000):\n",
    "    r.lpop('firstkey')\n",
    "    r.lpop('secondkey')"
   ]
  },
  {
   "cell_type": "markdown",
   "metadata": {},
   "source": [
    "Теперь попробуем пакетную запись значений. \n",
    "\n",
    "Может быть генерация ключей занимает больше времени, чем работа с БД? Отдельно сгенерируем идентификаторы для ключей, а потом положим их в базу."
   ]
  },
  {
   "cell_type": "code",
   "execution_count": 23,
   "metadata": {},
   "outputs": [
    {
     "name": "stdout",
     "output_type": "stream",
     "text": [
      "CPU times: user 309 ms, sys: 5.46 ms, total: 314 ms\n",
      "Wall time: 312 ms\n"
     ]
    }
   ],
   "source": [
    "%%time\n",
    "objs=[str(ObjectId()) for i in range(100000)]"
   ]
  },
  {
   "cell_type": "code",
   "execution_count": 24,
   "metadata": {},
   "outputs": [
    {
     "name": "stdout",
     "output_type": "stream",
     "text": [
      "CPU times: user 3.03 s, sys: 1.07 s, total: 4.11 s\n",
      "Wall time: 5.19 s\n"
     ]
    }
   ],
   "source": [
    "%%time\n",
    "for i,x in enumerate(objs):\n",
    "    r.set(x, i)"
   ]
  },
  {
   "cell_type": "markdown",
   "metadata": {},
   "source": [
    "Быстрее не вышло. Может быть дело в for, и с помощью map мы сделаем всё быстрее?"
   ]
  },
  {
   "cell_type": "code",
   "execution_count": 25,
   "metadata": {},
   "outputs": [
    {
     "name": "stdout",
     "output_type": "stream",
     "text": [
      "CPU times: user 2.96 s, sys: 1.04 s, total: 4 s\n",
      "Wall time: 4.97 s\n"
     ]
    }
   ],
   "source": [
    "%%time\n",
    "_=list(map(lambda x: r.set(x[1], x[0]), enumerate(objs)))"
   ]
  },
  {
   "cell_type": "markdown",
   "metadata": {},
   "source": [
    "Убедимся, что мы не забыли сгенерировать новые ключи перед запуском предыдущей ячейки - проверим количество ключей в базу."
   ]
  },
  {
   "cell_type": "code",
   "execution_count": 26,
   "metadata": {},
   "outputs": [
    {
     "data": {
      "text/plain": [
       "100002"
      ]
     },
     "execution_count": 26,
     "metadata": {},
     "output_type": "execute_result"
    }
   ],
   "source": [
    "r.dbsize()"
   ]
  },
  {
   "cell_type": "markdown",
   "metadata": {},
   "source": [
    "Также убедимся, что работа со словарем всё еще быстрее. Кстати, значительно быстрее генерации ключей."
   ]
  },
  {
   "cell_type": "code",
   "execution_count": 27,
   "metadata": {},
   "outputs": [
    {
     "name": "stdout",
     "output_type": "stream",
     "text": [
      "CPU times: user 27.1 ms, sys: 0 ns, total: 27.1 ms\n",
      "Wall time: 26.5 ms\n"
     ]
    }
   ],
   "source": [
    "%%time\n",
    "tst_dct={}\n",
    "for i in enumerate(objs):\n",
    "    tst_dct[x]=i"
   ]
  },
  {
   "cell_type": "markdown",
   "metadata": {},
   "source": [
    "Ключи в самом деле лежат в базе?"
   ]
  },
  {
   "cell_type": "code",
   "execution_count": 28,
   "metadata": {},
   "outputs": [
    {
     "data": {
      "text/plain": [
       "[b'5e42e4d9a58cdfda7596b313',\n",
       " b'5e42e4d9a58cdfda7595a8d1',\n",
       " b'5e42e4d9a58cdfda75969a80',\n",
       " b'5e42e4d9a58cdfda7595cdd9',\n",
       " b'5e42e4d9a58cdfda7595af15',\n",
       " b'5e42e4d9a58cdfda7596d7e6',\n",
       " b'5e42e4d9a58cdfda75955f8d',\n",
       " b'5e42e4d9a58cdfda75965baa',\n",
       " b'5e42e4d9a58cdfda759577fc',\n",
       " b'5e42e4d9a58cdfda759598b9']"
      ]
     },
     "execution_count": 28,
     "metadata": {},
     "output_type": "execute_result"
    }
   ],
   "source": [
    "list(r.keys())[:10]"
   ]
  },
  {
   "cell_type": "markdown",
   "metadata": {},
   "source": [
    "Попробуем функцию mset, которая кладет всё содержимое словаря одновременно."
   ]
  },
  {
   "cell_type": "code",
   "execution_count": 29,
   "metadata": {},
   "outputs": [
    {
     "name": "stdout",
     "output_type": "stream",
     "text": [
      "CPU times: user 645 ms, sys: 17.8 ms, total: 663 ms\n",
      "Wall time: 781 ms\n"
     ]
    }
   ],
   "source": [
    "%%time\n",
    "objs={str(ObjectId()):i for i in range(100000)}\n",
    "r.mset(objs)"
   ]
  },
  {
   "cell_type": "markdown",
   "metadata": {},
   "source": [
    "Получается в несколько раз быстрее - около 130 000 ключей в секунду. Но это всё еще не похоже на миллион запросов в секунду.\n",
    "\n",
    "Хорошо, может быть это Питон не справляется, а база может работать быстрее? Попробуем запустить несколько потоков, которые пишут в базу. Оформим генерацию ключей и загрузку ключей в базу как отдельную функцию, чтобы можно было ее запускать в параллельных потоках."
   ]
  },
  {
   "cell_type": "code",
   "execution_count": 30,
   "metadata": {},
   "outputs": [],
   "source": [
    "import multiprocessing"
   ]
  },
  {
   "cell_type": "code",
   "execution_count": 31,
   "metadata": {},
   "outputs": [],
   "source": [
    "def putKey2Redis():\n",
    "    objs={str(ObjectId()):i for i in range(100000)}\n",
    "    #_=list(map(lambda x: r.set(x[1], x[0]), enumerate(objs)))\n",
    "    r.mset(objs)"
   ]
  },
  {
   "cell_type": "code",
   "execution_count": 32,
   "metadata": {},
   "outputs": [
    {
     "name": "stdout",
     "output_type": "stream",
     "text": [
      "CPU times: user 2.72 ms, sys: 37.5 ms, total: 40.2 ms\n",
      "Wall time: 2.95 s\n"
     ]
    }
   ],
   "source": [
    "%%time\n",
    "pr=[]\n",
    "\n",
    "for i in range(10):\n",
    "    p=multiprocessing.Process(target=putKey2Redis)\n",
    "    p.start()\n",
    "    pr.append(p)\n",
    "\n",
    "for p in pr:\n",
    "    p.join()"
   ]
  },
  {
   "cell_type": "markdown",
   "metadata": {},
   "source": [
    "330 000 запросов в секунду. Явно улучшение не в 10 раз. Значит дело не только в Питоне. Но скорость уже впечатляющая. От обычной БД с настройками из коробки такую скорость не получишь.\n",
    "\n",
    "Redis умеет привязывать к ключу хешированный массив - аналог питоновского словаря. Попробуем класть его при помощи функции `hmset` (h - хешированный. m - много ключей сразу)."
   ]
  },
  {
   "cell_type": "code",
   "execution_count": 33,
   "metadata": {},
   "outputs": [],
   "source": [
    "def putKey2Redis2():\n",
    "    objs={str(ObjectId()):i for i in range(100000)}\n",
    "    r.hmset(str(ObjectId()), objs)"
   ]
  },
  {
   "cell_type": "code",
   "execution_count": 34,
   "metadata": {},
   "outputs": [
    {
     "name": "stdout",
     "output_type": "stream",
     "text": [
      "CPU times: user 17.2 ms, sys: 22.4 ms, total: 39.6 ms\n",
      "Wall time: 2.43 s\n"
     ]
    }
   ],
   "source": [
    "%%time\n",
    "pr=[]\n",
    "\n",
    "for i in range(10):\n",
    "    p=multiprocessing.Process(target=putKey2Redis2)\n",
    "    p.start()\n",
    "    pr.append(p)\n",
    "\n",
    "for p in pr:\n",
    "    p.join()"
   ]
  },
  {
   "cell_type": "markdown",
   "metadata": {},
   "source": [
    "Увеличения скорости не наблюдается.\n",
    "\n",
    "При помощи функции `hkeys` можно получить ключи для конкретного хеш-массива. `hmget` позволяет получить значения по нескольким ключам."
   ]
  },
  {
   "cell_type": "code",
   "execution_count": 35,
   "metadata": {},
   "outputs": [
    {
     "data": {
      "text/plain": [
       "True"
      ]
     },
     "execution_count": 35,
     "metadata": {},
     "output_type": "execute_result"
    }
   ],
   "source": [
    "r.flushdb()"
   ]
  },
  {
   "cell_type": "code",
   "execution_count": 36,
   "metadata": {},
   "outputs": [
    {
     "name": "stdout",
     "output_type": "stream",
     "text": [
      "CPU times: user 309 ms, sys: 22.2 ms, total: 332 ms\n",
      "Wall time: 330 ms\n"
     ]
    }
   ],
   "source": [
    "%%time\n",
    "objs={str(ObjectId()):i for i in range(100000)}"
   ]
  },
  {
   "cell_type": "code",
   "execution_count": 37,
   "metadata": {},
   "outputs": [
    {
     "name": "stdout",
     "output_type": "stream",
     "text": [
      "CPU times: user 340 ms, sys: 2.05 ms, total: 342 ms\n",
      "Wall time: 446 ms\n"
     ]
    },
    {
     "data": {
      "text/plain": [
       "True"
      ]
     },
     "execution_count": 37,
     "metadata": {},
     "output_type": "execute_result"
    }
   ],
   "source": [
    "%%time\n",
    "r.hmset(\"longkey\", objs)"
   ]
  },
  {
   "cell_type": "code",
   "execution_count": 38,
   "metadata": {},
   "outputs": [],
   "source": [
    "ho=r.hkeys(\"longkey\")"
   ]
  },
  {
   "cell_type": "code",
   "execution_count": 39,
   "metadata": {},
   "outputs": [
    {
     "data": {
      "text/plain": [
       "[b'5e42e6a4a58cdfda75998cb0',\n",
       " b'5e42e6a3a58cdfda7598fc2d',\n",
       " b'5e42e6a3a58cdfda7598a9de',\n",
       " b'5e42e6a3a58cdfda75986618',\n",
       " b'5e42e6a4a58cdfda75998edd',\n",
       " b'5e42e6a4a58cdfda7599e000',\n",
       " b'5e42e6a3a58cdfda7598e2a1',\n",
       " b'5e42e6a3a58cdfda759875ba',\n",
       " b'5e42e6a4a58cdfda7599a04f',\n",
       " b'5e42e6a3a58cdfda7598910e']"
      ]
     },
     "execution_count": 39,
     "metadata": {},
     "output_type": "execute_result"
    }
   ],
   "source": [
    "ho[:10]"
   ]
  },
  {
   "cell_type": "code",
   "execution_count": 40,
   "metadata": {},
   "outputs": [],
   "source": [
    "oo=r.hmget(\"longkey\", ho[:10])"
   ]
  },
  {
   "cell_type": "code",
   "execution_count": 41,
   "metadata": {},
   "outputs": [
    {
     "data": {
      "text/plain": [
       "[b'75978',\n",
       " b'38983',\n",
       " b'17912',\n",
       " b'562',\n",
       " b'76535',\n",
       " b'97306',\n",
       " b'32443',\n",
       " b'4564',\n",
       " b'81001',\n",
       " b'11560']"
      ]
     },
     "execution_count": 41,
     "metadata": {},
     "output_type": "execute_result"
    }
   ],
   "source": [
    "oo"
   ]
  },
  {
   "cell_type": "code",
   "execution_count": 42,
   "metadata": {},
   "outputs": [
    {
     "name": "stdout",
     "output_type": "stream",
     "text": [
      "CPU times: user 2.65 s, sys: 1.11 s, total: 3.76 s\n",
      "Wall time: 4.77 s\n"
     ]
    }
   ],
   "source": [
    "%%time\n",
    "for k in ho:\n",
    "    _=r.hget(\"longkey\", k)"
   ]
  },
  {
   "cell_type": "markdown",
   "metadata": {},
   "source": [
    "Redis поддерживает блокирующие операции. При помощи `brpop` и `blpop` мы можем приостановить свои действия либо пока не будет получено значение, либо пока не пройдет заданный промежуток времени.\n",
    "\n",
    "Если функция успешно получила значение, она вернет его после ожидания."
   ]
  },
  {
   "cell_type": "code",
   "execution_count": 43,
   "metadata": {},
   "outputs": [
    {
     "name": "stdout",
     "output_type": "stream",
     "text": [
      "(b'blockedTest', b'asdf')\n"
     ]
    }
   ],
   "source": [
    "r.rpush(\"blockedTest\", \"asdf\")\n",
    "print(r.brpop(\"blockedTest\", 1))"
   ]
  },
  {
   "cell_type": "markdown",
   "metadata": {},
   "source": [
    "Если значение не было получено за время ожидания, возвращается None."
   ]
  },
  {
   "cell_type": "code",
   "execution_count": 44,
   "metadata": {},
   "outputs": [
    {
     "name": "stdout",
     "output_type": "stream",
     "text": [
      "waiting\n",
      "waiting\n",
      "waiting\n",
      "waiting\n",
      "(b'blockedTest', b'Yahooo!')\n"
     ]
    }
   ],
   "source": [
    "def blockingWrite():\n",
    "    time.sleep(5)\n",
    "    r.lpush(\"blockedTest\", \"Yahooo!\")\n",
    "    \n",
    "def blockingRead():\n",
    "    bres=r.brpop(\"blockedTest\", 1)\n",
    "    while bres==None:\n",
    "        print(\"waiting\")\n",
    "        bres=r.brpop(\"blockedTest\", 1)\n",
    "    print(bres)\n",
    "    \n",
    "bpr1=multiprocessing.Process(target=blockingWrite)\n",
    "bpr2=multiprocessing.Process(target=blockingRead)\n",
    "bpr1.start()\n",
    "bpr2.start()\n",
    "bpr1.join()\n",
    "bpr2.join()"
   ]
  },
  {
   "cell_type": "markdown",
   "metadata": {},
   "source": [
    "Помимо этого, к ключу можно привязать множество. Добавление в множество ведется при помощи операции `sadd`. Также можно находить пересечение (`sinter`), объединение (`sunion`)  разницу (`sdiff`) множеств."
   ]
  },
  {
   "cell_type": "code",
   "execution_count": 45,
   "metadata": {},
   "outputs": [
    {
     "data": {
      "text/plain": [
       "{b'A'}"
      ]
     },
     "execution_count": 45,
     "metadata": {},
     "output_type": "execute_result"
    }
   ],
   "source": [
    "r.sadd(\"testSets1\", \"A\")\n",
    "r.sadd(\"testSets1\", \"B\")\n",
    "r.sadd(\"testSets1\", \"C\")\n",
    "\n",
    "r.sadd(\"testSets2\", \"A\")\n",
    "r.sadd(\"testSets2\", \"D\")\n",
    "r.sadd(\"testSets2\", \"F\")\n",
    "\n",
    "r.sinter([\"testSets1\",\"testSets2\"])\n"
   ]
  },
  {
   "cell_type": "markdown",
   "metadata": {},
   "source": [
    "Результаты пересечения и объединения можно сохранить в другое множество."
   ]
  },
  {
   "cell_type": "code",
   "execution_count": 46,
   "metadata": {},
   "outputs": [
    {
     "data": {
      "text/plain": [
       "{b'A', b'B', b'C', b'D', b'F'}"
      ]
     },
     "execution_count": 46,
     "metadata": {},
     "output_type": "execute_result"
    }
   ],
   "source": [
    "r.sunionstore(\"testSets3\", [\"testSets1\", \"testSets2\"])\n",
    "r.smembers(\"testSets3\")"
   ]
  },
  {
   "cell_type": "markdown",
   "metadata": {},
   "source": [
    "Элемент можно атомарно перебросить из одного множества в другое при помощи `smove`."
   ]
  },
  {
   "cell_type": "code",
   "execution_count": 47,
   "metadata": {},
   "outputs": [
    {
     "data": {
      "text/plain": [
       "({b'A', b'D'}, {b'A', b'B', b'C', b'F'})"
      ]
     },
     "execution_count": 47,
     "metadata": {},
     "output_type": "execute_result"
    }
   ],
   "source": [
    "r.smove(\"testSets2\", \"testSets1\", 'F')\n",
    "r.smembers(\"testSets2\"), r.smembers(\"testSets1\")"
   ]
  },
  {
   "cell_type": "markdown",
   "metadata": {},
   "source": [
    " Удалить значение можно при помощи `srem`, узнать длину множества - `scard`."
   ]
  },
  {
   "cell_type": "code",
   "execution_count": 48,
   "metadata": {},
   "outputs": [
    {
     "data": {
      "text/plain": [
       "3"
      ]
     },
     "execution_count": 48,
     "metadata": {},
     "output_type": "execute_result"
    }
   ],
   "source": [
    "r.srem(\"testSets1\", 'F')\n",
    "r.scard(\"testSets1\")"
   ]
  },
  {
   "cell_type": "markdown",
   "metadata": {},
   "source": [
    "Каждая команда возвращает объект типа `pipeline`. Данный объект позволяет выполнять транзакции. Для этого необходимо при помощи pipeline выполнить несколько команд (они будут поставлены во внутреннюю очередь), а затем вызвать `execute`. Таким образом поддерживаются транзакции для нескольких команд, не требующих промежуточного чтения результатов.\n",
    "\n",
    "В итоге вернется список результатов выполнения команд."
   ]
  },
  {
   "cell_type": "code",
   "execution_count": 49,
   "metadata": {},
   "outputs": [
    {
     "data": {
      "text/plain": [
       "[1, 1, {b'B', b'C', b'G'}]"
      ]
     },
     "execution_count": 49,
     "metadata": {},
     "output_type": "execute_result"
    }
   ],
   "source": [
    "pipe=r.pipeline()\n",
    "pipe.srem(\"testSets1\", 'A')\n",
    "pipe.sadd(\"testSets1\", 'G')\n",
    "pipe.smembers(\"testSets1\")\n",
    "pipe.execute()"
   ]
  },
  {
   "cell_type": "code",
   "execution_count": 50,
   "metadata": {},
   "outputs": [
    {
     "data": {
      "text/plain": [
       "[1, 1, {b'B', b'C', b'G', b'R'}]"
      ]
     },
     "execution_count": 50,
     "metadata": {},
     "output_type": "execute_result"
    }
   ],
   "source": [
    "r.pipeline().srem(\"testSets2\", 'A').sadd(\"testSets1\", 'R').smembers(\"testSets1\").execute()"
   ]
  },
  {
   "cell_type": "markdown",
   "metadata": {},
   "source": [
    "Если в промежутках необходимо модифицировать какие-то значения, следует использовать следующую конструкцию. В ней `watch` говорит, что мы будем следить за заданным ключем. Команда `multi` говорит о том, что сейчас будет выполняться несколько операций как транзакция. Если значение, связанное с ключем в `watch` изменилось до начала `execute` (выполнение нескольких операций), то будет вызвано исключение."
   ]
  },
  {
   "cell_type": "code",
   "execution_count": 53,
   "metadata": {},
   "outputs": [
    {
     "data": {
      "text/plain": [
       "[True, True]"
      ]
     },
     "execution_count": 53,
     "metadata": {},
     "output_type": "execute_result"
    }
   ],
   "source": [
    "ppp=r.pipeline()\n",
    "ppp.multi()\n",
    "ppp.set(\"dummy1\", \"1\")\n",
    "#ppp.multi()\n",
    "ppp.set(\"dummy2\", \"1\")\n",
    "ppp.execute()"
   ]
  },
  {
   "cell_type": "code",
   "execution_count": 54,
   "metadata": {},
   "outputs": [
    {
     "data": {
      "text/plain": [
       "b'1'"
      ]
     },
     "execution_count": 54,
     "metadata": {},
     "output_type": "execute_result"
    }
   ],
   "source": [
    "r.get(\"dummy1\")"
   ]
  },
  {
   "cell_type": "code",
   "execution_count": 52,
   "metadata": {},
   "outputs": [
    {
     "data": {
      "text/plain": [
       "b'2'"
      ]
     },
     "execution_count": 52,
     "metadata": {},
     "output_type": "execute_result"
    }
   ],
   "source": [
    "r.set('OUR-SEQUENCE-KEY', 1)\n",
    "with r.pipeline() as pipe:\n",
    "    while 1:\n",
    "        try:\n",
    "            pipe.watch('OUR-SEQUENCE-KEY')\n",
    "            current_value = pipe.get('OUR-SEQUENCE-KEY')\n",
    "            next_value = int(current_value) + 1\n",
    "            pipe.multi()\n",
    "            pipe.set('OUR-SEQUENCE-KEY', next_value)\n",
    "            pipe.execute()\n",
    "            break\n",
    "        except redis.WatchError:\n",
    "            continue\n",
    "            \n",
    "r.get('OUR-SEQUENCE-KEY')"
   ]
  },
  {
   "cell_type": "markdown",
   "metadata": {},
   "source": [
    "А еще у Redis замечательные [битовые операции](https://blog.getspool.com/2011/11/29/fast-easy-realtime-metrics-using-redis-bitmaps/) и отсортированные списки."
   ]
  },
  {
   "cell_type": "markdown",
   "metadata": {},
   "source": [
    "---"
   ]
  },
  {
   "cell_type": "markdown",
   "metadata": {},
   "source": [
    "Наличие хеш-массивов фактически позволяет хранить в базе данных объекты/словари/JSON и обращаться к ним при помощи уникальных ключей. Правда, плохо получается хранить в полях таких объектов массивы других объектов. Традиционно для таких задач склеивают последовательность ключей в один, используя в качестве разделителя двоеточие. Таким образом, вместо того, чтобы хранить список объектов, мы храним много уникальных ключей, которые известным образом можно соотнести с объектами.\n",
    "\n",
    "Попробуем решить следующую задачу.\n",
    "\n",
    "Есть квадратная карта заданного размера. На карте находятся растения, деревья, травоядные и хищники. Необходимо промоделировать поведение системы, обеспечивая обмен данными между частями модели через Redis. "
   ]
  },
  {
   "cell_type": "code",
   "execution_count": 15,
   "metadata": {},
   "outputs": [],
   "source": [
    "import random"
   ]
  },
  {
   "cell_type": "code",
   "execution_count": 16,
   "metadata": {},
   "outputs": [],
   "source": [
    "r = redis.Redis(host='localhost', port=6379, db=0)"
   ]
  },
  {
   "cell_type": "code",
   "execution_count": 17,
   "metadata": {},
   "outputs": [
    {
     "data": {
      "text/plain": [
       "True"
      ]
     },
     "execution_count": 17,
     "metadata": {},
     "output_type": "execute_result"
    }
   ],
   "source": [
    "r.flushdb()"
   ]
  },
  {
   "cell_type": "code",
   "execution_count": 18,
   "metadata": {},
   "outputs": [
    {
     "data": {
      "text/plain": [
       "True"
      ]
     },
     "execution_count": 18,
     "metadata": {},
     "output_type": "execute_result"
    }
   ],
   "source": [
    "world={\"sizeX\":50, \"sizeY\":50, \"iniPred\":5, \"iniCarn\":20, \n",
    "       \"lifeExpPred\":10, \"lifeExpPredStd\":3, \"breedPeriodPred\":4, \"lifePredMin\":50, \"lifePredMax\":100,  \n",
    "       \"lifeExpCarn\":10, \"lifeExpCarnStd\":3, \"breedPeriodCarn\":3, \"lifeCarnMin\":50, \"lifeCarnMax\":100, \n",
    "       \"herbCount\":10000, \"treesCount\":500, \n",
    "       \"lifeExpTree\":30, \"lifeExpTreeStd\":5, \"breedPeriodTree\":6}\n",
    "\n",
    "r.hmset(\"worldDescription\", world)"
   ]
  },
  {
   "cell_type": "markdown",
   "metadata": {},
   "source": [
    "У тайлов заводим свойство \"количество растений в тайле\"."
   ]
  },
  {
   "cell_type": "code",
   "execution_count": 19,
   "metadata": {},
   "outputs": [],
   "source": [
    "tile={\"herbs\": 0}\n",
    "for i in range(world[\"sizeY\"]):\n",
    "    for j in range(world[\"sizeX\"]):\n",
    "        r.hmset(\"tile:\"+str(i+1)+\":\"+str(j+1), tile)"
   ]
  },
  {
   "cell_type": "markdown",
   "metadata": {},
   "source": [
    "Раскидываем растения по тайлам, увеличивая число растений в выбранном тайле."
   ]
  },
  {
   "cell_type": "code",
   "execution_count": 20,
   "metadata": {},
   "outputs": [],
   "source": [
    "for i in range(world[\"herbCount\"]):\n",
    "    x=random.randint(1, world[\"sizeX\"])\n",
    "    y=random.randint(1, world[\"sizeY\"])\n",
    "    r.hincrby(\"tile:\"+str(y)+\":\"+str(x), \"herbs\", 1)"
   ]
  },
  {
   "cell_type": "code",
   "execution_count": 21,
   "metadata": {},
   "outputs": [],
   "source": [
    "for i in range(world[\"iniCarn\"]):\n",
    "    g=random.randint(0, 1)\n",
    "    carn={\"x\":str(random.randint(1, world[\"sizeX\"])), \"y\":str(random.randint(1, world[\"sizeY\"])), \n",
    "          \"carn_id\":str(ObjectId()), \"carn_age\":0, \"carn_gender\": g,\n",
    "          \"carn_life_exp\": random.randint(world[\"lifeExpCarn\"]-world[\"lifeExpCarnStd\"], world[\"lifeExpCarn\"]+world[\"lifeExpCarnStd\"]), \n",
    "          \"carn_hunger\":0,\n",
    "          \"carn_life\":random.randint(world[\"lifeCarnMin\"], world[\"lifeCarnMax\"])\n",
    "         }\n",
    "    r.lpush(\"tile:\"+str(x)+\":\"+str(y)+\":carns\", carn[\"carn_id\"])\n",
    "    r.hmset(\"carn:\"+carn[\"carn_id\"], carn)\n",
    "    r.lpush(\"carns_id\", carn[\"carn_id\"])"
   ]
  },
  {
   "cell_type": "code",
   "execution_count": 22,
   "metadata": {},
   "outputs": [],
   "source": [
    "for i in range(world[\"iniPred\"]):\n",
    "    g=random.randint(0, 1)\n",
    "    pred={\"x\":str(random.randint(1, world[\"sizeX\"])), \"y\":str(random.randint(1, world[\"sizeY\"])), \n",
    "          \"pred_id\":str(ObjectId()), \"pred_age\":0, \"pred_gender\": g,\n",
    "          \"pred_life_exp\": random.randint(world[\"lifeExpPred\"]-world[\"lifeExpPredStd\"], world[\"lifeExpPred\"]+world[\"lifeExpPredStd\"]), \n",
    "          \"pred_hunger\":0,\n",
    "          \"pred_life\":random.randint(world[\"lifePredMin\"], world[\"lifePredMax\"])\n",
    "         }\n",
    "    r.lpush(\"tile:\"+str(x)+\":\"+str(y)+\":preds\", pred[\"pred_id\"])\n",
    "    r.hmset(\"pred:\"+pred[\"pred_id\"], pred)\n",
    "    r.lpush(\"preds_id\", pred[\"pred_id\"])"
   ]
  },
  {
   "cell_type": "code",
   "execution_count": 53,
   "metadata": {},
   "outputs": [],
   "source": [
    "%matplotlib inline\n",
    "import matplotlib.pyplot as plt\n",
    "\n",
    "plt.style.use('ggplot')\n",
    "#plt.style.use('classic')\n",
    "plt.rcParams['figure.figsize'] = (12, 8)"
   ]
  },
  {
   "cell_type": "code",
   "execution_count": 95,
   "metadata": {},
   "outputs": [],
   "source": [
    "def showIt(field, who, c_len, s):\n",
    "    for i in range(c_len):\n",
    "        c_id=r.rpoplpush(who+\"s_id\", who+\"s_id\").decode()\n",
    "        cx=int(r.hget(who+\":\"+c_id, \"x\"))\n",
    "        cy=int(r.hget(who+\":\"+c_id, \"y\"))\n",
    "        #print(\"pred:\"+p_id, cx, cy)\n",
    "        field[cy-1][cx-1]=s\n",
    "\n",
    "def showField():\n",
    "    sx=int(r.hget(\"worldDescription\", \"sizeX\"))\n",
    "    sy=int(r.hget(\"worldDescription\", \"sizeY\"))\n",
    "    \n",
    "    carn_len=r.llen(\"carns_id\")\n",
    "    pred_len=r.llen(\"preds_id\")\n",
    "    field=[[0 for j in range(sx)] for i in range(sy)]\n",
    "    \n",
    "    \"\"\"for i in range(sx):\n",
    "        for j in range(sy):\n",
    "            herb_cnt=r.hget(\"tile:\"+str(i+1)+\":\"+str(j+1), \"herbs\")\n",
    "            field[i][j]=herb_cnt.decode()\"\"\";\n",
    "    \n",
    "    showIt(field, \"pred\", pred_len, 1)\n",
    "    showIt(field, \"carn\", carn_len, 2)\n",
    "\n",
    "    ax = plt.subplot()\n",
    "    ax.imshow(field);\n",
    "\n",
    "        \n",
    "def moveIt(who, c_id, sx, sy):\n",
    "    #print(who+\":\"+c_id, r.hget(who+\":\"+c_id, \"x\"), r.hget(who+\":\"+c_id, \"y\"))\n",
    "    cx=int(r.hget(who+\":\"+c_id, \"x\"))\n",
    "    cy=int(r.hget(who+\":\"+c_id, \"y\"))\n",
    "    \n",
    "    while True:\n",
    "        _cx=cx+random.randint(-1, 1)\n",
    "        _cy=cy+random.randint(-1, 1)\n",
    "        if _cx>=1 and _cx<=sx and _cy>=1 and _cy<=sy:\n",
    "            break\n",
    "    r.hset(who+\":\"+c_id, \"x\", _cx)\n",
    "    r.hset(who+\":\"+c_id, \"y\", _cy)\n",
    "    r.lrem(\"tile:\"+str(cx)+\":\"+str(cy)+\":\"+who+\"s\", 0, c_id)\n",
    "    r.lpush(\"tile:\"+str(_cx)+\":\"+str(_cy)+\":\"+who+\"s\", c_id)\n",
    "\n",
    "    return cx, cy, _cx, _cy\n",
    "    \n",
    "\n",
    "def moveCarns():\n",
    "    carn_len=r.llen(\"carns_id\")\n",
    "    sx=int(r.hget(\"worldDescription\", \"sizeX\"))\n",
    "    sy=int(r.hget(\"worldDescription\", \"sizeY\"))\n",
    "    \n",
    "    for i in range(carn_len):\n",
    "        c_id=r.rpoplpush(\"carns_id\", \"carns_id\").decode()\n",
    "        cx, cy, _cx, _cy = moveIt(\"carn\", c_id, sx, sy)\n",
    "\n",
    "        h_cnt=int(r.hget(\"tile:\"+str(cy)+\":\"+str(cx), \"herbs\"))\n",
    "        if h_cnt>0:\n",
    "            r.hincrby(\"tile:\"+str(cy)+\":\"+str(cx), \"herbs\", -1)\n",
    "        #print(\"move \", cx, cy, _cx, _cy)\n",
    "\n",
    "def movePreds():\n",
    "    pred_len=r.llen(\"preds_id\")\n",
    "    sx=int(r.hget(\"worldDescription\", \"sizeX\"))\n",
    "    sy=int(r.hget(\"worldDescription\", \"sizeY\"))\n",
    "    for i in range(pred_len):\n",
    "        p_id=r.rpoplpush(\"preds_id\", \"preds_id\").decode()\n",
    "        cx, cy, _cx, _cy = moveIt(\"pred\", p_id, sx, sy)\n",
    "        # Кого-нибудь съесть.\n",
    "\n",
    "        #print(\"move \", cx, cy, _cx, _cy)\n",
    "\n"
   ]
  },
  {
   "cell_type": "code",
   "execution_count": 96,
   "metadata": {},
   "outputs": [
    {
     "data": {
      "image/png": "[encoded data removed]",
      "text/plain": [
       "<Figure size 864x576 with 1 Axes>"
      ]
     },
     "metadata": {},
     "output_type": "display_data"
    }
   ],
   "source": [
    "showField()"
   ]
  },
  {
   "cell_type": "code",
   "execution_count": 104,
   "metadata": {},
   "outputs": [
    {
     "data": {
      "image/png": "[encoded data removed]",
      "text/plain": [
       "<Figure size 864x576 with 1 Axes>"
      ]
     },
     "metadata": {},
     "output_type": "display_data"
    }
   ],
   "source": [
    "movePreds()\n",
    "moveCarns()\n",
    "showField()"
   ]
  },
  {
   "cell_type": "code",
   "execution_count": 181,
   "metadata": {},
   "outputs": [
    {
     "ename": "NameError",
     "evalue": "name 'hexists' is not defined",
     "output_type": "error",
     "traceback": [
      "\u001b[0;31m---------------------------------------------------------------------------\u001b[0m",
      "\u001b[0;31mNameError\u001b[0m                                 Traceback (most recent call last)",
      "\u001b[0;32m<ipython-input-181-2eb943fc9c85>\u001b[0m in \u001b[0;36m<module>\u001b[0;34m()\u001b[0m\n\u001b[0;32m----> 1\u001b[0;31m \u001b[0mhexists\u001b[0m\u001b[0;34m(\u001b[0m\u001b[0mname\u001b[0m\u001b[0;34m,\u001b[0m \u001b[0mkey\u001b[0m\u001b[0;34m)\u001b[0m\u001b[0;34m\u001b[0m\u001b[0;34m\u001b[0m\u001b[0m\n\u001b[0m",
      "\u001b[0;31mNameError\u001b[0m: name 'hexists' is not defined"
     ]
    }
   ],
   "source": [
    "hexists(name, key)"
   ]
  },
  {
   "cell_type": "markdown",
   "metadata": {},
   "source": [
    "<div style=\"background-color:#FF0000; color:#DDDDDD; font-size:20px\"> Обмен сообщениями и очередь задач с передачей параметров и возвращением значений.</div>"
   ]
  }
 ],
 "metadata": {
  "kernelspec": {
   "display_name": "Python 3",
   "language": "python",
   "name": "python3"
  },
  "language_info": {
   "codemirror_mode": {
    "name": "ipython",
    "version": 3
   },
   "file_extension": ".py",
   "mimetype": "text/x-python",
   "name": "python",
   "nbconvert_exporter": "python",
   "pygments_lexer": "ipython3",
   "version": "3.6.7"
  }
 },
 "nbformat": 4,
 "nbformat_minor": 2
}
