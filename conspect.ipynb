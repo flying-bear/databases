{
 "cells": [
  {
   "cell_type": "code",
   "execution_count": null,
   "metadata": {},
   "outputs": [],
   "source": [
    "# SELECT distinct author_entry.author_name FROM author_entry, text_entry WHERE author_entry.author_id = text_entry.author_id\n",
    "# SELECT text_entry.text_id, author_entry.author_name, languages.name, genres.genre_name FROM text_entry, author_entry, genres, languages \n",
    "# WHERE text_entry.author_id = author_entry.author_id and text_entry.genre_id = genres.genre_id and text_entry.language_id = languages.language_id"
   ]
  },
  {
   "cell_type": "code",
   "execution_count": null,
   "metadata": {},
   "outputs": [],
   "source": [
    "# SELECT db_2019.author_entry.gender, count(db_2019.author_entry.gender) as cnt FROM db_2019.author_entry group by db_2019.author_entry.gender order by cnt desc;\n",
    "# SELECT db_2019.author_entry.gender, count(db_2019.author_entry.gender) as cnt FROM db_2019.author_entry group by db_2019.author_entry.gender having cnt > 1;\n"
   ]
  },
  {
   "cell_type": "code",
   "execution_count": null,
   "metadata": {},
   "outputs": [],
   "source": [
    "# SELECT * FROM db_2019.word_entries limit 11, 5; #начиная с n штук"
   ]
  },
  {
   "cell_type": "code",
   "execution_count": null,
   "metadata": {},
   "outputs": [],
   "source": [
    "# SELECT * FROM (SELECT * FROM word_entries WHERE sent_no = 7) as tbl1, text_entry WHERE tbl1.texttext_entry_id = text_entry.text_id"
   ]
  },
  {
   "cell_type": "code",
   "execution_count": null,
   "metadata": {},
   "outputs": [],
   "source": [
    "# SELECT * FROM word_entries WHERE token = 'дорогая' AND text_id IN (SELECT text_entry.text_id FROM text_entry, genres WHERE text_entry.genre_id = genres.genre_id and genres.genre_name = 'боевик')\n",
    "\n",
    "# для нереализуемой иначе логики или для динамичного формирования и подставления в существуюший запрос"
   ]
  },
  {
   "cell_type": "code",
   "execution_count": null,
   "metadata": {},
   "outputs": [],
   "source": [
    "# SELECT w1.* FROM word_entries as w1, word_entries as w2 WHERE w1.token = w2.token AND w1.word_id <> w2.word_id"
   ]
  },
  {
   "cell_type": "code",
   "execution_count": null,
   "metadata": {},
   "outputs": [],
   "source": [
    "## index\n",
    "\n",
    "# SELECT count(*) FROM db_2019.word_entries; \n",
    "# SELECT * FROM db_2019.word_entries where token='в' or token='на' or token='по'\n",
    "# ALTER TABLE `db_2019`.`word_entries` ADD INDEX `by_tokens` (`token` ASC) VISIBLE;\n",
    "# SELECT * FROM db_2019.word_entries where token='в' or token='на' or token='по'\n",
    "# SELECT * FROM db_2019.word_entries where sent_no=50"
   ]
  },
  {
   "cell_type": "code",
   "execution_count": null,
   "metadata": {},
   "outputs": [],
   "source": [
    "## FULL JOIN\n",
    "# SELECT text_entry.text_id, languages.name AS `language`, genres.genre_name, author_entry.author_name FROM \n",
    "# ((text_entry \n",
    "# JOIN languages ON text_entry.language_id = languages.language_id) \n",
    "# JOIN genres ON text_entry.genre_id = genres.genre_id)\n",
    "# JOIN author_entry ON text_entry.author_id = author_entry.author_id"
   ]
  },
  {
   "cell_type": "code",
   "execution_count": null,
   "metadata": {},
   "outputs": [],
   "source": [
    "## RIGHT JOIN (always OUTER)\n",
    "# SELECT text_entry.text_id, languages.name AS `language`, genres.genre_name, author_entry.author_name FROM \n",
    "# ((text_entry \n",
    "# JOIN languages ON text_entry.language_id = languages.language_id) \n",
    "# JOIN genres ON text_entry.genre_id = genres.genre_id)\n",
    "# RIGHT JOIN author_entry ON text_entry.author_id = author_entry.author_id"
   ]
  },
  {
   "cell_type": "code",
   "execution_count": null,
   "metadata": {},
   "outputs": [],
   "source": [
    "## execution order\n",
    "# EXPLAIN\n",
    "# SELECT text_entry.text_id, languages.name AS `language`, genres.genre_name, author_entry.author_name FROM \n",
    "# ((text_entry \n",
    "# JOIN languages ON text_entry.language_id = languages.language_id) \n",
    "# JOIN genres ON text_entry.genre_id = genres.genre_id)\n",
    "# RIGHT JOIN author_entry ON text_entry.author_id = author_entry.author_id"
   ]
  }
 ],
 "metadata": {
  "kernelspec": {
   "display_name": "Python 3",
   "language": "python",
   "name": "python3"
  },
  "language_info": {
   "codemirror_mode": {
    "name": "ipython",
    "version": 3
   },
   "file_extension": ".py",
   "mimetype": "text/x-python",
   "name": "python",
   "nbconvert_exporter": "python",
   "pygments_lexer": "ipython3",
   "version": "3.6.7"
  }
 },
 "nbformat": 4,
 "nbformat_minor": 2
}
