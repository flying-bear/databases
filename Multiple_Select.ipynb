{
 "cells": [
  {
   "cell_type": "markdown",
   "metadata": {},
   "source": [
    "Основное на этом занятии было спроектировать структуру базы **исходя из постановки задачи**.\n",
    "\n",
    "Мы создал следующие таблицы:\n",
    "- author_entry хранит информацию об авторах; включает идентификатор автора, его имя, пол, даты рождения и смерти (с ними что-то не так);\n",
    "- Genres хранит справочник жанров; хранит идентификатор жанра, его название и комментарий на всякий случай;\n",
    "- languages хранит справочник языков; состоит из идентификатора языка и его названия;\n",
    "- text_entry хранит информацию о текстах; включает идентификатор текста, идентификатор языка текстса, идентификатор жанра, идентификатор автора, когда был создан.\n",
    "- word_entries - хранит слова текстов; включает идентификатор слова, токен слова, идентификатор текста в который оно входит, номер предложения и номер слова в предложении.\n",
    "\n",
    "Импорты библиотеки, подключение к базе."
   ]
  },
  {
   "cell_type": "code",
   "execution_count": 1,
   "metadata": {},
   "outputs": [],
   "source": [
    "import mysql.connector as mysql"
   ]
  },
  {
   "cell_type": "code",
   "execution_count": 2,
   "metadata": {},
   "outputs": [],
   "source": [
    "con = mysql.connect(user = 'bkl2019', password = 'bkl2019bkl2019', \n",
    "                    host = 'cosyco.ru', database = 'BKL2019')\n",
    "cur = con.cursor(dictionary=True)"
   ]
  },
  {
   "cell_type": "markdown",
   "metadata": {},
   "source": [
    "Берем \"Войну и мир\". В базу я также добавил \"Севастопольские рассказы\" и новости с Ленты.ру."
   ]
  },
  {
   "cell_type": "code",
   "execution_count": 3,
   "metadata": {},
   "outputs": [],
   "source": [
    "with open(\"/home/edward/papers/kourses/Advanced Python/HSE_complingvo_2019-20/AdvancedPython/data/war_and_peace.txt\") as infile:\n",
    "    text = infile.read()"
   ]
  },
  {
   "cell_type": "markdown",
   "metadata": {},
   "source": [
    "Делим на предложения ужасным образом."
   ]
  },
  {
   "cell_type": "code",
   "execution_count": 5,
   "metadata": {},
   "outputs": [],
   "source": [
    "sentences = text.split(\".\")"
   ]
  },
  {
   "cell_type": "markdown",
   "metadata": {},
   "source": [
    "Делим на слова не лучше."
   ]
  },
  {
   "cell_type": "code",
   "execution_count": 9,
   "metadata": {},
   "outputs": [],
   "source": [
    "words = []\n",
    "for sentence in sentences:\n",
    "    words.append(sentence.strip().split(\" \"))"
   ]
  },
  {
   "cell_type": "markdown",
   "metadata": {},
   "source": [
    "Поехали добавлять в базу слова.\n"
   ]
  },
  {
   "cell_type": "code",
   "execution_count": 17,
   "metadata": {},
   "outputs": [],
   "source": [
    "from tqdm import tqdm"
   ]
  },
  {
   "cell_type": "code",
   "execution_count": 23,
   "metadata": {},
   "outputs": [
    {
     "ename": "KeyboardInterrupt",
     "evalue": "",
     "output_type": "error",
     "traceback": [
      "\u001b[0;31m---------------------------------------------------------------------------\u001b[0m",
      "\u001b[0;31mKeyboardInterrupt\u001b[0m                         Traceback (most recent call last)",
      "\u001b[0;32m<ipython-input-23-16a39f95a425>\u001b[0m in \u001b[0;36m<module>\u001b[0;34m()\u001b[0m\n\u001b[1;32m     14\u001b[0m         \u001b[0;32mtry\u001b[0m\u001b[0;34m:\u001b[0m\u001b[0;34m\u001b[0m\u001b[0;34m\u001b[0m\u001b[0m\n\u001b[1;32m     15\u001b[0m             \u001b[0mcur\u001b[0m\u001b[0;34m.\u001b[0m\u001b[0mexecute\u001b[0m\u001b[0;34m(\u001b[0m\u001b[0mreq\u001b[0m\u001b[0;34m)\u001b[0m\u001b[0;34m\u001b[0m\u001b[0;34m\u001b[0m\u001b[0m\n\u001b[0;32m---> 16\u001b[0;31m             \u001b[0mcon\u001b[0m\u001b[0;34m.\u001b[0m\u001b[0mcommit\u001b[0m\u001b[0;34m(\u001b[0m\u001b[0;34m)\u001b[0m\u001b[0;34m\u001b[0m\u001b[0;34m\u001b[0m\u001b[0m\n\u001b[0m\u001b[1;32m     17\u001b[0m         \u001b[0;32mexcept\u001b[0m \u001b[0mException\u001b[0m \u001b[0;32mas\u001b[0m \u001b[0me\u001b[0m\u001b[0;34m:\u001b[0m\u001b[0;34m\u001b[0m\u001b[0;34m\u001b[0m\u001b[0m\n\u001b[1;32m     18\u001b[0m             \u001b[0mprint\u001b[0m\u001b[0;34m(\u001b[0m\u001b[0mreq\u001b[0m\u001b[0;34m)\u001b[0m\u001b[0;34m\u001b[0m\u001b[0;34m\u001b[0m\u001b[0m\n",
      "\u001b[0;32m/usr/local/lib/python3.6/dist-packages/mysql/connector/connection_cext.py\u001b[0m in \u001b[0;36mcommit\u001b[0;34m(self)\u001b[0m\n\u001b[1;32m    324\u001b[0m         \u001b[0;34m\"\"\"Commit current transaction\"\"\"\u001b[0m\u001b[0;34m\u001b[0m\u001b[0;34m\u001b[0m\u001b[0m\n\u001b[1;32m    325\u001b[0m         \u001b[0;32mif\u001b[0m \u001b[0mself\u001b[0m\u001b[0;34m.\u001b[0m\u001b[0m_cmysql\u001b[0m\u001b[0;34m:\u001b[0m\u001b[0;34m\u001b[0m\u001b[0;34m\u001b[0m\u001b[0m\n\u001b[0;32m--> 326\u001b[0;31m             \u001b[0mself\u001b[0m\u001b[0;34m.\u001b[0m\u001b[0m_cmysql\u001b[0m\u001b[0;34m.\u001b[0m\u001b[0mcommit\u001b[0m\u001b[0;34m(\u001b[0m\u001b[0;34m)\u001b[0m\u001b[0;34m\u001b[0m\u001b[0;34m\u001b[0m\u001b[0m\n\u001b[0m\u001b[1;32m    327\u001b[0m \u001b[0;34m\u001b[0m\u001b[0m\n\u001b[1;32m    328\u001b[0m     \u001b[0;32mdef\u001b[0m \u001b[0mrollback\u001b[0m\u001b[0;34m(\u001b[0m\u001b[0mself\u001b[0m\u001b[0;34m)\u001b[0m\u001b[0;34m:\u001b[0m\u001b[0;34m\u001b[0m\u001b[0;34m\u001b[0m\u001b[0m\n",
      "\u001b[0;31mKeyboardInterrupt\u001b[0m: "
     ]
    }
   ],
   "source": [
    "req = \"INSERT INTO  word_entries (token, text_id, sent_no, word_no) VALUES \"\n",
    "cntr = 0\n",
    "\n",
    "for sent_no, sent in enumerate(words):\n",
    "    for word_no, word in enumerate(sent):\n",
    "        word = word.strip()\n",
    "        if not word:\n",
    "            continue\n",
    "        word = word.replace(\"'\", \"\\\\'\")\n",
    "        req += f\"('{word}', 1, {sent_no}, {word_no}),\"\n",
    "        cntr += 1\n",
    "    if cntr >= 10:\n",
    "        req = req[:-1]\n",
    "        try:\n",
    "            cur.execute(req)\n",
    "            con.commit()\n",
    "        except Exception as e:\n",
    "            print(req)\n",
    "        cntr = 0\n",
    "        req = \"INSERT INTO  word_entries (token, text_id, sent_no, word_no) VALUES \"\n"
   ]
  },
  {
   "cell_type": "code",
   "execution_count": null,
   "metadata": {},
   "outputs": [],
   "source": [
    "#select distinct author_entry.author_name from author_entry, text_entry where author_entry.author_id = text_entry.author_id\n",
    "#select text_entry.text_id, author_entry.author_name, languages.name, genres.genre_name from text_entry, author_entry, genres, languages \n",
    "#where text_entry.author_id = author_entry.author_id and text_entry.genre_id = genres.genre_id and text_entry.language_id = languages.language_id"
   ]
  },
  {
   "cell_type": "code",
   "execution_count": null,
   "metadata": {},
   "outputs": [],
   "source": [
    "#SELECT db_2019.author_entry.gender, count(db_2019.author_entry.gender) as cnt FROM db_2019.author_entry group by db_2019.author_entry.gender order by cnt desc;\n",
    "#SELECT db_2019.author_entry.gender, count(db_2019.author_entry.gender) as cnt FROM db_2019.author_entry group by db_2019.author_entry.gender having cnt > 1;\n"
   ]
  },
  {
   "cell_type": "code",
   "execution_count": null,
   "metadata": {},
   "outputs": [],
   "source": [
    "#SELECT * FROM db_2019.word_entries limit 11, 5; #начиная с n штук"
   ]
  },
  {
   "cell_type": "code",
   "execution_count": null,
   "metadata": {},
   "outputs": [],
   "source": [
    "#SELECT * FROM (SELECT * FROM word_entries WHERE sent_no = 7) as tbl1, text_entry WHERE tbl1.texttext_entry_id = text_entry.text_id"
   ]
  }
 ],
 "metadata": {
  "kernelspec": {
   "display_name": "Python 3",
   "language": "python",
   "name": "python3"
  },
  "language_info": {
   "codemirror_mode": {
    "name": "ipython",
    "version": 3
   },
   "file_extension": ".py",
   "mimetype": "text/x-python",
   "name": "python",
   "nbconvert_exporter": "python",
   "pygments_lexer": "ipython3",
   "version": "3.6.7"
  }
 },
 "nbformat": 4,
 "nbformat_minor": 2
}
